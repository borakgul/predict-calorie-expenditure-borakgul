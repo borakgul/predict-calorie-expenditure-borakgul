{
 "cells": [
  {
   "cell_type": "markdown",
   "id": "39f9d0c3",
   "metadata": {
    "papermill": {
     "duration": 0.005807,
     "end_time": "2025-05-15T08:34:38.233959",
     "exception": false,
     "start_time": "2025-05-15T08:34:38.228152",
     "status": "completed"
    },
    "tags": []
   },
   "source": [
    "## 🔧 Version 2: Feature Engineering + Label Encoding\n",
    "\n",
    "This version prepares the dataset for machine learning models.  \n",
    "Steps included:\n",
    "- Importing necessary libraries\n",
    "- Adding engineered features like BMI, Intensity, Age × BMI, etc.\n",
    "- Encoding categorical variables (`Sex`)"
   ]
  },
  {
   "cell_type": "code",
   "execution_count": 1,
   "id": "8576d4ae",
   "metadata": {
    "execution": {
     "iopub.execute_input": "2025-05-15T08:34:38.245148Z",
     "iopub.status.busy": "2025-05-15T08:34:38.244753Z",
     "iopub.status.idle": "2025-05-15T08:34:41.832680Z",
     "shell.execute_reply": "2025-05-15T08:34:41.831913Z"
    },
    "papermill": {
     "duration": 3.595254,
     "end_time": "2025-05-15T08:34:41.834193",
     "exception": false,
     "start_time": "2025-05-15T08:34:38.238939",
     "status": "completed"
    },
    "tags": []
   },
   "outputs": [],
   "source": [
    "import pandas as pd\n",
    "import numpy as np\n",
    "import seaborn as sns\n",
    "import matplotlib.pyplot as plt\n",
    "from sklearn.preprocessing import LabelEncoder"
   ]
  },
  {
   "cell_type": "code",
   "execution_count": 2,
   "id": "e70c4481",
   "metadata": {
    "execution": {
     "iopub.execute_input": "2025-05-15T08:34:41.849141Z",
     "iopub.status.busy": "2025-05-15T08:34:41.848247Z",
     "iopub.status.idle": "2025-05-15T08:34:43.208068Z",
     "shell.execute_reply": "2025-05-15T08:34:43.207375Z"
    },
    "papermill": {
     "duration": 1.370237,
     "end_time": "2025-05-15T08:34:43.209658",
     "exception": false,
     "start_time": "2025-05-15T08:34:41.839421",
     "status": "completed"
    },
    "tags": []
   },
   "outputs": [],
   "source": [
    "# Load training and test datasets\n",
    "train = pd.read_csv(\"/kaggle/input/playground-series-s5e5/train.csv\")\n",
    "test = pd.read_csv(\"/kaggle/input/playground-series-s5e5/test.csv\")\n",
    "sample_submission = pd.read_csv(\"/kaggle/input/playground-series-s5e5/sample_submission.csv\")"
   ]
  },
  {
   "cell_type": "markdown",
   "id": "bb4461fc",
   "metadata": {
    "papermill": {
     "duration": 0.004694,
     "end_time": "2025-05-15T08:34:43.219479",
     "exception": false,
     "start_time": "2025-05-15T08:34:43.214785",
     "status": "completed"
    },
    "tags": []
   },
   "source": [
    "### 📐 Feature Engineering\n",
    "\n",
    "New features created:\n",
    "- **BMI** = Weight / (Height in meters)^2\n",
    "- **Intensity** = Duration × Heart Rate\n",
    "- **Age_BMI** = Age × BMI\n",
    "- **Cardio_Effort** = Heart Rate / Duration (plus 1 to avoid division by zero)"
   ]
  },
  {
   "cell_type": "code",
   "execution_count": 3,
   "id": "80feb823",
   "metadata": {
    "execution": {
     "iopub.execute_input": "2025-05-15T08:34:43.230485Z",
     "iopub.status.busy": "2025-05-15T08:34:43.230151Z",
     "iopub.status.idle": "2025-05-15T08:34:43.296472Z",
     "shell.execute_reply": "2025-05-15T08:34:43.295391Z"
    },
    "papermill": {
     "duration": 0.073975,
     "end_time": "2025-05-15T08:34:43.298149",
     "exception": false,
     "start_time": "2025-05-15T08:34:43.224174",
     "status": "completed"
    },
    "tags": []
   },
   "outputs": [],
   "source": [
    "def add_features(df):\n",
    "    df['BMI'] = df['Weight'] / ((df['Height'] / 100) ** 2)\n",
    "    df['Intensity'] = df['Duration'] * df['Heart_Rate']\n",
    "    df['Age_BMI'] = df['Age'] * df['BMI']\n",
    "    df['Cardio_Effort'] = df['Heart_Rate'] / (df['Duration'] + 1)\n",
    "    return df\n",
    "\n",
    "# Apply to both datasets\n",
    "train = add_features(train)\n",
    "test = add_features(test)"
   ]
  },
  {
   "cell_type": "markdown",
   "id": "dcfe548e",
   "metadata": {
    "papermill": {
     "duration": 0.00486,
     "end_time": "2025-05-15T08:34:43.308281",
     "exception": false,
     "start_time": "2025-05-15T08:34:43.303421",
     "status": "completed"
    },
    "tags": []
   },
   "source": [
    "### 🔢 Label Encoding for 'Sex'\n",
    "\n",
    "The 'Sex' column contains categorical values: \"male\" and \"female\".  \n",
    "We convert them into numerical format using LabelEncoder:\n",
    "- female → 0\n",
    "- male → 1\n"
   ]
  },
  {
   "cell_type": "code",
   "execution_count": 4,
   "id": "868e5aa6",
   "metadata": {
    "execution": {
     "iopub.execute_input": "2025-05-15T08:34:43.319201Z",
     "iopub.status.busy": "2025-05-15T08:34:43.318879Z",
     "iopub.status.idle": "2025-05-15T08:34:43.497967Z",
     "shell.execute_reply": "2025-05-15T08:34:43.497065Z"
    },
    "papermill": {
     "duration": 0.18638,
     "end_time": "2025-05-15T08:34:43.499574",
     "exception": false,
     "start_time": "2025-05-15T08:34:43.313194",
     "status": "completed"
    },
    "tags": []
   },
   "outputs": [],
   "source": [
    "le = LabelEncoder()\n",
    "train['Sex'] = le.fit_transform(train['Sex'])\n",
    "test['Sex'] = le.transform(test['Sex'])  # Important: use the same encoder\n"
   ]
  },
  {
   "cell_type": "markdown",
   "id": "a254a9e8",
   "metadata": {
    "papermill": {
     "duration": 0.004667,
     "end_time": "2025-05-15T08:34:43.509261",
     "exception": false,
     "start_time": "2025-05-15T08:34:43.504594",
     "status": "completed"
    },
    "tags": []
   },
   "source": [
    "### 📊 Preview the Updated Dataset\n"
   ]
  },
  {
   "cell_type": "code",
   "execution_count": 5,
   "id": "f251a9a4",
   "metadata": {
    "execution": {
     "iopub.execute_input": "2025-05-15T08:34:43.520275Z",
     "iopub.status.busy": "2025-05-15T08:34:43.519687Z",
     "iopub.status.idle": "2025-05-15T08:34:43.546507Z",
     "shell.execute_reply": "2025-05-15T08:34:43.545554Z"
    },
    "papermill": {
     "duration": 0.033884,
     "end_time": "2025-05-15T08:34:43.547913",
     "exception": false,
     "start_time": "2025-05-15T08:34:43.514029",
     "status": "completed"
    },
    "tags": []
   },
   "outputs": [
    {
     "data": {
      "text/html": [
       "<div>\n",
       "<style scoped>\n",
       "    .dataframe tbody tr th:only-of-type {\n",
       "        vertical-align: middle;\n",
       "    }\n",
       "\n",
       "    .dataframe tbody tr th {\n",
       "        vertical-align: top;\n",
       "    }\n",
       "\n",
       "    .dataframe thead th {\n",
       "        text-align: right;\n",
       "    }\n",
       "</style>\n",
       "<table border=\"1\" class=\"dataframe\">\n",
       "  <thead>\n",
       "    <tr style=\"text-align: right;\">\n",
       "      <th></th>\n",
       "      <th>id</th>\n",
       "      <th>Sex</th>\n",
       "      <th>Age</th>\n",
       "      <th>Height</th>\n",
       "      <th>Weight</th>\n",
       "      <th>Duration</th>\n",
       "      <th>Heart_Rate</th>\n",
       "      <th>Body_Temp</th>\n",
       "      <th>Calories</th>\n",
       "      <th>BMI</th>\n",
       "      <th>Intensity</th>\n",
       "      <th>Age_BMI</th>\n",
       "      <th>Cardio_Effort</th>\n",
       "    </tr>\n",
       "  </thead>\n",
       "  <tbody>\n",
       "    <tr>\n",
       "      <th>0</th>\n",
       "      <td>0</td>\n",
       "      <td>1</td>\n",
       "      <td>36</td>\n",
       "      <td>189.0</td>\n",
       "      <td>82.0</td>\n",
       "      <td>26.0</td>\n",
       "      <td>101.0</td>\n",
       "      <td>41.0</td>\n",
       "      <td>150.0</td>\n",
       "      <td>22.955684</td>\n",
       "      <td>2626.0</td>\n",
       "      <td>826.404636</td>\n",
       "      <td>3.740741</td>\n",
       "    </tr>\n",
       "    <tr>\n",
       "      <th>1</th>\n",
       "      <td>1</td>\n",
       "      <td>0</td>\n",
       "      <td>64</td>\n",
       "      <td>163.0</td>\n",
       "      <td>60.0</td>\n",
       "      <td>8.0</td>\n",
       "      <td>85.0</td>\n",
       "      <td>39.7</td>\n",
       "      <td>34.0</td>\n",
       "      <td>22.582709</td>\n",
       "      <td>680.0</td>\n",
       "      <td>1445.293387</td>\n",
       "      <td>9.444444</td>\n",
       "    </tr>\n",
       "    <tr>\n",
       "      <th>2</th>\n",
       "      <td>2</td>\n",
       "      <td>0</td>\n",
       "      <td>51</td>\n",
       "      <td>161.0</td>\n",
       "      <td>64.0</td>\n",
       "      <td>7.0</td>\n",
       "      <td>84.0</td>\n",
       "      <td>39.8</td>\n",
       "      <td>29.0</td>\n",
       "      <td>24.690405</td>\n",
       "      <td>588.0</td>\n",
       "      <td>1259.210679</td>\n",
       "      <td>10.500000</td>\n",
       "    </tr>\n",
       "    <tr>\n",
       "      <th>3</th>\n",
       "      <td>3</td>\n",
       "      <td>1</td>\n",
       "      <td>20</td>\n",
       "      <td>192.0</td>\n",
       "      <td>90.0</td>\n",
       "      <td>25.0</td>\n",
       "      <td>105.0</td>\n",
       "      <td>40.7</td>\n",
       "      <td>140.0</td>\n",
       "      <td>24.414062</td>\n",
       "      <td>2625.0</td>\n",
       "      <td>488.281250</td>\n",
       "      <td>4.038462</td>\n",
       "    </tr>\n",
       "    <tr>\n",
       "      <th>4</th>\n",
       "      <td>4</td>\n",
       "      <td>0</td>\n",
       "      <td>38</td>\n",
       "      <td>166.0</td>\n",
       "      <td>61.0</td>\n",
       "      <td>25.0</td>\n",
       "      <td>102.0</td>\n",
       "      <td>40.6</td>\n",
       "      <td>146.0</td>\n",
       "      <td>22.136740</td>\n",
       "      <td>2550.0</td>\n",
       "      <td>841.196110</td>\n",
       "      <td>3.923077</td>\n",
       "    </tr>\n",
       "  </tbody>\n",
       "</table>\n",
       "</div>"
      ],
      "text/plain": [
       "   id  Sex  Age  Height  Weight  Duration  Heart_Rate  Body_Temp  Calories  \\\n",
       "0   0    1   36   189.0    82.0      26.0       101.0       41.0     150.0   \n",
       "1   1    0   64   163.0    60.0       8.0        85.0       39.7      34.0   \n",
       "2   2    0   51   161.0    64.0       7.0        84.0       39.8      29.0   \n",
       "3   3    1   20   192.0    90.0      25.0       105.0       40.7     140.0   \n",
       "4   4    0   38   166.0    61.0      25.0       102.0       40.6     146.0   \n",
       "\n",
       "         BMI  Intensity      Age_BMI  Cardio_Effort  \n",
       "0  22.955684     2626.0   826.404636       3.740741  \n",
       "1  22.582709      680.0  1445.293387       9.444444  \n",
       "2  24.690405      588.0  1259.210679      10.500000  \n",
       "3  24.414062     2625.0   488.281250       4.038462  \n",
       "4  22.136740     2550.0   841.196110       3.923077  "
      ]
     },
     "execution_count": 5,
     "metadata": {},
     "output_type": "execute_result"
    }
   ],
   "source": [
    "train.head()"
   ]
  },
  {
   "cell_type": "markdown",
   "id": "6c03a15b",
   "metadata": {
    "papermill": {
     "duration": 0.004705,
     "end_time": "2025-05-15T08:34:43.558304",
     "exception": false,
     "start_time": "2025-05-15T08:34:43.553599",
     "status": "completed"
    },
    "tags": []
   },
   "source": [
    "## 🚀 Version 3: XGBoost Model with Feature Engineering\n",
    "\n",
    "This version includes:\n",
    "- Train/Validation split\n",
    "- Log transformation on target (`Calories`)\n",
    "- XGBoost training and validation\n",
    "- Prediction on test set\n",
    "- Saving the submission file"
   ]
  },
  {
   "cell_type": "code",
   "execution_count": 6,
   "id": "094d2692",
   "metadata": {
    "_cell_guid": "b1076dfc-b9ad-4769-8c92-a6c4dae69d19",
    "_uuid": "8f2839f25d086af736a60e9eeb907d3b93b6e0e5",
    "execution": {
     "iopub.execute_input": "2025-05-15T08:34:43.569856Z",
     "iopub.status.busy": "2025-05-15T08:34:43.569097Z",
     "iopub.status.idle": "2025-05-15T08:34:43.906584Z",
     "shell.execute_reply": "2025-05-15T08:34:43.905744Z"
    },
    "papermill": {
     "duration": 0.345041,
     "end_time": "2025-05-15T08:34:43.908220",
     "exception": false,
     "start_time": "2025-05-15T08:34:43.563179",
     "status": "completed"
    },
    "tags": []
   },
   "outputs": [],
   "source": [
    "from sklearn.model_selection import train_test_split\n",
    "from sklearn.metrics import mean_squared_error\n",
    "from xgboost import XGBRegressor"
   ]
  },
  {
   "cell_type": "code",
   "execution_count": 7,
   "id": "39f7844a",
   "metadata": {
    "execution": {
     "iopub.execute_input": "2025-05-15T08:34:43.919831Z",
     "iopub.status.busy": "2025-05-15T08:34:43.919087Z",
     "iopub.status.idle": "2025-05-15T08:34:43.970333Z",
     "shell.execute_reply": "2025-05-15T08:34:43.969482Z"
    },
    "papermill": {
     "duration": 0.058578,
     "end_time": "2025-05-15T08:34:43.971919",
     "exception": false,
     "start_time": "2025-05-15T08:34:43.913341",
     "status": "completed"
    },
    "tags": []
   },
   "outputs": [],
   "source": [
    "# Drop ID and target from input features\n",
    "X = train.drop(columns=['id', 'Calories'])\n",
    "y = train['Calories']"
   ]
  },
  {
   "cell_type": "markdown",
   "id": "16592aa1",
   "metadata": {
    "papermill": {
     "duration": 0.00486,
     "end_time": "2025-05-15T08:34:43.981965",
     "exception": false,
     "start_time": "2025-05-15T08:34:43.977105",
     "status": "completed"
    },
    "tags": []
   },
   "source": [
    "### 📐 Feature Engineering\n",
    "\n",
    "New features created:\n",
    "- **BMI** = Weight / (Height in meters)^2\n",
    "- **Intensity** = Duration × Heart Rate\n",
    "- **Age_BMI** = Age × BMI\n",
    "- **Cardio_Effort** = Heart Rate / Duration (plus 1 to avoid division by zero)\n"
   ]
  },
  {
   "cell_type": "code",
   "execution_count": 8,
   "id": "0d15810f",
   "metadata": {
    "execution": {
     "iopub.execute_input": "2025-05-15T08:34:43.993176Z",
     "iopub.status.busy": "2025-05-15T08:34:43.992837Z",
     "iopub.status.idle": "2025-05-15T08:34:44.177243Z",
     "shell.execute_reply": "2025-05-15T08:34:44.176499Z"
    },
    "papermill": {
     "duration": 0.191804,
     "end_time": "2025-05-15T08:34:44.178677",
     "exception": false,
     "start_time": "2025-05-15T08:34:43.986873",
     "status": "completed"
    },
    "tags": []
   },
   "outputs": [],
   "source": [
    "# Split data for validation\n",
    "X_train, X_val, y_train, y_val = train_test_split(X, y, test_size=0.2, random_state=42)\n",
    "\n",
    "# Apply log transformation to target (log1p to avoid log(0))\n",
    "y_train_log = np.log1p(y_train)\n",
    "y_val_log = np.log1p(y_val)"
   ]
  },
  {
   "cell_type": "markdown",
   "id": "62e09986",
   "metadata": {
    "papermill": {
     "duration": 0.00477,
     "end_time": "2025-05-15T08:34:44.188533",
     "exception": false,
     "start_time": "2025-05-15T08:34:44.183763",
     "status": "completed"
    },
    "tags": []
   },
   "source": [
    "### 🔢 Label Encoding for 'Sex'\n",
    "\n",
    "The 'Sex' column contains categorical values: \"male\" and \"female\".  \n",
    "We convert them into numerical format using LabelEncoder:\n",
    "- female → 0\n",
    "- male → 1\n"
   ]
  },
  {
   "cell_type": "code",
   "execution_count": 9,
   "id": "e5d57480",
   "metadata": {
    "execution": {
     "iopub.execute_input": "2025-05-15T08:34:44.199891Z",
     "iopub.status.busy": "2025-05-15T08:34:44.199290Z",
     "iopub.status.idle": "2025-05-15T08:34:44.254784Z",
     "shell.execute_reply": "2025-05-15T08:34:44.254120Z"
    },
    "papermill": {
     "duration": 0.062742,
     "end_time": "2025-05-15T08:34:44.256237",
     "exception": false,
     "start_time": "2025-05-15T08:34:44.193495",
     "status": "completed"
    },
    "tags": []
   },
   "outputs": [],
   "source": [
    "le = LabelEncoder()\n",
    "train['Sex'] = le.fit_transform(train['Sex'])\n",
    "test['Sex'] = le.transform(test['Sex'])  # Important: use the same encoder\n"
   ]
  },
  {
   "cell_type": "code",
   "execution_count": 10,
   "id": "9096346a",
   "metadata": {
    "execution": {
     "iopub.execute_input": "2025-05-15T08:34:44.267295Z",
     "iopub.status.busy": "2025-05-15T08:34:44.267026Z",
     "iopub.status.idle": "2025-05-15T08:34:44.270479Z",
     "shell.execute_reply": "2025-05-15T08:34:44.269837Z"
    },
    "papermill": {
     "duration": 0.010238,
     "end_time": "2025-05-15T08:34:44.271611",
     "exception": false,
     "start_time": "2025-05-15T08:34:44.261373",
     "status": "completed"
    },
    "tags": []
   },
   "outputs": [],
   "source": [
    "### 📊 Preview the Updated Dataset"
   ]
  },
  {
   "cell_type": "code",
   "execution_count": 11,
   "id": "fe41a9b9",
   "metadata": {
    "execution": {
     "iopub.execute_input": "2025-05-15T08:34:44.282075Z",
     "iopub.status.busy": "2025-05-15T08:34:44.281840Z",
     "iopub.status.idle": "2025-05-15T08:34:44.295650Z",
     "shell.execute_reply": "2025-05-15T08:34:44.294998Z"
    },
    "papermill": {
     "duration": 0.020346,
     "end_time": "2025-05-15T08:34:44.296745",
     "exception": false,
     "start_time": "2025-05-15T08:34:44.276399",
     "status": "completed"
    },
    "tags": []
   },
   "outputs": [
    {
     "data": {
      "text/html": [
       "<div>\n",
       "<style scoped>\n",
       "    .dataframe tbody tr th:only-of-type {\n",
       "        vertical-align: middle;\n",
       "    }\n",
       "\n",
       "    .dataframe tbody tr th {\n",
       "        vertical-align: top;\n",
       "    }\n",
       "\n",
       "    .dataframe thead th {\n",
       "        text-align: right;\n",
       "    }\n",
       "</style>\n",
       "<table border=\"1\" class=\"dataframe\">\n",
       "  <thead>\n",
       "    <tr style=\"text-align: right;\">\n",
       "      <th></th>\n",
       "      <th>id</th>\n",
       "      <th>Sex</th>\n",
       "      <th>Age</th>\n",
       "      <th>Height</th>\n",
       "      <th>Weight</th>\n",
       "      <th>Duration</th>\n",
       "      <th>Heart_Rate</th>\n",
       "      <th>Body_Temp</th>\n",
       "      <th>Calories</th>\n",
       "      <th>BMI</th>\n",
       "      <th>Intensity</th>\n",
       "      <th>Age_BMI</th>\n",
       "      <th>Cardio_Effort</th>\n",
       "    </tr>\n",
       "  </thead>\n",
       "  <tbody>\n",
       "    <tr>\n",
       "      <th>0</th>\n",
       "      <td>0</td>\n",
       "      <td>1</td>\n",
       "      <td>36</td>\n",
       "      <td>189.0</td>\n",
       "      <td>82.0</td>\n",
       "      <td>26.0</td>\n",
       "      <td>101.0</td>\n",
       "      <td>41.0</td>\n",
       "      <td>150.0</td>\n",
       "      <td>22.955684</td>\n",
       "      <td>2626.0</td>\n",
       "      <td>826.404636</td>\n",
       "      <td>3.740741</td>\n",
       "    </tr>\n",
       "    <tr>\n",
       "      <th>1</th>\n",
       "      <td>1</td>\n",
       "      <td>0</td>\n",
       "      <td>64</td>\n",
       "      <td>163.0</td>\n",
       "      <td>60.0</td>\n",
       "      <td>8.0</td>\n",
       "      <td>85.0</td>\n",
       "      <td>39.7</td>\n",
       "      <td>34.0</td>\n",
       "      <td>22.582709</td>\n",
       "      <td>680.0</td>\n",
       "      <td>1445.293387</td>\n",
       "      <td>9.444444</td>\n",
       "    </tr>\n",
       "    <tr>\n",
       "      <th>2</th>\n",
       "      <td>2</td>\n",
       "      <td>0</td>\n",
       "      <td>51</td>\n",
       "      <td>161.0</td>\n",
       "      <td>64.0</td>\n",
       "      <td>7.0</td>\n",
       "      <td>84.0</td>\n",
       "      <td>39.8</td>\n",
       "      <td>29.0</td>\n",
       "      <td>24.690405</td>\n",
       "      <td>588.0</td>\n",
       "      <td>1259.210679</td>\n",
       "      <td>10.500000</td>\n",
       "    </tr>\n",
       "    <tr>\n",
       "      <th>3</th>\n",
       "      <td>3</td>\n",
       "      <td>1</td>\n",
       "      <td>20</td>\n",
       "      <td>192.0</td>\n",
       "      <td>90.0</td>\n",
       "      <td>25.0</td>\n",
       "      <td>105.0</td>\n",
       "      <td>40.7</td>\n",
       "      <td>140.0</td>\n",
       "      <td>24.414062</td>\n",
       "      <td>2625.0</td>\n",
       "      <td>488.281250</td>\n",
       "      <td>4.038462</td>\n",
       "    </tr>\n",
       "    <tr>\n",
       "      <th>4</th>\n",
       "      <td>4</td>\n",
       "      <td>0</td>\n",
       "      <td>38</td>\n",
       "      <td>166.0</td>\n",
       "      <td>61.0</td>\n",
       "      <td>25.0</td>\n",
       "      <td>102.0</td>\n",
       "      <td>40.6</td>\n",
       "      <td>146.0</td>\n",
       "      <td>22.136740</td>\n",
       "      <td>2550.0</td>\n",
       "      <td>841.196110</td>\n",
       "      <td>3.923077</td>\n",
       "    </tr>\n",
       "  </tbody>\n",
       "</table>\n",
       "</div>"
      ],
      "text/plain": [
       "   id  Sex  Age  Height  Weight  Duration  Heart_Rate  Body_Temp  Calories  \\\n",
       "0   0    1   36   189.0    82.0      26.0       101.0       41.0     150.0   \n",
       "1   1    0   64   163.0    60.0       8.0        85.0       39.7      34.0   \n",
       "2   2    0   51   161.0    64.0       7.0        84.0       39.8      29.0   \n",
       "3   3    1   20   192.0    90.0      25.0       105.0       40.7     140.0   \n",
       "4   4    0   38   166.0    61.0      25.0       102.0       40.6     146.0   \n",
       "\n",
       "         BMI  Intensity      Age_BMI  Cardio_Effort  \n",
       "0  22.955684     2626.0   826.404636       3.740741  \n",
       "1  22.582709      680.0  1445.293387       9.444444  \n",
       "2  24.690405      588.0  1259.210679      10.500000  \n",
       "3  24.414062     2625.0   488.281250       4.038462  \n",
       "4  22.136740     2550.0   841.196110       3.923077  "
      ]
     },
     "execution_count": 11,
     "metadata": {},
     "output_type": "execute_result"
    }
   ],
   "source": [
    "train.head()"
   ]
  },
  {
   "cell_type": "markdown",
   "id": "6d7c3cbe",
   "metadata": {
    "papermill": {
     "duration": 0.004799,
     "end_time": "2025-05-15T08:34:44.306799",
     "exception": false,
     "start_time": "2025-05-15T08:34:44.302000",
     "status": "completed"
    },
    "tags": []
   },
   "source": [
    "## 🚀 Version 4: XGBoost Model Training (with log1p target)\n",
    "\n",
    "This version continues from Version 3 where feature engineering was completed.\n",
    "\n",
    "Steps:\n",
    "- Define input features `X` and target `y`\n",
    "- Split the training data for validation\n",
    "- Apply log transformation to the target\n",
    "- Train XGBoost regressor\n",
    "- Evaluate performance using RMSE (log)\n",
    "- Predict on the test set\n",
    "- Save the predictions in `submission_xgb_fe.csv`\n"
   ]
  },
  {
   "cell_type": "code",
   "execution_count": 12,
   "id": "e197e816",
   "metadata": {
    "execution": {
     "iopub.execute_input": "2025-05-15T08:34:44.318268Z",
     "iopub.status.busy": "2025-05-15T08:34:44.317678Z",
     "iopub.status.idle": "2025-05-15T08:34:44.321892Z",
     "shell.execute_reply": "2025-05-15T08:34:44.320970Z"
    },
    "papermill": {
     "duration": 0.01146,
     "end_time": "2025-05-15T08:34:44.323165",
     "exception": false,
     "start_time": "2025-05-15T08:34:44.311705",
     "status": "completed"
    },
    "tags": []
   },
   "outputs": [],
   "source": [
    "from sklearn.model_selection import train_test_split\n",
    "from sklearn.metrics import mean_squared_error\n",
    "from xgboost import XGBRegressor"
   ]
  },
  {
   "cell_type": "code",
   "execution_count": 13,
   "id": "6a7002bf",
   "metadata": {
    "execution": {
     "iopub.execute_input": "2025-05-15T08:34:44.334224Z",
     "iopub.status.busy": "2025-05-15T08:34:44.333973Z",
     "iopub.status.idle": "2025-05-15T08:34:44.382521Z",
     "shell.execute_reply": "2025-05-15T08:34:44.381732Z"
    },
    "papermill": {
     "duration": 0.055756,
     "end_time": "2025-05-15T08:34:44.384037",
     "exception": false,
     "start_time": "2025-05-15T08:34:44.328281",
     "status": "completed"
    },
    "tags": []
   },
   "outputs": [],
   "source": [
    "# Drop ID and Calories from training features\n",
    "X = train.drop(columns=['id', 'Calories'])\n",
    "y = train['Calories']"
   ]
  },
  {
   "cell_type": "code",
   "execution_count": 14,
   "id": "f8e93ca4",
   "metadata": {
    "execution": {
     "iopub.execute_input": "2025-05-15T08:34:44.395870Z",
     "iopub.status.busy": "2025-05-15T08:34:44.395602Z",
     "iopub.status.idle": "2025-05-15T08:34:44.549117Z",
     "shell.execute_reply": "2025-05-15T08:34:44.548338Z"
    },
    "papermill": {
     "duration": 0.161094,
     "end_time": "2025-05-15T08:34:44.550600",
     "exception": false,
     "start_time": "2025-05-15T08:34:44.389506",
     "status": "completed"
    },
    "tags": []
   },
   "outputs": [],
   "source": [
    "X_train, X_val, y_train, y_val = train_test_split(X, y, test_size=0.2, random_state=42)"
   ]
  },
  {
   "cell_type": "code",
   "execution_count": 15,
   "id": "0606af9f",
   "metadata": {
    "execution": {
     "iopub.execute_input": "2025-05-15T08:34:44.562228Z",
     "iopub.status.busy": "2025-05-15T08:34:44.561934Z",
     "iopub.status.idle": "2025-05-15T08:34:44.567900Z",
     "shell.execute_reply": "2025-05-15T08:34:44.567237Z"
    },
    "papermill": {
     "duration": 0.013179,
     "end_time": "2025-05-15T08:34:44.569131",
     "exception": false,
     "start_time": "2025-05-15T08:34:44.555952",
     "status": "completed"
    },
    "tags": []
   },
   "outputs": [],
   "source": [
    "y_train_log = np.log1p(y_train)\n",
    "y_val_log = np.log1p(y_val)"
   ]
  },
  {
   "cell_type": "markdown",
   "id": "501008a2",
   "metadata": {
    "papermill": {
     "duration": 0.004886,
     "end_time": "2025-05-15T08:34:44.579254",
     "exception": false,
     "start_time": "2025-05-15T08:34:44.574368",
     "status": "completed"
    },
    "tags": []
   },
   "source": [
    "### 🧠 Train XGBoost Regressor\n",
    "\n",
    "We use:\n",
    "- 500 estimators\n",
    "- Learning rate = 0.05\n",
    "- max_depth = 6\n",
    "- 80% subsample"
   ]
  },
  {
   "cell_type": "code",
   "execution_count": 16,
   "id": "352ec1e9",
   "metadata": {
    "execution": {
     "iopub.execute_input": "2025-05-15T08:34:44.591430Z",
     "iopub.status.busy": "2025-05-15T08:34:44.590799Z",
     "iopub.status.idle": "2025-05-15T08:34:55.662226Z",
     "shell.execute_reply": "2025-05-15T08:34:55.661378Z"
    },
    "papermill": {
     "duration": 11.078864,
     "end_time": "2025-05-15T08:34:55.663596",
     "exception": false,
     "start_time": "2025-05-15T08:34:44.584732",
     "status": "completed"
    },
    "tags": []
   },
   "outputs": [
    {
     "data": {
      "text/html": [
       "<style>#sk-container-id-1 {color: black;background-color: white;}#sk-container-id-1 pre{padding: 0;}#sk-container-id-1 div.sk-toggleable {background-color: white;}#sk-container-id-1 label.sk-toggleable__label {cursor: pointer;display: block;width: 100%;margin-bottom: 0;padding: 0.3em;box-sizing: border-box;text-align: center;}#sk-container-id-1 label.sk-toggleable__label-arrow:before {content: \"▸\";float: left;margin-right: 0.25em;color: #696969;}#sk-container-id-1 label.sk-toggleable__label-arrow:hover:before {color: black;}#sk-container-id-1 div.sk-estimator:hover label.sk-toggleable__label-arrow:before {color: black;}#sk-container-id-1 div.sk-toggleable__content {max-height: 0;max-width: 0;overflow: hidden;text-align: left;background-color: #f0f8ff;}#sk-container-id-1 div.sk-toggleable__content pre {margin: 0.2em;color: black;border-radius: 0.25em;background-color: #f0f8ff;}#sk-container-id-1 input.sk-toggleable__control:checked~div.sk-toggleable__content {max-height: 200px;max-width: 100%;overflow: auto;}#sk-container-id-1 input.sk-toggleable__control:checked~label.sk-toggleable__label-arrow:before {content: \"▾\";}#sk-container-id-1 div.sk-estimator input.sk-toggleable__control:checked~label.sk-toggleable__label {background-color: #d4ebff;}#sk-container-id-1 div.sk-label input.sk-toggleable__control:checked~label.sk-toggleable__label {background-color: #d4ebff;}#sk-container-id-1 input.sk-hidden--visually {border: 0;clip: rect(1px 1px 1px 1px);clip: rect(1px, 1px, 1px, 1px);height: 1px;margin: -1px;overflow: hidden;padding: 0;position: absolute;width: 1px;}#sk-container-id-1 div.sk-estimator {font-family: monospace;background-color: #f0f8ff;border: 1px dotted black;border-radius: 0.25em;box-sizing: border-box;margin-bottom: 0.5em;}#sk-container-id-1 div.sk-estimator:hover {background-color: #d4ebff;}#sk-container-id-1 div.sk-parallel-item::after {content: \"\";width: 100%;border-bottom: 1px solid gray;flex-grow: 1;}#sk-container-id-1 div.sk-label:hover label.sk-toggleable__label {background-color: #d4ebff;}#sk-container-id-1 div.sk-serial::before {content: \"\";position: absolute;border-left: 1px solid gray;box-sizing: border-box;top: 0;bottom: 0;left: 50%;z-index: 0;}#sk-container-id-1 div.sk-serial {display: flex;flex-direction: column;align-items: center;background-color: white;padding-right: 0.2em;padding-left: 0.2em;position: relative;}#sk-container-id-1 div.sk-item {position: relative;z-index: 1;}#sk-container-id-1 div.sk-parallel {display: flex;align-items: stretch;justify-content: center;background-color: white;position: relative;}#sk-container-id-1 div.sk-item::before, #sk-container-id-1 div.sk-parallel-item::before {content: \"\";position: absolute;border-left: 1px solid gray;box-sizing: border-box;top: 0;bottom: 0;left: 50%;z-index: -1;}#sk-container-id-1 div.sk-parallel-item {display: flex;flex-direction: column;z-index: 1;position: relative;background-color: white;}#sk-container-id-1 div.sk-parallel-item:first-child::after {align-self: flex-end;width: 50%;}#sk-container-id-1 div.sk-parallel-item:last-child::after {align-self: flex-start;width: 50%;}#sk-container-id-1 div.sk-parallel-item:only-child::after {width: 0;}#sk-container-id-1 div.sk-dashed-wrapped {border: 1px dashed gray;margin: 0 0.4em 0.5em 0.4em;box-sizing: border-box;padding-bottom: 0.4em;background-color: white;}#sk-container-id-1 div.sk-label label {font-family: monospace;font-weight: bold;display: inline-block;line-height: 1.2em;}#sk-container-id-1 div.sk-label-container {text-align: center;}#sk-container-id-1 div.sk-container {/* jupyter's `normalize.less` sets `[hidden] { display: none; }` but bootstrap.min.css set `[hidden] { display: none !important; }` so we also need the `!important` here to be able to override the default hidden behavior on the sphinx rendered scikit-learn.org. See: https://github.com/scikit-learn/scikit-learn/issues/21755 */display: inline-block !important;position: relative;}#sk-container-id-1 div.sk-text-repr-fallback {display: none;}</style><div id=\"sk-container-id-1\" class=\"sk-top-container\"><div class=\"sk-text-repr-fallback\"><pre>XGBRegressor(base_score=None, booster=None, callbacks=None,\n",
       "             colsample_bylevel=None, colsample_bynode=None,\n",
       "             colsample_bytree=0.8, device=None, early_stopping_rounds=None,\n",
       "             enable_categorical=False, eval_metric=None, feature_types=None,\n",
       "             gamma=None, grow_policy=None, importance_type=None,\n",
       "             interaction_constraints=None, learning_rate=0.05, max_bin=None,\n",
       "             max_cat_threshold=None, max_cat_to_onehot=None,\n",
       "             max_delta_step=None, max_depth=6, max_leaves=None,\n",
       "             min_child_weight=None, missing=nan, monotone_constraints=None,\n",
       "             multi_strategy=None, n_estimators=500, n_jobs=None,\n",
       "             num_parallel_tree=None, random_state=42, ...)</pre><b>In a Jupyter environment, please rerun this cell to show the HTML representation or trust the notebook. <br />On GitHub, the HTML representation is unable to render, please try loading this page with nbviewer.org.</b></div><div class=\"sk-container\" hidden><div class=\"sk-item\"><div class=\"sk-estimator sk-toggleable\"><input class=\"sk-toggleable__control sk-hidden--visually\" id=\"sk-estimator-id-1\" type=\"checkbox\" checked><label for=\"sk-estimator-id-1\" class=\"sk-toggleable__label sk-toggleable__label-arrow\">XGBRegressor</label><div class=\"sk-toggleable__content\"><pre>XGBRegressor(base_score=None, booster=None, callbacks=None,\n",
       "             colsample_bylevel=None, colsample_bynode=None,\n",
       "             colsample_bytree=0.8, device=None, early_stopping_rounds=None,\n",
       "             enable_categorical=False, eval_metric=None, feature_types=None,\n",
       "             gamma=None, grow_policy=None, importance_type=None,\n",
       "             interaction_constraints=None, learning_rate=0.05, max_bin=None,\n",
       "             max_cat_threshold=None, max_cat_to_onehot=None,\n",
       "             max_delta_step=None, max_depth=6, max_leaves=None,\n",
       "             min_child_weight=None, missing=nan, monotone_constraints=None,\n",
       "             multi_strategy=None, n_estimators=500, n_jobs=None,\n",
       "             num_parallel_tree=None, random_state=42, ...)</pre></div></div></div></div></div>"
      ],
      "text/plain": [
       "XGBRegressor(base_score=None, booster=None, callbacks=None,\n",
       "             colsample_bylevel=None, colsample_bynode=None,\n",
       "             colsample_bytree=0.8, device=None, early_stopping_rounds=None,\n",
       "             enable_categorical=False, eval_metric=None, feature_types=None,\n",
       "             gamma=None, grow_policy=None, importance_type=None,\n",
       "             interaction_constraints=None, learning_rate=0.05, max_bin=None,\n",
       "             max_cat_threshold=None, max_cat_to_onehot=None,\n",
       "             max_delta_step=None, max_depth=6, max_leaves=None,\n",
       "             min_child_weight=None, missing=nan, monotone_constraints=None,\n",
       "             multi_strategy=None, n_estimators=500, n_jobs=None,\n",
       "             num_parallel_tree=None, random_state=42, ...)"
      ]
     },
     "execution_count": 16,
     "metadata": {},
     "output_type": "execute_result"
    }
   ],
   "source": [
    "model = XGBRegressor(\n",
    "    n_estimators=500,\n",
    "    learning_rate=0.05,\n",
    "    max_depth=6,\n",
    "    subsample=0.8,\n",
    "    colsample_bytree=0.8,\n",
    "    random_state=42\n",
    ")\n",
    "\n",
    "model.fit(X_train, y_train_log)\n"
   ]
  },
  {
   "cell_type": "code",
   "execution_count": 17,
   "id": "650ab864",
   "metadata": {
    "execution": {
     "iopub.execute_input": "2025-05-15T08:34:55.676071Z",
     "iopub.status.busy": "2025-05-15T08:34:55.675555Z",
     "iopub.status.idle": "2025-05-15T08:34:56.356995Z",
     "shell.execute_reply": "2025-05-15T08:34:56.355375Z"
    },
    "papermill": {
     "duration": 0.688844,
     "end_time": "2025-05-15T08:34:56.358280",
     "exception": false,
     "start_time": "2025-05-15T08:34:55.669436",
     "status": "completed"
    },
    "tags": []
   },
   "outputs": [
    {
     "name": "stdout",
     "output_type": "stream",
     "text": [
      "Validation RMSE (log): 0.0602\n"
     ]
    }
   ],
   "source": [
    "y_val_pred_log = model.predict(X_val)\n",
    "rmse_log = np.sqrt(mean_squared_error(y_val_log, y_val_pred_log))\n",
    "print(f\"Validation RMSE (log): {rmse_log:.4f}\")"
   ]
  },
  {
   "cell_type": "markdown",
   "id": "30dead17",
   "metadata": {
    "papermill": {
     "duration": 0.00528,
     "end_time": "2025-05-15T08:34:56.369173",
     "exception": false,
     "start_time": "2025-05-15T08:34:56.363893",
     "status": "completed"
    },
    "tags": []
   },
   "source": [
    "### 📤 Make Predictions on Test Set and Save Submission"
   ]
  },
  {
   "cell_type": "code",
   "execution_count": 18,
   "id": "4eebf2da",
   "metadata": {
    "execution": {
     "iopub.execute_input": "2025-05-15T08:34:56.381083Z",
     "iopub.status.busy": "2025-05-15T08:34:56.380782Z",
     "iopub.status.idle": "2025-05-15T08:34:57.912291Z",
     "shell.execute_reply": "2025-05-15T08:34:57.911421Z"
    },
    "papermill": {
     "duration": 1.539412,
     "end_time": "2025-05-15T08:34:57.913865",
     "exception": false,
     "start_time": "2025-05-15T08:34:56.374453",
     "status": "completed"
    },
    "tags": []
   },
   "outputs": [],
   "source": [
    "X_test = test.drop(columns=['id'])\n",
    "test_preds_log = model.predict(X_test)\n",
    "test_preds = np.expm1(test_preds_log)\n",
    "test_preds = np.maximum(0, test_preds)  # MSLE compatibility\n",
    "\n",
    "# Save predictions\n",
    "sample_submission['Calories'] = test_preds\n",
    "sample_submission.to_csv(\"submission_xgb_fe.csv\", index=False)"
   ]
  },
  {
   "cell_type": "markdown",
   "id": "6613b0ed",
   "metadata": {
    "papermill": {
     "duration": 0.005168,
     "end_time": "2025-05-15T08:34:57.924685",
     "exception": false,
     "start_time": "2025-05-15T08:34:57.919517",
     "status": "completed"
    },
    "tags": []
   },
   "source": [
    "## 🐱 Version 5: CatBoost Model Training\n",
    "In this version:\n",
    "- We train a CatBoostRegressor on the same features\n",
    "- Log1p transformation is applied to the target\n",
    "- Predictions are saved in `submission_cb_fe.csv`"
   ]
  },
  {
   "cell_type": "code",
   "execution_count": 19,
   "id": "3ccd51c8",
   "metadata": {
    "execution": {
     "iopub.execute_input": "2025-05-15T08:34:57.936773Z",
     "iopub.status.busy": "2025-05-15T08:34:57.936152Z",
     "iopub.status.idle": "2025-05-15T08:34:58.371595Z",
     "shell.execute_reply": "2025-05-15T08:34:58.370802Z"
    },
    "papermill": {
     "duration": 0.443141,
     "end_time": "2025-05-15T08:34:58.373078",
     "exception": false,
     "start_time": "2025-05-15T08:34:57.929937",
     "status": "completed"
    },
    "tags": []
   },
   "outputs": [],
   "source": [
    "from catboost import CatBoostRegressor\n",
    "\n",
    "# Prepare training and validation sets\n",
    "X = train.drop(columns=['id', 'Calories'])\n",
    "y = train['Calories']\n",
    "\n",
    "X_train, X_val, y_train, y_val = train_test_split(\n",
    "    X, y, test_size=0.2, random_state=42\n",
    ")\n",
    "\n",
    "# Log transform the target\n",
    "y_train_log = np.log1p(y_train)\n",
    "y_val_log = np.log1p(y_val)\n"
   ]
  },
  {
   "cell_type": "code",
   "execution_count": 20,
   "id": "56e02849",
   "metadata": {
    "execution": {
     "iopub.execute_input": "2025-05-15T08:34:58.385916Z",
     "iopub.status.busy": "2025-05-15T08:34:58.385071Z",
     "iopub.status.idle": "2025-05-15T08:35:18.571027Z",
     "shell.execute_reply": "2025-05-15T08:35:18.570213Z"
    },
    "papermill": {
     "duration": 20.193514,
     "end_time": "2025-05-15T08:35:18.572390",
     "exception": false,
     "start_time": "2025-05-15T08:34:58.378876",
     "status": "completed"
    },
    "tags": []
   },
   "outputs": [
    {
     "data": {
      "text/plain": [
       "<catboost.core.CatBoostRegressor at 0x7bfe67809490>"
      ]
     },
     "execution_count": 20,
     "metadata": {},
     "output_type": "execute_result"
    }
   ],
   "source": [
    "cat_model = CatBoostRegressor(\n",
    "    iterations=500,\n",
    "    learning_rate=0.05,\n",
    "    depth=6,\n",
    "    verbose=0,\n",
    "    random_state=42\n",
    ")\n",
    "cat_model.fit(X_train, y_train_log)"
   ]
  },
  {
   "cell_type": "code",
   "execution_count": 21,
   "id": "c6b72237",
   "metadata": {
    "execution": {
     "iopub.execute_input": "2025-05-15T08:35:18.585379Z",
     "iopub.status.busy": "2025-05-15T08:35:18.584651Z",
     "iopub.status.idle": "2025-05-15T08:35:18.639267Z",
     "shell.execute_reply": "2025-05-15T08:35:18.638406Z"
    },
    "papermill": {
     "duration": 0.062574,
     "end_time": "2025-05-15T08:35:18.640760",
     "exception": false,
     "start_time": "2025-05-15T08:35:18.578186",
     "status": "completed"
    },
    "tags": []
   },
   "outputs": [
    {
     "name": "stdout",
     "output_type": "stream",
     "text": [
      "CatBoost Validation RMSE (log): 0.0603\n"
     ]
    }
   ],
   "source": [
    "val_preds_log = cat_model.predict(X_val)\n",
    "rmse_log = np.sqrt(mean_squared_error(y_val_log, val_preds_log))\n",
    "print(f\"CatBoost Validation RMSE (log): {rmse_log:.4f}\")"
   ]
  },
  {
   "cell_type": "code",
   "execution_count": 22,
   "id": "463a2020",
   "metadata": {
    "execution": {
     "iopub.execute_input": "2025-05-15T08:35:18.654228Z",
     "iopub.status.busy": "2025-05-15T08:35:18.653297Z",
     "iopub.status.idle": "2025-05-15T08:35:19.266479Z",
     "shell.execute_reply": "2025-05-15T08:35:19.265598Z"
    },
    "papermill": {
     "duration": 0.621458,
     "end_time": "2025-05-15T08:35:19.268109",
     "exception": false,
     "start_time": "2025-05-15T08:35:18.646651",
     "status": "completed"
    },
    "tags": []
   },
   "outputs": [],
   "source": [
    "X_test = test.drop(columns=['id'])\n",
    "test_preds_log = cat_model.predict(X_test)\n",
    "test_preds = np.expm1(test_preds_log)\n",
    "test_preds = np.maximum(0, test_preds)\n",
    "\n",
    "sample_submission['Calories'] = test_preds\n",
    "sample_submission.to_csv(\"submission_cb_fe.csv\", index=False)"
   ]
  }
 ],
 "metadata": {
  "kaggle": {
   "accelerator": "none",
   "dataSources": [
    {
     "databundleVersionId": 11893428,
     "sourceId": 91716,
     "sourceType": "competition"
    }
   ],
   "dockerImageVersionId": 31040,
   "isGpuEnabled": false,
   "isInternetEnabled": true,
   "language": "python",
   "sourceType": "notebook"
  },
  "kernelspec": {
   "display_name": "Python 3",
   "language": "python",
   "name": "python3"
  },
  "language_info": {
   "codemirror_mode": {
    "name": "ipython",
    "version": 3
   },
   "file_extension": ".py",
   "mimetype": "text/x-python",
   "name": "python",
   "nbconvert_exporter": "python",
   "pygments_lexer": "ipython3",
   "version": "3.11.11"
  },
  "papermill": {
   "default_parameters": {},
   "duration": 46.128362,
   "end_time": "2025-05-15T08:35:19.892453",
   "environment_variables": {},
   "exception": null,
   "input_path": "__notebook__.ipynb",
   "output_path": "__notebook__.ipynb",
   "parameters": {},
   "start_time": "2025-05-15T08:34:33.764091",
   "version": "2.6.0"
  }
 },
 "nbformat": 4,
 "nbformat_minor": 5
}
