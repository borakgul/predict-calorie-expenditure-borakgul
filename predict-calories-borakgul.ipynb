{
 "cells": [
  {
   "cell_type": "markdown",
   "id": "45061d5d",
   "metadata": {
    "papermill": {
     "duration": 0.006809,
     "end_time": "2025-05-15T07:56:08.389219",
     "exception": false,
     "start_time": "2025-05-15T07:56:08.382410",
     "status": "completed"
    },
    "tags": []
   },
   "source": [
    "## 🔧 Version 2: Feature Engineering + Label Encoding\n",
    "\n",
    "This version prepares the dataset for machine learning models.  \n",
    "Steps included:\n",
    "- Importing necessary libraries\n",
    "- Adding engineered features like BMI, Intensity, Age × BMI, etc.\n",
    "- Encoding categorical variables (`Sex`)"
   ]
  },
  {
   "cell_type": "code",
   "execution_count": 1,
   "id": "28aaef5b",
   "metadata": {
    "execution": {
     "iopub.execute_input": "2025-05-15T07:56:08.401965Z",
     "iopub.status.busy": "2025-05-15T07:56:08.401529Z",
     "iopub.status.idle": "2025-05-15T07:56:13.733313Z",
     "shell.execute_reply": "2025-05-15T07:56:13.731617Z"
    },
    "papermill": {
     "duration": 5.340732,
     "end_time": "2025-05-15T07:56:13.735845",
     "exception": false,
     "start_time": "2025-05-15T07:56:08.395113",
     "status": "completed"
    },
    "tags": []
   },
   "outputs": [],
   "source": [
    "import pandas as pd\n",
    "import numpy as np\n",
    "import seaborn as sns\n",
    "import matplotlib.pyplot as plt\n",
    "from sklearn.preprocessing import LabelEncoder"
   ]
  },
  {
   "cell_type": "code",
   "execution_count": 2,
   "id": "2df519b7",
   "metadata": {
    "execution": {
     "iopub.execute_input": "2025-05-15T07:56:13.751454Z",
     "iopub.status.busy": "2025-05-15T07:56:13.750754Z",
     "iopub.status.idle": "2025-05-15T07:56:15.205276Z",
     "shell.execute_reply": "2025-05-15T07:56:15.203852Z"
    },
    "papermill": {
     "duration": 1.463836,
     "end_time": "2025-05-15T07:56:15.207694",
     "exception": false,
     "start_time": "2025-05-15T07:56:13.743858",
     "status": "completed"
    },
    "tags": []
   },
   "outputs": [],
   "source": [
    "# Load training and test datasets\n",
    "train = pd.read_csv(\"/kaggle/input/playground-series-s5e5/train.csv\")\n",
    "test = pd.read_csv(\"/kaggle/input/playground-series-s5e5/test.csv\")\n",
    "sample_submission = pd.read_csv(\"/kaggle/input/playground-series-s5e5/sample_submission.csv\")"
   ]
  },
  {
   "cell_type": "markdown",
   "id": "07eb2bc5",
   "metadata": {
    "papermill": {
     "duration": 0.004566,
     "end_time": "2025-05-15T07:56:15.217503",
     "exception": false,
     "start_time": "2025-05-15T07:56:15.212937",
     "status": "completed"
    },
    "tags": []
   },
   "source": [
    "### 📐 Feature Engineering\n",
    "\n",
    "New features created:\n",
    "- **BMI** = Weight / (Height in meters)^2\n",
    "- **Intensity** = Duration × Heart Rate\n",
    "- **Age_BMI** = Age × BMI\n",
    "- **Cardio_Effort** = Heart Rate / Duration (plus 1 to avoid division by zero)"
   ]
  },
  {
   "cell_type": "code",
   "execution_count": 3,
   "id": "3b6f967c",
   "metadata": {
    "execution": {
     "iopub.execute_input": "2025-05-15T07:56:15.228909Z",
     "iopub.status.busy": "2025-05-15T07:56:15.227981Z",
     "iopub.status.idle": "2025-05-15T07:56:15.303124Z",
     "shell.execute_reply": "2025-05-15T07:56:15.301872Z"
    },
    "papermill": {
     "duration": 0.08311,
     "end_time": "2025-05-15T07:56:15.305263",
     "exception": false,
     "start_time": "2025-05-15T07:56:15.222153",
     "status": "completed"
    },
    "tags": []
   },
   "outputs": [],
   "source": [
    "def add_features(df):\n",
    "    df['BMI'] = df['Weight'] / ((df['Height'] / 100) ** 2)\n",
    "    df['Intensity'] = df['Duration'] * df['Heart_Rate']\n",
    "    df['Age_BMI'] = df['Age'] * df['BMI']\n",
    "    df['Cardio_Effort'] = df['Heart_Rate'] / (df['Duration'] + 1)\n",
    "    return df\n",
    "\n",
    "# Apply to both datasets\n",
    "train = add_features(train)\n",
    "test = add_features(test)"
   ]
  },
  {
   "cell_type": "markdown",
   "id": "8e124c41",
   "metadata": {
    "papermill": {
     "duration": 0.004512,
     "end_time": "2025-05-15T07:56:15.315120",
     "exception": false,
     "start_time": "2025-05-15T07:56:15.310608",
     "status": "completed"
    },
    "tags": []
   },
   "source": [
    "### 🔢 Label Encoding for 'Sex'\n",
    "\n",
    "The 'Sex' column contains categorical values: \"male\" and \"female\".  \n",
    "We convert them into numerical format using LabelEncoder:\n",
    "- female → 0\n",
    "- male → 1\n"
   ]
  },
  {
   "cell_type": "code",
   "execution_count": 4,
   "id": "c3ef7fbc",
   "metadata": {
    "execution": {
     "iopub.execute_input": "2025-05-15T07:56:15.326797Z",
     "iopub.status.busy": "2025-05-15T07:56:15.325457Z",
     "iopub.status.idle": "2025-05-15T07:56:15.537607Z",
     "shell.execute_reply": "2025-05-15T07:56:15.536081Z"
    },
    "papermill": {
     "duration": 0.220306,
     "end_time": "2025-05-15T07:56:15.539970",
     "exception": false,
     "start_time": "2025-05-15T07:56:15.319664",
     "status": "completed"
    },
    "tags": []
   },
   "outputs": [],
   "source": [
    "le = LabelEncoder()\n",
    "train['Sex'] = le.fit_transform(train['Sex'])\n",
    "test['Sex'] = le.transform(test['Sex'])  # Important: use the same encoder\n"
   ]
  },
  {
   "cell_type": "markdown",
   "id": "0a2bcecb",
   "metadata": {
    "papermill": {
     "duration": 0.004421,
     "end_time": "2025-05-15T07:56:15.549602",
     "exception": false,
     "start_time": "2025-05-15T07:56:15.545181",
     "status": "completed"
    },
    "tags": []
   },
   "source": [
    "### 📊 Preview the Updated Dataset\n"
   ]
  },
  {
   "cell_type": "code",
   "execution_count": 5,
   "id": "d8cca49e",
   "metadata": {
    "execution": {
     "iopub.execute_input": "2025-05-15T07:56:15.560556Z",
     "iopub.status.busy": "2025-05-15T07:56:15.560197Z",
     "iopub.status.idle": "2025-05-15T07:56:15.595348Z",
     "shell.execute_reply": "2025-05-15T07:56:15.593530Z"
    },
    "papermill": {
     "duration": 0.043807,
     "end_time": "2025-05-15T07:56:15.598173",
     "exception": false,
     "start_time": "2025-05-15T07:56:15.554366",
     "status": "completed"
    },
    "tags": []
   },
   "outputs": [
    {
     "data": {
      "text/html": [
       "<div>\n",
       "<style scoped>\n",
       "    .dataframe tbody tr th:only-of-type {\n",
       "        vertical-align: middle;\n",
       "    }\n",
       "\n",
       "    .dataframe tbody tr th {\n",
       "        vertical-align: top;\n",
       "    }\n",
       "\n",
       "    .dataframe thead th {\n",
       "        text-align: right;\n",
       "    }\n",
       "</style>\n",
       "<table border=\"1\" class=\"dataframe\">\n",
       "  <thead>\n",
       "    <tr style=\"text-align: right;\">\n",
       "      <th></th>\n",
       "      <th>id</th>\n",
       "      <th>Sex</th>\n",
       "      <th>Age</th>\n",
       "      <th>Height</th>\n",
       "      <th>Weight</th>\n",
       "      <th>Duration</th>\n",
       "      <th>Heart_Rate</th>\n",
       "      <th>Body_Temp</th>\n",
       "      <th>Calories</th>\n",
       "      <th>BMI</th>\n",
       "      <th>Intensity</th>\n",
       "      <th>Age_BMI</th>\n",
       "      <th>Cardio_Effort</th>\n",
       "    </tr>\n",
       "  </thead>\n",
       "  <tbody>\n",
       "    <tr>\n",
       "      <th>0</th>\n",
       "      <td>0</td>\n",
       "      <td>1</td>\n",
       "      <td>36</td>\n",
       "      <td>189.0</td>\n",
       "      <td>82.0</td>\n",
       "      <td>26.0</td>\n",
       "      <td>101.0</td>\n",
       "      <td>41.0</td>\n",
       "      <td>150.0</td>\n",
       "      <td>22.955684</td>\n",
       "      <td>2626.0</td>\n",
       "      <td>826.404636</td>\n",
       "      <td>3.740741</td>\n",
       "    </tr>\n",
       "    <tr>\n",
       "      <th>1</th>\n",
       "      <td>1</td>\n",
       "      <td>0</td>\n",
       "      <td>64</td>\n",
       "      <td>163.0</td>\n",
       "      <td>60.0</td>\n",
       "      <td>8.0</td>\n",
       "      <td>85.0</td>\n",
       "      <td>39.7</td>\n",
       "      <td>34.0</td>\n",
       "      <td>22.582709</td>\n",
       "      <td>680.0</td>\n",
       "      <td>1445.293387</td>\n",
       "      <td>9.444444</td>\n",
       "    </tr>\n",
       "    <tr>\n",
       "      <th>2</th>\n",
       "      <td>2</td>\n",
       "      <td>0</td>\n",
       "      <td>51</td>\n",
       "      <td>161.0</td>\n",
       "      <td>64.0</td>\n",
       "      <td>7.0</td>\n",
       "      <td>84.0</td>\n",
       "      <td>39.8</td>\n",
       "      <td>29.0</td>\n",
       "      <td>24.690405</td>\n",
       "      <td>588.0</td>\n",
       "      <td>1259.210679</td>\n",
       "      <td>10.500000</td>\n",
       "    </tr>\n",
       "    <tr>\n",
       "      <th>3</th>\n",
       "      <td>3</td>\n",
       "      <td>1</td>\n",
       "      <td>20</td>\n",
       "      <td>192.0</td>\n",
       "      <td>90.0</td>\n",
       "      <td>25.0</td>\n",
       "      <td>105.0</td>\n",
       "      <td>40.7</td>\n",
       "      <td>140.0</td>\n",
       "      <td>24.414062</td>\n",
       "      <td>2625.0</td>\n",
       "      <td>488.281250</td>\n",
       "      <td>4.038462</td>\n",
       "    </tr>\n",
       "    <tr>\n",
       "      <th>4</th>\n",
       "      <td>4</td>\n",
       "      <td>0</td>\n",
       "      <td>38</td>\n",
       "      <td>166.0</td>\n",
       "      <td>61.0</td>\n",
       "      <td>25.0</td>\n",
       "      <td>102.0</td>\n",
       "      <td>40.6</td>\n",
       "      <td>146.0</td>\n",
       "      <td>22.136740</td>\n",
       "      <td>2550.0</td>\n",
       "      <td>841.196110</td>\n",
       "      <td>3.923077</td>\n",
       "    </tr>\n",
       "  </tbody>\n",
       "</table>\n",
       "</div>"
      ],
      "text/plain": [
       "   id  Sex  Age  Height  Weight  Duration  Heart_Rate  Body_Temp  Calories  \\\n",
       "0   0    1   36   189.0    82.0      26.0       101.0       41.0     150.0   \n",
       "1   1    0   64   163.0    60.0       8.0        85.0       39.7      34.0   \n",
       "2   2    0   51   161.0    64.0       7.0        84.0       39.8      29.0   \n",
       "3   3    1   20   192.0    90.0      25.0       105.0       40.7     140.0   \n",
       "4   4    0   38   166.0    61.0      25.0       102.0       40.6     146.0   \n",
       "\n",
       "         BMI  Intensity      Age_BMI  Cardio_Effort  \n",
       "0  22.955684     2626.0   826.404636       3.740741  \n",
       "1  22.582709      680.0  1445.293387       9.444444  \n",
       "2  24.690405      588.0  1259.210679      10.500000  \n",
       "3  24.414062     2625.0   488.281250       4.038462  \n",
       "4  22.136740     2550.0   841.196110       3.923077  "
      ]
     },
     "execution_count": 5,
     "metadata": {},
     "output_type": "execute_result"
    }
   ],
   "source": [
    "train.head()"
   ]
  },
  {
   "cell_type": "markdown",
   "id": "1ad7b325",
   "metadata": {
    "papermill": {
     "duration": 0.005041,
     "end_time": "2025-05-15T07:56:15.608752",
     "exception": false,
     "start_time": "2025-05-15T07:56:15.603711",
     "status": "completed"
    },
    "tags": []
   },
   "source": [
    "## 🚀 Version 3: XGBoost Model with Feature Engineering\n",
    "\n",
    "This version includes:\n",
    "- Train/Validation split\n",
    "- Log transformation on target (`Calories`)\n",
    "- XGBoost training and validation\n",
    "- Prediction on test set\n",
    "- Saving the submission file"
   ]
  },
  {
   "cell_type": "code",
   "execution_count": 6,
   "id": "b54c7fc4",
   "metadata": {
    "_cell_guid": "b1076dfc-b9ad-4769-8c92-a6c4dae69d19",
    "_uuid": "8f2839f25d086af736a60e9eeb907d3b93b6e0e5",
    "execution": {
     "iopub.execute_input": "2025-05-15T07:56:15.620808Z",
     "iopub.status.busy": "2025-05-15T07:56:15.620391Z",
     "iopub.status.idle": "2025-05-15T07:56:16.098985Z",
     "shell.execute_reply": "2025-05-15T07:56:16.097535Z"
    },
    "papermill": {
     "duration": 0.487432,
     "end_time": "2025-05-15T07:56:16.101488",
     "exception": false,
     "start_time": "2025-05-15T07:56:15.614056",
     "status": "completed"
    },
    "tags": []
   },
   "outputs": [],
   "source": [
    "from sklearn.model_selection import train_test_split\n",
    "from sklearn.metrics import mean_squared_error\n",
    "from xgboost import XGBRegressor"
   ]
  },
  {
   "cell_type": "code",
   "execution_count": 7,
   "id": "3f1f589e",
   "metadata": {
    "execution": {
     "iopub.execute_input": "2025-05-15T07:56:16.114570Z",
     "iopub.status.busy": "2025-05-15T07:56:16.114184Z",
     "iopub.status.idle": "2025-05-15T07:56:16.183991Z",
     "shell.execute_reply": "2025-05-15T07:56:16.182861Z"
    },
    "papermill": {
     "duration": 0.078664,
     "end_time": "2025-05-15T07:56:16.186096",
     "exception": false,
     "start_time": "2025-05-15T07:56:16.107432",
     "status": "completed"
    },
    "tags": []
   },
   "outputs": [],
   "source": [
    "# Drop ID and target from input features\n",
    "X = train.drop(columns=['id', 'Calories'])\n",
    "y = train['Calories']"
   ]
  },
  {
   "cell_type": "markdown",
   "id": "a8cfd0ad",
   "metadata": {
    "papermill": {
     "duration": 0.005055,
     "end_time": "2025-05-15T07:56:16.196446",
     "exception": false,
     "start_time": "2025-05-15T07:56:16.191391",
     "status": "completed"
    },
    "tags": []
   },
   "source": [
    "### 📐 Feature Engineering\n",
    "\n",
    "New features created:\n",
    "- **BMI** = Weight / (Height in meters)^2\n",
    "- **Intensity** = Duration × Heart Rate\n",
    "- **Age_BMI** = Age × BMI\n",
    "- **Cardio_Effort** = Heart Rate / Duration (plus 1 to avoid division by zero)\n"
   ]
  },
  {
   "cell_type": "code",
   "execution_count": 8,
   "id": "23dd332c",
   "metadata": {
    "execution": {
     "iopub.execute_input": "2025-05-15T07:56:16.210180Z",
     "iopub.status.busy": "2025-05-15T07:56:16.209693Z",
     "iopub.status.idle": "2025-05-15T07:56:16.460616Z",
     "shell.execute_reply": "2025-05-15T07:56:16.459368Z"
    },
    "papermill": {
     "duration": 0.261021,
     "end_time": "2025-05-15T07:56:16.462652",
     "exception": false,
     "start_time": "2025-05-15T07:56:16.201631",
     "status": "completed"
    },
    "tags": []
   },
   "outputs": [],
   "source": [
    "# Split data for validation\n",
    "X_train, X_val, y_train, y_val = train_test_split(X, y, test_size=0.2, random_state=42)\n",
    "\n",
    "# Apply log transformation to target (log1p to avoid log(0))\n",
    "y_train_log = np.log1p(y_train)\n",
    "y_val_log = np.log1p(y_val)"
   ]
  },
  {
   "cell_type": "markdown",
   "id": "aeb8271d",
   "metadata": {
    "papermill": {
     "duration": 0.005234,
     "end_time": "2025-05-15T07:56:16.474221",
     "exception": false,
     "start_time": "2025-05-15T07:56:16.468987",
     "status": "completed"
    },
    "tags": []
   },
   "source": [
    "### 🔢 Label Encoding for 'Sex'\n",
    "\n",
    "The 'Sex' column contains categorical values: \"male\" and \"female\".  \n",
    "We convert them into numerical format using LabelEncoder:\n",
    "- female → 0\n",
    "- male → 1\n"
   ]
  },
  {
   "cell_type": "code",
   "execution_count": 9,
   "id": "1cde2eb1",
   "metadata": {
    "execution": {
     "iopub.execute_input": "2025-05-15T07:56:16.487268Z",
     "iopub.status.busy": "2025-05-15T07:56:16.486369Z",
     "iopub.status.idle": "2025-05-15T07:56:16.571986Z",
     "shell.execute_reply": "2025-05-15T07:56:16.570768Z"
    },
    "papermill": {
     "duration": 0.09464,
     "end_time": "2025-05-15T07:56:16.574180",
     "exception": false,
     "start_time": "2025-05-15T07:56:16.479540",
     "status": "completed"
    },
    "tags": []
   },
   "outputs": [],
   "source": [
    "le = LabelEncoder()\n",
    "train['Sex'] = le.fit_transform(train['Sex'])\n",
    "test['Sex'] = le.transform(test['Sex'])  # Important: use the same encoder\n"
   ]
  },
  {
   "cell_type": "code",
   "execution_count": 10,
   "id": "ee5a1419",
   "metadata": {
    "execution": {
     "iopub.execute_input": "2025-05-15T07:56:16.587741Z",
     "iopub.status.busy": "2025-05-15T07:56:16.587355Z",
     "iopub.status.idle": "2025-05-15T07:56:16.592323Z",
     "shell.execute_reply": "2025-05-15T07:56:16.591232Z"
    },
    "papermill": {
     "duration": 0.014127,
     "end_time": "2025-05-15T07:56:16.594422",
     "exception": false,
     "start_time": "2025-05-15T07:56:16.580295",
     "status": "completed"
    },
    "tags": []
   },
   "outputs": [],
   "source": [
    "### 📊 Preview the Updated Dataset"
   ]
  },
  {
   "cell_type": "code",
   "execution_count": 11,
   "id": "8f8ac735",
   "metadata": {
    "execution": {
     "iopub.execute_input": "2025-05-15T07:56:16.607704Z",
     "iopub.status.busy": "2025-05-15T07:56:16.607324Z",
     "iopub.status.idle": "2025-05-15T07:56:16.627813Z",
     "shell.execute_reply": "2025-05-15T07:56:16.626639Z"
    },
    "papermill": {
     "duration": 0.029603,
     "end_time": "2025-05-15T07:56:16.629843",
     "exception": false,
     "start_time": "2025-05-15T07:56:16.600240",
     "status": "completed"
    },
    "tags": []
   },
   "outputs": [
    {
     "data": {
      "text/html": [
       "<div>\n",
       "<style scoped>\n",
       "    .dataframe tbody tr th:only-of-type {\n",
       "        vertical-align: middle;\n",
       "    }\n",
       "\n",
       "    .dataframe tbody tr th {\n",
       "        vertical-align: top;\n",
       "    }\n",
       "\n",
       "    .dataframe thead th {\n",
       "        text-align: right;\n",
       "    }\n",
       "</style>\n",
       "<table border=\"1\" class=\"dataframe\">\n",
       "  <thead>\n",
       "    <tr style=\"text-align: right;\">\n",
       "      <th></th>\n",
       "      <th>id</th>\n",
       "      <th>Sex</th>\n",
       "      <th>Age</th>\n",
       "      <th>Height</th>\n",
       "      <th>Weight</th>\n",
       "      <th>Duration</th>\n",
       "      <th>Heart_Rate</th>\n",
       "      <th>Body_Temp</th>\n",
       "      <th>Calories</th>\n",
       "      <th>BMI</th>\n",
       "      <th>Intensity</th>\n",
       "      <th>Age_BMI</th>\n",
       "      <th>Cardio_Effort</th>\n",
       "    </tr>\n",
       "  </thead>\n",
       "  <tbody>\n",
       "    <tr>\n",
       "      <th>0</th>\n",
       "      <td>0</td>\n",
       "      <td>1</td>\n",
       "      <td>36</td>\n",
       "      <td>189.0</td>\n",
       "      <td>82.0</td>\n",
       "      <td>26.0</td>\n",
       "      <td>101.0</td>\n",
       "      <td>41.0</td>\n",
       "      <td>150.0</td>\n",
       "      <td>22.955684</td>\n",
       "      <td>2626.0</td>\n",
       "      <td>826.404636</td>\n",
       "      <td>3.740741</td>\n",
       "    </tr>\n",
       "    <tr>\n",
       "      <th>1</th>\n",
       "      <td>1</td>\n",
       "      <td>0</td>\n",
       "      <td>64</td>\n",
       "      <td>163.0</td>\n",
       "      <td>60.0</td>\n",
       "      <td>8.0</td>\n",
       "      <td>85.0</td>\n",
       "      <td>39.7</td>\n",
       "      <td>34.0</td>\n",
       "      <td>22.582709</td>\n",
       "      <td>680.0</td>\n",
       "      <td>1445.293387</td>\n",
       "      <td>9.444444</td>\n",
       "    </tr>\n",
       "    <tr>\n",
       "      <th>2</th>\n",
       "      <td>2</td>\n",
       "      <td>0</td>\n",
       "      <td>51</td>\n",
       "      <td>161.0</td>\n",
       "      <td>64.0</td>\n",
       "      <td>7.0</td>\n",
       "      <td>84.0</td>\n",
       "      <td>39.8</td>\n",
       "      <td>29.0</td>\n",
       "      <td>24.690405</td>\n",
       "      <td>588.0</td>\n",
       "      <td>1259.210679</td>\n",
       "      <td>10.500000</td>\n",
       "    </tr>\n",
       "    <tr>\n",
       "      <th>3</th>\n",
       "      <td>3</td>\n",
       "      <td>1</td>\n",
       "      <td>20</td>\n",
       "      <td>192.0</td>\n",
       "      <td>90.0</td>\n",
       "      <td>25.0</td>\n",
       "      <td>105.0</td>\n",
       "      <td>40.7</td>\n",
       "      <td>140.0</td>\n",
       "      <td>24.414062</td>\n",
       "      <td>2625.0</td>\n",
       "      <td>488.281250</td>\n",
       "      <td>4.038462</td>\n",
       "    </tr>\n",
       "    <tr>\n",
       "      <th>4</th>\n",
       "      <td>4</td>\n",
       "      <td>0</td>\n",
       "      <td>38</td>\n",
       "      <td>166.0</td>\n",
       "      <td>61.0</td>\n",
       "      <td>25.0</td>\n",
       "      <td>102.0</td>\n",
       "      <td>40.6</td>\n",
       "      <td>146.0</td>\n",
       "      <td>22.136740</td>\n",
       "      <td>2550.0</td>\n",
       "      <td>841.196110</td>\n",
       "      <td>3.923077</td>\n",
       "    </tr>\n",
       "  </tbody>\n",
       "</table>\n",
       "</div>"
      ],
      "text/plain": [
       "   id  Sex  Age  Height  Weight  Duration  Heart_Rate  Body_Temp  Calories  \\\n",
       "0   0    1   36   189.0    82.0      26.0       101.0       41.0     150.0   \n",
       "1   1    0   64   163.0    60.0       8.0        85.0       39.7      34.0   \n",
       "2   2    0   51   161.0    64.0       7.0        84.0       39.8      29.0   \n",
       "3   3    1   20   192.0    90.0      25.0       105.0       40.7     140.0   \n",
       "4   4    0   38   166.0    61.0      25.0       102.0       40.6     146.0   \n",
       "\n",
       "         BMI  Intensity      Age_BMI  Cardio_Effort  \n",
       "0  22.955684     2626.0   826.404636       3.740741  \n",
       "1  22.582709      680.0  1445.293387       9.444444  \n",
       "2  24.690405      588.0  1259.210679      10.500000  \n",
       "3  24.414062     2625.0   488.281250       4.038462  \n",
       "4  22.136740     2550.0   841.196110       3.923077  "
      ]
     },
     "execution_count": 11,
     "metadata": {},
     "output_type": "execute_result"
    }
   ],
   "source": [
    "train.head()"
   ]
  },
  {
   "cell_type": "markdown",
   "id": "d59eecac",
   "metadata": {
    "papermill": {
     "duration": 0.005363,
     "end_time": "2025-05-15T07:56:16.641238",
     "exception": false,
     "start_time": "2025-05-15T07:56:16.635875",
     "status": "completed"
    },
    "tags": []
   },
   "source": [
    "## 🚀 Version 4: XGBoost Model Training (with log1p target)\n",
    "\n",
    "This version continues from Version 3 where feature engineering was completed.\n",
    "\n",
    "Steps:\n",
    "- Define input features `X` and target `y`\n",
    "- Split the training data for validation\n",
    "- Apply log transformation to the target\n",
    "- Train XGBoost regressor\n",
    "- Evaluate performance using RMSE (log)\n",
    "- Predict on the test set\n",
    "- Save the predictions in `submission_xgb_fe.csv`\n"
   ]
  },
  {
   "cell_type": "code",
   "execution_count": 12,
   "id": "3bbeedc8",
   "metadata": {
    "execution": {
     "iopub.execute_input": "2025-05-15T07:56:16.654460Z",
     "iopub.status.busy": "2025-05-15T07:56:16.653956Z",
     "iopub.status.idle": "2025-05-15T07:56:16.660444Z",
     "shell.execute_reply": "2025-05-15T07:56:16.658856Z"
    },
    "papermill": {
     "duration": 0.015835,
     "end_time": "2025-05-15T07:56:16.662715",
     "exception": false,
     "start_time": "2025-05-15T07:56:16.646880",
     "status": "completed"
    },
    "tags": []
   },
   "outputs": [],
   "source": [
    "from sklearn.model_selection import train_test_split\n",
    "from sklearn.metrics import mean_squared_error\n",
    "from xgboost import XGBRegressor"
   ]
  },
  {
   "cell_type": "code",
   "execution_count": 13,
   "id": "28494672",
   "metadata": {
    "execution": {
     "iopub.execute_input": "2025-05-15T07:56:16.676414Z",
     "iopub.status.busy": "2025-05-15T07:56:16.675968Z",
     "iopub.status.idle": "2025-05-15T07:56:16.742049Z",
     "shell.execute_reply": "2025-05-15T07:56:16.740689Z"
    },
    "papermill": {
     "duration": 0.075538,
     "end_time": "2025-05-15T07:56:16.744401",
     "exception": false,
     "start_time": "2025-05-15T07:56:16.668863",
     "status": "completed"
    },
    "tags": []
   },
   "outputs": [],
   "source": [
    "# Drop ID and Calories from training features\n",
    "X = train.drop(columns=['id', 'Calories'])\n",
    "y = train['Calories']"
   ]
  },
  {
   "cell_type": "code",
   "execution_count": 14,
   "id": "e6d68825",
   "metadata": {
    "execution": {
     "iopub.execute_input": "2025-05-15T07:56:16.762436Z",
     "iopub.status.busy": "2025-05-15T07:56:16.760716Z",
     "iopub.status.idle": "2025-05-15T07:56:16.964139Z",
     "shell.execute_reply": "2025-05-15T07:56:16.962740Z"
    },
    "papermill": {
     "duration": 0.215061,
     "end_time": "2025-05-15T07:56:16.966367",
     "exception": false,
     "start_time": "2025-05-15T07:56:16.751306",
     "status": "completed"
    },
    "tags": []
   },
   "outputs": [],
   "source": [
    "X_train, X_val, y_train, y_val = train_test_split(X, y, test_size=0.2, random_state=42)"
   ]
  },
  {
   "cell_type": "code",
   "execution_count": 15,
   "id": "a5366c62",
   "metadata": {
    "execution": {
     "iopub.execute_input": "2025-05-15T07:56:16.980705Z",
     "iopub.status.busy": "2025-05-15T07:56:16.979634Z",
     "iopub.status.idle": "2025-05-15T07:56:16.988482Z",
     "shell.execute_reply": "2025-05-15T07:56:16.987500Z"
    },
    "papermill": {
     "duration": 0.018606,
     "end_time": "2025-05-15T07:56:16.991061",
     "exception": false,
     "start_time": "2025-05-15T07:56:16.972455",
     "status": "completed"
    },
    "tags": []
   },
   "outputs": [],
   "source": [
    "y_train_log = np.log1p(y_train)\n",
    "y_val_log = np.log1p(y_val)"
   ]
  },
  {
   "cell_type": "markdown",
   "id": "782951b2",
   "metadata": {
    "papermill": {
     "duration": 0.006056,
     "end_time": "2025-05-15T07:56:17.004328",
     "exception": false,
     "start_time": "2025-05-15T07:56:16.998272",
     "status": "completed"
    },
    "tags": []
   },
   "source": [
    "### 🧠 Train XGBoost Regressor\n",
    "\n",
    "We use:\n",
    "- 500 estimators\n",
    "- Learning rate = 0.05\n",
    "- max_depth = 6\n",
    "- 80% subsample"
   ]
  },
  {
   "cell_type": "code",
   "execution_count": 16,
   "id": "1e499dbe",
   "metadata": {
    "execution": {
     "iopub.execute_input": "2025-05-15T07:56:17.019355Z",
     "iopub.status.busy": "2025-05-15T07:56:17.018918Z",
     "iopub.status.idle": "2025-05-15T07:56:31.801729Z",
     "shell.execute_reply": "2025-05-15T07:56:31.800534Z"
    },
    "papermill": {
     "duration": 14.793049,
     "end_time": "2025-05-15T07:56:31.803846",
     "exception": false,
     "start_time": "2025-05-15T07:56:17.010797",
     "status": "completed"
    },
    "tags": []
   },
   "outputs": [
    {
     "data": {
      "text/html": [
       "<style>#sk-container-id-1 {color: black;background-color: white;}#sk-container-id-1 pre{padding: 0;}#sk-container-id-1 div.sk-toggleable {background-color: white;}#sk-container-id-1 label.sk-toggleable__label {cursor: pointer;display: block;width: 100%;margin-bottom: 0;padding: 0.3em;box-sizing: border-box;text-align: center;}#sk-container-id-1 label.sk-toggleable__label-arrow:before {content: \"▸\";float: left;margin-right: 0.25em;color: #696969;}#sk-container-id-1 label.sk-toggleable__label-arrow:hover:before {color: black;}#sk-container-id-1 div.sk-estimator:hover label.sk-toggleable__label-arrow:before {color: black;}#sk-container-id-1 div.sk-toggleable__content {max-height: 0;max-width: 0;overflow: hidden;text-align: left;background-color: #f0f8ff;}#sk-container-id-1 div.sk-toggleable__content pre {margin: 0.2em;color: black;border-radius: 0.25em;background-color: #f0f8ff;}#sk-container-id-1 input.sk-toggleable__control:checked~div.sk-toggleable__content {max-height: 200px;max-width: 100%;overflow: auto;}#sk-container-id-1 input.sk-toggleable__control:checked~label.sk-toggleable__label-arrow:before {content: \"▾\";}#sk-container-id-1 div.sk-estimator input.sk-toggleable__control:checked~label.sk-toggleable__label {background-color: #d4ebff;}#sk-container-id-1 div.sk-label input.sk-toggleable__control:checked~label.sk-toggleable__label {background-color: #d4ebff;}#sk-container-id-1 input.sk-hidden--visually {border: 0;clip: rect(1px 1px 1px 1px);clip: rect(1px, 1px, 1px, 1px);height: 1px;margin: -1px;overflow: hidden;padding: 0;position: absolute;width: 1px;}#sk-container-id-1 div.sk-estimator {font-family: monospace;background-color: #f0f8ff;border: 1px dotted black;border-radius: 0.25em;box-sizing: border-box;margin-bottom: 0.5em;}#sk-container-id-1 div.sk-estimator:hover {background-color: #d4ebff;}#sk-container-id-1 div.sk-parallel-item::after {content: \"\";width: 100%;border-bottom: 1px solid gray;flex-grow: 1;}#sk-container-id-1 div.sk-label:hover label.sk-toggleable__label {background-color: #d4ebff;}#sk-container-id-1 div.sk-serial::before {content: \"\";position: absolute;border-left: 1px solid gray;box-sizing: border-box;top: 0;bottom: 0;left: 50%;z-index: 0;}#sk-container-id-1 div.sk-serial {display: flex;flex-direction: column;align-items: center;background-color: white;padding-right: 0.2em;padding-left: 0.2em;position: relative;}#sk-container-id-1 div.sk-item {position: relative;z-index: 1;}#sk-container-id-1 div.sk-parallel {display: flex;align-items: stretch;justify-content: center;background-color: white;position: relative;}#sk-container-id-1 div.sk-item::before, #sk-container-id-1 div.sk-parallel-item::before {content: \"\";position: absolute;border-left: 1px solid gray;box-sizing: border-box;top: 0;bottom: 0;left: 50%;z-index: -1;}#sk-container-id-1 div.sk-parallel-item {display: flex;flex-direction: column;z-index: 1;position: relative;background-color: white;}#sk-container-id-1 div.sk-parallel-item:first-child::after {align-self: flex-end;width: 50%;}#sk-container-id-1 div.sk-parallel-item:last-child::after {align-self: flex-start;width: 50%;}#sk-container-id-1 div.sk-parallel-item:only-child::after {width: 0;}#sk-container-id-1 div.sk-dashed-wrapped {border: 1px dashed gray;margin: 0 0.4em 0.5em 0.4em;box-sizing: border-box;padding-bottom: 0.4em;background-color: white;}#sk-container-id-1 div.sk-label label {font-family: monospace;font-weight: bold;display: inline-block;line-height: 1.2em;}#sk-container-id-1 div.sk-label-container {text-align: center;}#sk-container-id-1 div.sk-container {/* jupyter's `normalize.less` sets `[hidden] { display: none; }` but bootstrap.min.css set `[hidden] { display: none !important; }` so we also need the `!important` here to be able to override the default hidden behavior on the sphinx rendered scikit-learn.org. See: https://github.com/scikit-learn/scikit-learn/issues/21755 */display: inline-block !important;position: relative;}#sk-container-id-1 div.sk-text-repr-fallback {display: none;}</style><div id=\"sk-container-id-1\" class=\"sk-top-container\"><div class=\"sk-text-repr-fallback\"><pre>XGBRegressor(base_score=None, booster=None, callbacks=None,\n",
       "             colsample_bylevel=None, colsample_bynode=None,\n",
       "             colsample_bytree=0.8, device=None, early_stopping_rounds=None,\n",
       "             enable_categorical=False, eval_metric=None, feature_types=None,\n",
       "             gamma=None, grow_policy=None, importance_type=None,\n",
       "             interaction_constraints=None, learning_rate=0.05, max_bin=None,\n",
       "             max_cat_threshold=None, max_cat_to_onehot=None,\n",
       "             max_delta_step=None, max_depth=6, max_leaves=None,\n",
       "             min_child_weight=None, missing=nan, monotone_constraints=None,\n",
       "             multi_strategy=None, n_estimators=500, n_jobs=None,\n",
       "             num_parallel_tree=None, random_state=42, ...)</pre><b>In a Jupyter environment, please rerun this cell to show the HTML representation or trust the notebook. <br />On GitHub, the HTML representation is unable to render, please try loading this page with nbviewer.org.</b></div><div class=\"sk-container\" hidden><div class=\"sk-item\"><div class=\"sk-estimator sk-toggleable\"><input class=\"sk-toggleable__control sk-hidden--visually\" id=\"sk-estimator-id-1\" type=\"checkbox\" checked><label for=\"sk-estimator-id-1\" class=\"sk-toggleable__label sk-toggleable__label-arrow\">XGBRegressor</label><div class=\"sk-toggleable__content\"><pre>XGBRegressor(base_score=None, booster=None, callbacks=None,\n",
       "             colsample_bylevel=None, colsample_bynode=None,\n",
       "             colsample_bytree=0.8, device=None, early_stopping_rounds=None,\n",
       "             enable_categorical=False, eval_metric=None, feature_types=None,\n",
       "             gamma=None, grow_policy=None, importance_type=None,\n",
       "             interaction_constraints=None, learning_rate=0.05, max_bin=None,\n",
       "             max_cat_threshold=None, max_cat_to_onehot=None,\n",
       "             max_delta_step=None, max_depth=6, max_leaves=None,\n",
       "             min_child_weight=None, missing=nan, monotone_constraints=None,\n",
       "             multi_strategy=None, n_estimators=500, n_jobs=None,\n",
       "             num_parallel_tree=None, random_state=42, ...)</pre></div></div></div></div></div>"
      ],
      "text/plain": [
       "XGBRegressor(base_score=None, booster=None, callbacks=None,\n",
       "             colsample_bylevel=None, colsample_bynode=None,\n",
       "             colsample_bytree=0.8, device=None, early_stopping_rounds=None,\n",
       "             enable_categorical=False, eval_metric=None, feature_types=None,\n",
       "             gamma=None, grow_policy=None, importance_type=None,\n",
       "             interaction_constraints=None, learning_rate=0.05, max_bin=None,\n",
       "             max_cat_threshold=None, max_cat_to_onehot=None,\n",
       "             max_delta_step=None, max_depth=6, max_leaves=None,\n",
       "             min_child_weight=None, missing=nan, monotone_constraints=None,\n",
       "             multi_strategy=None, n_estimators=500, n_jobs=None,\n",
       "             num_parallel_tree=None, random_state=42, ...)"
      ]
     },
     "execution_count": 16,
     "metadata": {},
     "output_type": "execute_result"
    }
   ],
   "source": [
    "model = XGBRegressor(\n",
    "    n_estimators=500,\n",
    "    learning_rate=0.05,\n",
    "    max_depth=6,\n",
    "    subsample=0.8,\n",
    "    colsample_bytree=0.8,\n",
    "    random_state=42\n",
    ")\n",
    "\n",
    "model.fit(X_train, y_train_log)\n"
   ]
  },
  {
   "cell_type": "code",
   "execution_count": 17,
   "id": "75a74d07",
   "metadata": {
    "execution": {
     "iopub.execute_input": "2025-05-15T07:56:31.820557Z",
     "iopub.status.busy": "2025-05-15T07:56:31.819805Z",
     "iopub.status.idle": "2025-05-15T07:56:32.608739Z",
     "shell.execute_reply": "2025-05-15T07:56:32.606195Z"
    },
    "papermill": {
     "duration": 0.799817,
     "end_time": "2025-05-15T07:56:32.610656",
     "exception": false,
     "start_time": "2025-05-15T07:56:31.810839",
     "status": "completed"
    },
    "tags": []
   },
   "outputs": [
    {
     "name": "stdout",
     "output_type": "stream",
     "text": [
      "Validation RMSE (log): 0.0602\n"
     ]
    }
   ],
   "source": [
    "y_val_pred_log = model.predict(X_val)\n",
    "rmse_log = np.sqrt(mean_squared_error(y_val_log, y_val_pred_log))\n",
    "print(f\"Validation RMSE (log): {rmse_log:.4f}\")"
   ]
  },
  {
   "cell_type": "markdown",
   "id": "b9a35057",
   "metadata": {
    "papermill": {
     "duration": 0.006402,
     "end_time": "2025-05-15T07:56:32.624375",
     "exception": false,
     "start_time": "2025-05-15T07:56:32.617973",
     "status": "completed"
    },
    "tags": []
   },
   "source": [
    "### 📤 Make Predictions on Test Set and Save Submission"
   ]
  },
  {
   "cell_type": "code",
   "execution_count": 18,
   "id": "b5d7d52d",
   "metadata": {
    "execution": {
     "iopub.execute_input": "2025-05-15T07:56:32.639523Z",
     "iopub.status.busy": "2025-05-15T07:56:32.639149Z",
     "iopub.status.idle": "2025-05-15T07:56:34.357953Z",
     "shell.execute_reply": "2025-05-15T07:56:34.356745Z"
    },
    "papermill": {
     "duration": 1.728693,
     "end_time": "2025-05-15T07:56:34.359988",
     "exception": false,
     "start_time": "2025-05-15T07:56:32.631295",
     "status": "completed"
    },
    "tags": []
   },
   "outputs": [],
   "source": [
    "X_test = test.drop(columns=['id'])\n",
    "test_preds_log = model.predict(X_test)\n",
    "test_preds = np.expm1(test_preds_log)\n",
    "test_preds = np.maximum(0, test_preds)  # MSLE compatibility\n",
    "\n",
    "# Save predictions\n",
    "sample_submission['Calories'] = test_preds\n",
    "sample_submission.to_csv(\"submission_xgb_fe.csv\", index=False)"
   ]
  }
 ],
 "metadata": {
  "kaggle": {
   "accelerator": "none",
   "dataSources": [
    {
     "databundleVersionId": 11893428,
     "sourceId": 91716,
     "sourceType": "competition"
    }
   ],
   "dockerImageVersionId": 31040,
   "isGpuEnabled": false,
   "isInternetEnabled": true,
   "language": "python",
   "sourceType": "notebook"
  },
  "kernelspec": {
   "display_name": "Python 3",
   "language": "python",
   "name": "python3"
  },
  "language_info": {
   "codemirror_mode": {
    "name": "ipython",
    "version": 3
   },
   "file_extension": ".py",
   "mimetype": "text/x-python",
   "name": "python",
   "nbconvert_exporter": "python",
   "pygments_lexer": "ipython3",
   "version": "3.11.11"
  },
  "papermill": {
   "default_parameters": {},
   "duration": 33.17734,
   "end_time": "2025-05-15T07:56:35.290557",
   "environment_variables": {},
   "exception": null,
   "input_path": "__notebook__.ipynb",
   "output_path": "__notebook__.ipynb",
   "parameters": {},
   "start_time": "2025-05-15T07:56:02.113217",
   "version": "2.6.0"
  }
 },
 "nbformat": 4,
 "nbformat_minor": 5
}
