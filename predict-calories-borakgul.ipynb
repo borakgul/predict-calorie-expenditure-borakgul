{
 "cells": [
  {
   "cell_type": "markdown",
   "id": "1aa32683",
   "metadata": {
    "papermill": {
     "duration": 0.002941,
     "end_time": "2025-05-15T07:00:43.789085",
     "exception": false,
     "start_time": "2025-05-15T07:00:43.786144",
     "status": "completed"
    },
    "tags": []
   },
   "source": [
    "## 🔧 Version 3: Feature Engineering + Label Encoding\n",
    "\n",
    "This version prepares the dataset for machine learning models.  \n",
    "Steps included:\n",
    "- Importing necessary libraries\n",
    "- Adding engineered features like BMI, Intensity, Age × BMI, etc.\n",
    "- Encoding categorical variables (`Sex`)\n"
   ]
  },
  {
   "cell_type": "code",
   "execution_count": 1,
   "id": "5ff7ad7b",
   "metadata": {
    "_cell_guid": "b1076dfc-b9ad-4769-8c92-a6c4dae69d19",
    "_uuid": "8f2839f25d086af736a60e9eeb907d3b93b6e0e5",
    "execution": {
     "iopub.execute_input": "2025-05-15T07:00:43.796350Z",
     "iopub.status.busy": "2025-05-15T07:00:43.795957Z",
     "iopub.status.idle": "2025-05-15T07:00:48.856659Z",
     "shell.execute_reply": "2025-05-15T07:00:48.855473Z"
    },
    "papermill": {
     "duration": 5.066653,
     "end_time": "2025-05-15T07:00:48.858590",
     "exception": false,
     "start_time": "2025-05-15T07:00:43.791937",
     "status": "completed"
    },
    "tags": []
   },
   "outputs": [],
   "source": [
    "import pandas as pd\n",
    "import numpy as np\n",
    "import seaborn as sns\n",
    "import matplotlib.pyplot as plt\n",
    "from sklearn.preprocessing import LabelEncoder\n"
   ]
  },
  {
   "cell_type": "code",
   "execution_count": 2,
   "id": "7527504c",
   "metadata": {
    "execution": {
     "iopub.execute_input": "2025-05-15T07:00:48.865258Z",
     "iopub.status.busy": "2025-05-15T07:00:48.864640Z",
     "iopub.status.idle": "2025-05-15T07:00:50.471630Z",
     "shell.execute_reply": "2025-05-15T07:00:50.470678Z"
    },
    "papermill": {
     "duration": 1.612562,
     "end_time": "2025-05-15T07:00:50.473705",
     "exception": false,
     "start_time": "2025-05-15T07:00:48.861143",
     "status": "completed"
    },
    "tags": []
   },
   "outputs": [],
   "source": [
    "# Load training and test datasets\n",
    "train = pd.read_csv(\"/kaggle/input/playground-series-s5e5/train.csv\")\n",
    "test = pd.read_csv(\"/kaggle/input/playground-series-s5e5/test.csv\")\n",
    "sample_submission = pd.read_csv(\"/kaggle/input/playground-series-s5e5/sample_submission.csv\")\n"
   ]
  },
  {
   "cell_type": "markdown",
   "id": "3498279e",
   "metadata": {
    "papermill": {
     "duration": 0.002153,
     "end_time": "2025-05-15T07:00:50.478495",
     "exception": false,
     "start_time": "2025-05-15T07:00:50.476342",
     "status": "completed"
    },
    "tags": []
   },
   "source": [
    "### 📐 Feature Engineering\n",
    "\n",
    "New features created:\n",
    "- **BMI** = Weight / (Height in meters)^2\n",
    "- **Intensity** = Duration × Heart Rate\n",
    "- **Age_BMI** = Age × BMI\n",
    "- **Cardio_Effort** = Heart Rate / Duration (plus 1 to avoid division by zero)\n"
   ]
  },
  {
   "cell_type": "code",
   "execution_count": 3,
   "id": "7e00aabd",
   "metadata": {
    "execution": {
     "iopub.execute_input": "2025-05-15T07:00:50.485709Z",
     "iopub.status.busy": "2025-05-15T07:00:50.484554Z",
     "iopub.status.idle": "2025-05-15T07:00:50.553283Z",
     "shell.execute_reply": "2025-05-15T07:00:50.551816Z"
    },
    "papermill": {
     "duration": 0.074745,
     "end_time": "2025-05-15T07:00:50.555632",
     "exception": false,
     "start_time": "2025-05-15T07:00:50.480887",
     "status": "completed"
    },
    "tags": []
   },
   "outputs": [],
   "source": [
    "def add_features(df):\n",
    "    df['BMI'] = df['Weight'] / ((df['Height'] / 100) ** 2)\n",
    "    df['Intensity'] = df['Duration'] * df['Heart_Rate']\n",
    "    df['Age_BMI'] = df['Age'] * df['BMI']\n",
    "    df['Cardio_Effort'] = df['Heart_Rate'] / (df['Duration'] + 1)\n",
    "    return df\n",
    "\n",
    "# Apply to both datasets\n",
    "train = add_features(train)\n",
    "test = add_features(test)"
   ]
  },
  {
   "cell_type": "markdown",
   "id": "222a11ab",
   "metadata": {
    "papermill": {
     "duration": 0.002665,
     "end_time": "2025-05-15T07:00:50.561813",
     "exception": false,
     "start_time": "2025-05-15T07:00:50.559148",
     "status": "completed"
    },
    "tags": []
   },
   "source": [
    "### 🔢 Label Encoding for 'Sex'\n",
    "\n",
    "The 'Sex' column contains categorical values: \"male\" and \"female\".  \n",
    "We convert them into numerical format using LabelEncoder:\n",
    "- female → 0\n",
    "- male → 1\n"
   ]
  },
  {
   "cell_type": "code",
   "execution_count": 4,
   "id": "78725d6d",
   "metadata": {
    "execution": {
     "iopub.execute_input": "2025-05-15T07:00:50.569879Z",
     "iopub.status.busy": "2025-05-15T07:00:50.569533Z",
     "iopub.status.idle": "2025-05-15T07:00:50.763136Z",
     "shell.execute_reply": "2025-05-15T07:00:50.762063Z"
    },
    "papermill": {
     "duration": 0.200021,
     "end_time": "2025-05-15T07:00:50.765068",
     "exception": false,
     "start_time": "2025-05-15T07:00:50.565047",
     "status": "completed"
    },
    "tags": []
   },
   "outputs": [],
   "source": [
    "le = LabelEncoder()\n",
    "train['Sex'] = le.fit_transform(train['Sex'])\n",
    "test['Sex'] = le.transform(test['Sex'])  # Important: use the same encoder\n"
   ]
  },
  {
   "cell_type": "code",
   "execution_count": 5,
   "id": "11316afa",
   "metadata": {
    "execution": {
     "iopub.execute_input": "2025-05-15T07:00:50.772807Z",
     "iopub.status.busy": "2025-05-15T07:00:50.771855Z",
     "iopub.status.idle": "2025-05-15T07:00:50.777556Z",
     "shell.execute_reply": "2025-05-15T07:00:50.776458Z"
    },
    "papermill": {
     "duration": 0.011635,
     "end_time": "2025-05-15T07:00:50.779284",
     "exception": false,
     "start_time": "2025-05-15T07:00:50.767649",
     "status": "completed"
    },
    "tags": []
   },
   "outputs": [],
   "source": [
    "### 📊 Preview the Updated Dataset"
   ]
  },
  {
   "cell_type": "code",
   "execution_count": 6,
   "id": "d3bd1d3e",
   "metadata": {
    "execution": {
     "iopub.execute_input": "2025-05-15T07:00:50.786059Z",
     "iopub.status.busy": "2025-05-15T07:00:50.785308Z",
     "iopub.status.idle": "2025-05-15T07:00:50.815137Z",
     "shell.execute_reply": "2025-05-15T07:00:50.814047Z"
    },
    "papermill": {
     "duration": 0.035221,
     "end_time": "2025-05-15T07:00:50.817059",
     "exception": false,
     "start_time": "2025-05-15T07:00:50.781838",
     "status": "completed"
    },
    "tags": []
   },
   "outputs": [
    {
     "data": {
      "text/html": [
       "<div>\n",
       "<style scoped>\n",
       "    .dataframe tbody tr th:only-of-type {\n",
       "        vertical-align: middle;\n",
       "    }\n",
       "\n",
       "    .dataframe tbody tr th {\n",
       "        vertical-align: top;\n",
       "    }\n",
       "\n",
       "    .dataframe thead th {\n",
       "        text-align: right;\n",
       "    }\n",
       "</style>\n",
       "<table border=\"1\" class=\"dataframe\">\n",
       "  <thead>\n",
       "    <tr style=\"text-align: right;\">\n",
       "      <th></th>\n",
       "      <th>id</th>\n",
       "      <th>Sex</th>\n",
       "      <th>Age</th>\n",
       "      <th>Height</th>\n",
       "      <th>Weight</th>\n",
       "      <th>Duration</th>\n",
       "      <th>Heart_Rate</th>\n",
       "      <th>Body_Temp</th>\n",
       "      <th>Calories</th>\n",
       "      <th>BMI</th>\n",
       "      <th>Intensity</th>\n",
       "      <th>Age_BMI</th>\n",
       "      <th>Cardio_Effort</th>\n",
       "    </tr>\n",
       "  </thead>\n",
       "  <tbody>\n",
       "    <tr>\n",
       "      <th>0</th>\n",
       "      <td>0</td>\n",
       "      <td>1</td>\n",
       "      <td>36</td>\n",
       "      <td>189.0</td>\n",
       "      <td>82.0</td>\n",
       "      <td>26.0</td>\n",
       "      <td>101.0</td>\n",
       "      <td>41.0</td>\n",
       "      <td>150.0</td>\n",
       "      <td>22.955684</td>\n",
       "      <td>2626.0</td>\n",
       "      <td>826.404636</td>\n",
       "      <td>3.740741</td>\n",
       "    </tr>\n",
       "    <tr>\n",
       "      <th>1</th>\n",
       "      <td>1</td>\n",
       "      <td>0</td>\n",
       "      <td>64</td>\n",
       "      <td>163.0</td>\n",
       "      <td>60.0</td>\n",
       "      <td>8.0</td>\n",
       "      <td>85.0</td>\n",
       "      <td>39.7</td>\n",
       "      <td>34.0</td>\n",
       "      <td>22.582709</td>\n",
       "      <td>680.0</td>\n",
       "      <td>1445.293387</td>\n",
       "      <td>9.444444</td>\n",
       "    </tr>\n",
       "    <tr>\n",
       "      <th>2</th>\n",
       "      <td>2</td>\n",
       "      <td>0</td>\n",
       "      <td>51</td>\n",
       "      <td>161.0</td>\n",
       "      <td>64.0</td>\n",
       "      <td>7.0</td>\n",
       "      <td>84.0</td>\n",
       "      <td>39.8</td>\n",
       "      <td>29.0</td>\n",
       "      <td>24.690405</td>\n",
       "      <td>588.0</td>\n",
       "      <td>1259.210679</td>\n",
       "      <td>10.500000</td>\n",
       "    </tr>\n",
       "    <tr>\n",
       "      <th>3</th>\n",
       "      <td>3</td>\n",
       "      <td>1</td>\n",
       "      <td>20</td>\n",
       "      <td>192.0</td>\n",
       "      <td>90.0</td>\n",
       "      <td>25.0</td>\n",
       "      <td>105.0</td>\n",
       "      <td>40.7</td>\n",
       "      <td>140.0</td>\n",
       "      <td>24.414062</td>\n",
       "      <td>2625.0</td>\n",
       "      <td>488.281250</td>\n",
       "      <td>4.038462</td>\n",
       "    </tr>\n",
       "    <tr>\n",
       "      <th>4</th>\n",
       "      <td>4</td>\n",
       "      <td>0</td>\n",
       "      <td>38</td>\n",
       "      <td>166.0</td>\n",
       "      <td>61.0</td>\n",
       "      <td>25.0</td>\n",
       "      <td>102.0</td>\n",
       "      <td>40.6</td>\n",
       "      <td>146.0</td>\n",
       "      <td>22.136740</td>\n",
       "      <td>2550.0</td>\n",
       "      <td>841.196110</td>\n",
       "      <td>3.923077</td>\n",
       "    </tr>\n",
       "  </tbody>\n",
       "</table>\n",
       "</div>"
      ],
      "text/plain": [
       "   id  Sex  Age  Height  Weight  Duration  Heart_Rate  Body_Temp  Calories  \\\n",
       "0   0    1   36   189.0    82.0      26.0       101.0       41.0     150.0   \n",
       "1   1    0   64   163.0    60.0       8.0        85.0       39.7      34.0   \n",
       "2   2    0   51   161.0    64.0       7.0        84.0       39.8      29.0   \n",
       "3   3    1   20   192.0    90.0      25.0       105.0       40.7     140.0   \n",
       "4   4    0   38   166.0    61.0      25.0       102.0       40.6     146.0   \n",
       "\n",
       "         BMI  Intensity      Age_BMI  Cardio_Effort  \n",
       "0  22.955684     2626.0   826.404636       3.740741  \n",
       "1  22.582709      680.0  1445.293387       9.444444  \n",
       "2  24.690405      588.0  1259.210679      10.500000  \n",
       "3  24.414062     2625.0   488.281250       4.038462  \n",
       "4  22.136740     2550.0   841.196110       3.923077  "
      ]
     },
     "execution_count": 6,
     "metadata": {},
     "output_type": "execute_result"
    }
   ],
   "source": [
    "train.head()"
   ]
  }
 ],
 "metadata": {
  "kaggle": {
   "accelerator": "none",
   "dataSources": [
    {
     "databundleVersionId": 11893428,
     "sourceId": 91716,
     "sourceType": "competition"
    }
   ],
   "dockerImageVersionId": 31040,
   "isGpuEnabled": false,
   "isInternetEnabled": true,
   "language": "python",
   "sourceType": "notebook"
  },
  "kernelspec": {
   "display_name": "Python 3",
   "language": "python",
   "name": "python3"
  },
  "language_info": {
   "codemirror_mode": {
    "name": "ipython",
    "version": 3
   },
   "file_extension": ".py",
   "mimetype": "text/x-python",
   "name": "python",
   "nbconvert_exporter": "python",
   "pygments_lexer": "ipython3",
   "version": "3.11.11"
  },
  "papermill": {
   "default_parameters": {},
   "duration": 13.338098,
   "end_time": "2025-05-15T07:00:51.541699",
   "environment_variables": {},
   "exception": null,
   "input_path": "__notebook__.ipynb",
   "output_path": "__notebook__.ipynb",
   "parameters": {},
   "start_time": "2025-05-15T07:00:38.203601",
   "version": "2.6.0"
  }
 },
 "nbformat": 4,
 "nbformat_minor": 5
}
