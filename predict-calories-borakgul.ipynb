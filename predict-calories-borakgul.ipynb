{
 "cells": [
  {
   "cell_type": "code",
   "execution_count": 1,
   "id": "f155178f",
   "metadata": {
    "_cell_guid": "b1076dfc-b9ad-4769-8c92-a6c4dae69d19",
    "_uuid": "8f2839f25d086af736a60e9eeb907d3b93b6e0e5",
    "execution": {
     "iopub.execute_input": "2025-05-15T06:35:55.954559Z",
     "iopub.status.busy": "2025-05-15T06:35:55.954115Z",
     "iopub.status.idle": "2025-05-15T06:36:00.363684Z",
     "shell.execute_reply": "2025-05-15T06:36:00.362634Z"
    },
    "papermill": {
     "duration": 4.417556,
     "end_time": "2025-05-15T06:36:00.365923",
     "exception": false,
     "start_time": "2025-05-15T06:35:55.948367",
     "status": "completed"
    },
    "tags": []
   },
   "outputs": [],
   "source": [
    "import pandas as pd\n",
    "import numpy as np\n",
    "import seaborn as sns\n",
    "import matplotlib.pyplot as plt\n"
   ]
  },
  {
   "cell_type": "code",
   "execution_count": 2,
   "id": "479eda20",
   "metadata": {
    "execution": {
     "iopub.execute_input": "2025-05-15T06:36:00.376238Z",
     "iopub.status.busy": "2025-05-15T06:36:00.375777Z",
     "iopub.status.idle": "2025-05-15T06:36:01.631927Z",
     "shell.execute_reply": "2025-05-15T06:36:01.631030Z"
    },
    "papermill": {
     "duration": 1.26372,
     "end_time": "2025-05-15T06:36:01.633937",
     "exception": false,
     "start_time": "2025-05-15T06:36:00.370217",
     "status": "completed"
    },
    "tags": []
   },
   "outputs": [],
   "source": [
    "train = pd.read_csv(\"/kaggle/input/playground-series-s5e5/train.csv\")\n",
    "test = pd.read_csv(\"/kaggle/input/playground-series-s5e5/test.csv\")\n",
    "sample_submission = (\"/kaggle/input/playground-series-s5e5/sample_submission.csv\")"
   ]
  },
  {
   "cell_type": "code",
   "execution_count": 3,
   "id": "e719e72c",
   "metadata": {
    "execution": {
     "iopub.execute_input": "2025-05-15T06:36:01.642764Z",
     "iopub.status.busy": "2025-05-15T06:36:01.642440Z",
     "iopub.status.idle": "2025-05-15T06:36:01.736939Z",
     "shell.execute_reply": "2025-05-15T06:36:01.735208Z"
    },
    "papermill": {
     "duration": 0.101017,
     "end_time": "2025-05-15T06:36:01.738795",
     "exception": false,
     "start_time": "2025-05-15T06:36:01.637778",
     "status": "completed"
    },
    "tags": []
   },
   "outputs": [
    {
     "name": "stdout",
     "output_type": "stream",
     "text": [
      "<class 'pandas.core.frame.DataFrame'>\n",
      "RangeIndex: 750000 entries, 0 to 749999\n",
      "Data columns (total 9 columns):\n",
      " #   Column      Non-Null Count   Dtype  \n",
      "---  ------      --------------   -----  \n",
      " 0   id          750000 non-null  int64  \n",
      " 1   Sex         750000 non-null  object \n",
      " 2   Age         750000 non-null  int64  \n",
      " 3   Height      750000 non-null  float64\n",
      " 4   Weight      750000 non-null  float64\n",
      " 5   Duration    750000 non-null  float64\n",
      " 6   Heart_Rate  750000 non-null  float64\n",
      " 7   Body_Temp   750000 non-null  float64\n",
      " 8   Calories    750000 non-null  float64\n",
      "dtypes: float64(6), int64(2), object(1)\n",
      "memory usage: 51.5+ MB\n"
     ]
    }
   ],
   "source": [
    "train.head()\n",
    "train.info()"
   ]
  },
  {
   "cell_type": "code",
   "execution_count": 4,
   "id": "910f93a4",
   "metadata": {
    "execution": {
     "iopub.execute_input": "2025-05-15T06:36:01.747772Z",
     "iopub.status.busy": "2025-05-15T06:36:01.747046Z",
     "iopub.status.idle": "2025-05-15T06:36:02.064533Z",
     "shell.execute_reply": "2025-05-15T06:36:02.063484Z"
    },
    "papermill": {
     "duration": 0.324496,
     "end_time": "2025-05-15T06:36:02.067038",
     "exception": false,
     "start_time": "2025-05-15T06:36:01.742542",
     "status": "completed"
    },
    "tags": []
   },
   "outputs": [
    {
     "data": {
      "text/html": [
       "<div>\n",
       "<style scoped>\n",
       "    .dataframe tbody tr th:only-of-type {\n",
       "        vertical-align: middle;\n",
       "    }\n",
       "\n",
       "    .dataframe tbody tr th {\n",
       "        vertical-align: top;\n",
       "    }\n",
       "\n",
       "    .dataframe thead th {\n",
       "        text-align: right;\n",
       "    }\n",
       "</style>\n",
       "<table border=\"1\" class=\"dataframe\">\n",
       "  <thead>\n",
       "    <tr style=\"text-align: right;\">\n",
       "      <th></th>\n",
       "      <th>id</th>\n",
       "      <th>Age</th>\n",
       "      <th>Height</th>\n",
       "      <th>Weight</th>\n",
       "      <th>Duration</th>\n",
       "      <th>Heart_Rate</th>\n",
       "      <th>Body_Temp</th>\n",
       "      <th>Calories</th>\n",
       "    </tr>\n",
       "  </thead>\n",
       "  <tbody>\n",
       "    <tr>\n",
       "      <th>count</th>\n",
       "      <td>750000.000000</td>\n",
       "      <td>750000.000000</td>\n",
       "      <td>750000.000000</td>\n",
       "      <td>750000.000000</td>\n",
       "      <td>750000.000000</td>\n",
       "      <td>750000.000000</td>\n",
       "      <td>750000.000000</td>\n",
       "      <td>750000.000000</td>\n",
       "    </tr>\n",
       "    <tr>\n",
       "      <th>mean</th>\n",
       "      <td>374999.500000</td>\n",
       "      <td>41.420404</td>\n",
       "      <td>174.697685</td>\n",
       "      <td>75.145668</td>\n",
       "      <td>15.421015</td>\n",
       "      <td>95.483995</td>\n",
       "      <td>40.036253</td>\n",
       "      <td>88.282781</td>\n",
       "    </tr>\n",
       "    <tr>\n",
       "      <th>std</th>\n",
       "      <td>216506.495284</td>\n",
       "      <td>15.175049</td>\n",
       "      <td>12.824496</td>\n",
       "      <td>13.982704</td>\n",
       "      <td>8.354095</td>\n",
       "      <td>9.449845</td>\n",
       "      <td>0.779875</td>\n",
       "      <td>62.395349</td>\n",
       "    </tr>\n",
       "    <tr>\n",
       "      <th>min</th>\n",
       "      <td>0.000000</td>\n",
       "      <td>20.000000</td>\n",
       "      <td>126.000000</td>\n",
       "      <td>36.000000</td>\n",
       "      <td>1.000000</td>\n",
       "      <td>67.000000</td>\n",
       "      <td>37.100000</td>\n",
       "      <td>1.000000</td>\n",
       "    </tr>\n",
       "    <tr>\n",
       "      <th>25%</th>\n",
       "      <td>187499.750000</td>\n",
       "      <td>28.000000</td>\n",
       "      <td>164.000000</td>\n",
       "      <td>63.000000</td>\n",
       "      <td>8.000000</td>\n",
       "      <td>88.000000</td>\n",
       "      <td>39.600000</td>\n",
       "      <td>34.000000</td>\n",
       "    </tr>\n",
       "    <tr>\n",
       "      <th>50%</th>\n",
       "      <td>374999.500000</td>\n",
       "      <td>40.000000</td>\n",
       "      <td>174.000000</td>\n",
       "      <td>74.000000</td>\n",
       "      <td>15.000000</td>\n",
       "      <td>95.000000</td>\n",
       "      <td>40.300000</td>\n",
       "      <td>77.000000</td>\n",
       "    </tr>\n",
       "    <tr>\n",
       "      <th>75%</th>\n",
       "      <td>562499.250000</td>\n",
       "      <td>52.000000</td>\n",
       "      <td>185.000000</td>\n",
       "      <td>87.000000</td>\n",
       "      <td>23.000000</td>\n",
       "      <td>103.000000</td>\n",
       "      <td>40.700000</td>\n",
       "      <td>136.000000</td>\n",
       "    </tr>\n",
       "    <tr>\n",
       "      <th>max</th>\n",
       "      <td>749999.000000</td>\n",
       "      <td>79.000000</td>\n",
       "      <td>222.000000</td>\n",
       "      <td>132.000000</td>\n",
       "      <td>30.000000</td>\n",
       "      <td>128.000000</td>\n",
       "      <td>41.500000</td>\n",
       "      <td>314.000000</td>\n",
       "    </tr>\n",
       "  </tbody>\n",
       "</table>\n",
       "</div>"
      ],
      "text/plain": [
       "                  id            Age         Height         Weight  \\\n",
       "count  750000.000000  750000.000000  750000.000000  750000.000000   \n",
       "mean   374999.500000      41.420404     174.697685      75.145668   \n",
       "std    216506.495284      15.175049      12.824496      13.982704   \n",
       "min         0.000000      20.000000     126.000000      36.000000   \n",
       "25%    187499.750000      28.000000     164.000000      63.000000   \n",
       "50%    374999.500000      40.000000     174.000000      74.000000   \n",
       "75%    562499.250000      52.000000     185.000000      87.000000   \n",
       "max    749999.000000      79.000000     222.000000     132.000000   \n",
       "\n",
       "            Duration     Heart_Rate      Body_Temp       Calories  \n",
       "count  750000.000000  750000.000000  750000.000000  750000.000000  \n",
       "mean       15.421015      95.483995      40.036253      88.282781  \n",
       "std         8.354095       9.449845       0.779875      62.395349  \n",
       "min         1.000000      67.000000      37.100000       1.000000  \n",
       "25%         8.000000      88.000000      39.600000      34.000000  \n",
       "50%        15.000000      95.000000      40.300000      77.000000  \n",
       "75%        23.000000     103.000000      40.700000     136.000000  \n",
       "max        30.000000     128.000000      41.500000     314.000000  "
      ]
     },
     "execution_count": 4,
     "metadata": {},
     "output_type": "execute_result"
    }
   ],
   "source": [
    "train.describe()"
   ]
  },
  {
   "cell_type": "code",
   "execution_count": 5,
   "id": "06dc90cb",
   "metadata": {
    "execution": {
     "iopub.execute_input": "2025-05-15T06:36:02.079106Z",
     "iopub.status.busy": "2025-05-15T06:36:02.078330Z",
     "iopub.status.idle": "2025-05-15T06:36:02.143368Z",
     "shell.execute_reply": "2025-05-15T06:36:02.142225Z"
    },
    "papermill": {
     "duration": 0.072737,
     "end_time": "2025-05-15T06:36:02.145134",
     "exception": false,
     "start_time": "2025-05-15T06:36:02.072397",
     "status": "completed"
    },
    "tags": []
   },
   "outputs": [
    {
     "data": {
      "text/plain": [
       "Sex\n",
       "female    375721\n",
       "male      374279\n",
       "Name: count, dtype: int64"
      ]
     },
     "execution_count": 5,
     "metadata": {},
     "output_type": "execute_result"
    }
   ],
   "source": [
    "train['Sex'].value_counts()"
   ]
  },
  {
   "cell_type": "code",
   "execution_count": 6,
   "id": "04f31262",
   "metadata": {
    "execution": {
     "iopub.execute_input": "2025-05-15T06:36:02.155218Z",
     "iopub.status.busy": "2025-05-15T06:36:02.154893Z",
     "iopub.status.idle": "2025-05-15T06:36:06.147274Z",
     "shell.execute_reply": "2025-05-15T06:36:06.146012Z"
    },
    "papermill": {
     "duration": 3.999512,
     "end_time": "2025-05-15T06:36:06.149012",
     "exception": false,
     "start_time": "2025-05-15T06:36:02.149500",
     "status": "completed"
    },
    "tags": []
   },
   "outputs": [
    {
     "name": "stderr",
     "output_type": "stream",
     "text": [
      "/usr/local/lib/python3.11/dist-packages/seaborn/_oldcore.py:1119: FutureWarning: use_inf_as_na option is deprecated and will be removed in a future version. Convert inf values to NaN before operating instead.\n",
      "  with pd.option_context('mode.use_inf_as_na', True):\n"
     ]
    },
    {
     "data": {
      "image/png": "[encoded data removed]",
      "text/plain": [
       "<Figure size 640x480 with 1 Axes>"
      ]
     },
     "metadata": {},
     "output_type": "display_data"
    }
   ],
   "source": [
    "import seaborn as sns\n",
    "import matplotlib.pyplot as plt\n",
    "\n",
    "sns.histplot(train['Calories'], kde=True)\n",
    "plt.title(\"Calories Distribution\")\n",
    "plt.show()"
   ]
  },
  {
   "cell_type": "code",
   "execution_count": 7,
   "id": "465cf2c7",
   "metadata": {
    "execution": {
     "iopub.execute_input": "2025-05-15T06:36:06.162396Z",
     "iopub.status.busy": "2025-05-15T06:36:06.161295Z",
     "iopub.status.idle": "2025-05-15T06:36:06.783101Z",
     "shell.execute_reply": "2025-05-15T06:36:06.782235Z"
    },
    "papermill": {
     "duration": 0.630891,
     "end_time": "2025-05-15T06:36:06.785400",
     "exception": false,
     "start_time": "2025-05-15T06:36:06.154509",
     "status": "completed"
    },
    "tags": []
   },
   "outputs": [
    {
     "data": {
      "image/png": "[encoded data removed]",
      "text/plain": [
       "<Figure size 1000x800 with 2 Axes>"
      ]
     },
     "metadata": {},
     "output_type": "display_data"
    }
   ],
   "source": [
    "#Only Numerical values\n",
    "numeric_cols = train.select_dtypes(include=['float64', 'int64'])\n",
    "\n",
    "# Creating correlation matrix\n",
    "corr_matrix = numeric_cols.corr()\n",
    "\n",
    "# Visulazition\n",
    "plt.figure(figsize=(10, 8))\n",
    "sns.heatmap(corr_matrix, annot=True, cmap='coolwarm', fmt=\".2f\")\n",
    "plt.title(\"Feature Correlation Matrix\")\n",
    "plt.show()"
   ]
  },
  {
   "cell_type": "code",
   "execution_count": 8,
   "id": "ac2a5365",
   "metadata": {
    "execution": {
     "iopub.execute_input": "2025-05-15T06:36:06.798921Z",
     "iopub.status.busy": "2025-05-15T06:36:06.798506Z",
     "iopub.status.idle": "2025-05-15T06:36:07.456792Z",
     "shell.execute_reply": "2025-05-15T06:36:07.455853Z"
    },
    "papermill": {
     "duration": 0.667282,
     "end_time": "2025-05-15T06:36:07.458563",
     "exception": false,
     "start_time": "2025-05-15T06:36:06.791281",
     "status": "completed"
    },
    "tags": []
   },
   "outputs": [],
   "source": [
    "from sklearn.preprocessing import LabelEncoder\n",
    "from xgboost import XGBRegressor\n",
    "from sklearn.model_selection import train_test_split\n",
    "from sklearn.metrics import mean_squared_error"
   ]
  },
  {
   "cell_type": "code",
   "execution_count": 9,
   "id": "8d5300bc",
   "metadata": {
    "execution": {
     "iopub.execute_input": "2025-05-15T06:36:07.471943Z",
     "iopub.status.busy": "2025-05-15T06:36:07.471575Z",
     "iopub.status.idle": "2025-05-15T06:36:07.628926Z",
     "shell.execute_reply": "2025-05-15T06:36:07.627938Z"
    },
    "papermill": {
     "duration": 0.166122,
     "end_time": "2025-05-15T06:36:07.630728",
     "exception": false,
     "start_time": "2025-05-15T06:36:07.464606",
     "status": "completed"
    },
    "tags": []
   },
   "outputs": [],
   "source": [
    "le = LabelEncoder()\n",
    "train['Sex'] = le.fit_transform(train['Sex'])  # female = 0, male = 1"
   ]
  },
  {
   "cell_type": "code",
   "execution_count": 10,
   "id": "3b1312b0",
   "metadata": {
    "execution": {
     "iopub.execute_input": "2025-05-15T06:36:07.643881Z",
     "iopub.status.busy": "2025-05-15T06:36:07.643541Z",
     "iopub.status.idle": "2025-05-15T06:36:07.668123Z",
     "shell.execute_reply": "2025-05-15T06:36:07.666974Z"
    },
    "papermill": {
     "duration": 0.033166,
     "end_time": "2025-05-15T06:36:07.669870",
     "exception": false,
     "start_time": "2025-05-15T06:36:07.636704",
     "status": "completed"
    },
    "tags": []
   },
   "outputs": [],
   "source": [
    "X = train.drop(columns=['id', 'Calories'])  # delete id because it doesnt effect predict\n",
    "y = train['Calories']"
   ]
  },
  {
   "cell_type": "code",
   "execution_count": 11,
   "id": "d70af9f2",
   "metadata": {
    "execution": {
     "iopub.execute_input": "2025-05-15T06:36:07.683591Z",
     "iopub.status.busy": "2025-05-15T06:36:07.682916Z",
     "iopub.status.idle": "2025-05-15T06:36:07.852626Z",
     "shell.execute_reply": "2025-05-15T06:36:07.851453Z"
    },
    "papermill": {
     "duration": 0.178513,
     "end_time": "2025-05-15T06:36:07.854493",
     "exception": false,
     "start_time": "2025-05-15T06:36:07.675980",
     "status": "completed"
    },
    "tags": []
   },
   "outputs": [],
   "source": [
    "X_train, X_val, y_train, y_val = train_test_split(X, y, test_size=0.2, random_state=42)"
   ]
  },
  {
   "cell_type": "code",
   "execution_count": 12,
   "id": "746bee22",
   "metadata": {
    "execution": {
     "iopub.execute_input": "2025-05-15T06:36:07.868810Z",
     "iopub.status.busy": "2025-05-15T06:36:07.868400Z",
     "iopub.status.idle": "2025-05-15T06:36:07.884342Z",
     "shell.execute_reply": "2025-05-15T06:36:07.883256Z"
    },
    "papermill": {
     "duration": 0.025008,
     "end_time": "2025-05-15T06:36:07.886074",
     "exception": false,
     "start_time": "2025-05-15T06:36:07.861066",
     "status": "completed"
    },
    "tags": []
   },
   "outputs": [
    {
     "name": "stdout",
     "output_type": "stream",
     "text": [
      "(150000, 7)\n"
     ]
    },
    {
     "data": {
      "text/html": [
       "<div>\n",
       "<style scoped>\n",
       "    .dataframe tbody tr th:only-of-type {\n",
       "        vertical-align: middle;\n",
       "    }\n",
       "\n",
       "    .dataframe tbody tr th {\n",
       "        vertical-align: top;\n",
       "    }\n",
       "\n",
       "    .dataframe thead th {\n",
       "        text-align: right;\n",
       "    }\n",
       "</style>\n",
       "<table border=\"1\" class=\"dataframe\">\n",
       "  <thead>\n",
       "    <tr style=\"text-align: right;\">\n",
       "      <th></th>\n",
       "      <th>Sex</th>\n",
       "      <th>Age</th>\n",
       "      <th>Height</th>\n",
       "      <th>Weight</th>\n",
       "      <th>Duration</th>\n",
       "      <th>Heart_Rate</th>\n",
       "      <th>Body_Temp</th>\n",
       "    </tr>\n",
       "  </thead>\n",
       "  <tbody>\n",
       "    <tr>\n",
       "      <th>404846</th>\n",
       "      <td>0</td>\n",
       "      <td>56</td>\n",
       "      <td>163.0</td>\n",
       "      <td>61.0</td>\n",
       "      <td>29.0</td>\n",
       "      <td>108.0</td>\n",
       "      <td>40.8</td>\n",
       "    </tr>\n",
       "    <tr>\n",
       "      <th>580313</th>\n",
       "      <td>1</td>\n",
       "      <td>44</td>\n",
       "      <td>179.0</td>\n",
       "      <td>87.0</td>\n",
       "      <td>13.0</td>\n",
       "      <td>94.0</td>\n",
       "      <td>40.3</td>\n",
       "    </tr>\n",
       "    <tr>\n",
       "      <th>552086</th>\n",
       "      <td>1</td>\n",
       "      <td>41</td>\n",
       "      <td>186.0</td>\n",
       "      <td>84.0</td>\n",
       "      <td>10.0</td>\n",
       "      <td>89.0</td>\n",
       "      <td>39.9</td>\n",
       "    </tr>\n",
       "    <tr>\n",
       "      <th>370876</th>\n",
       "      <td>0</td>\n",
       "      <td>38</td>\n",
       "      <td>161.0</td>\n",
       "      <td>58.0</td>\n",
       "      <td>19.0</td>\n",
       "      <td>98.0</td>\n",
       "      <td>40.6</td>\n",
       "    </tr>\n",
       "    <tr>\n",
       "      <th>239330</th>\n",
       "      <td>1</td>\n",
       "      <td>57</td>\n",
       "      <td>181.0</td>\n",
       "      <td>77.0</td>\n",
       "      <td>9.0</td>\n",
       "      <td>98.0</td>\n",
       "      <td>40.0</td>\n",
       "    </tr>\n",
       "  </tbody>\n",
       "</table>\n",
       "</div>"
      ],
      "text/plain": [
       "        Sex  Age  Height  Weight  Duration  Heart_Rate  Body_Temp\n",
       "404846    0   56   163.0    61.0      29.0       108.0       40.8\n",
       "580313    1   44   179.0    87.0      13.0        94.0       40.3\n",
       "552086    1   41   186.0    84.0      10.0        89.0       39.9\n",
       "370876    0   38   161.0    58.0      19.0        98.0       40.6\n",
       "239330    1   57   181.0    77.0       9.0        98.0       40.0"
      ]
     },
     "execution_count": 12,
     "metadata": {},
     "output_type": "execute_result"
    }
   ],
   "source": [
    "print(X_val.shape)\n",
    "X_val.head()"
   ]
  },
  {
   "cell_type": "code",
   "execution_count": 13,
   "id": "d93421ab",
   "metadata": {
    "execution": {
     "iopub.execute_input": "2025-05-15T06:36:07.900610Z",
     "iopub.status.busy": "2025-05-15T06:36:07.900268Z",
     "iopub.status.idle": "2025-05-15T06:36:07.909898Z",
     "shell.execute_reply": "2025-05-15T06:36:07.908886Z"
    },
    "papermill": {
     "duration": 0.019001,
     "end_time": "2025-05-15T06:36:07.911578",
     "exception": false,
     "start_time": "2025-05-15T06:36:07.892577",
     "status": "completed"
    },
    "tags": []
   },
   "outputs": [
    {
     "name": "stdout",
     "output_type": "stream",
     "text": [
      "(150000,)\n",
      "(600000,)\n"
     ]
    },
    {
     "data": {
      "text/plain": [
       "404846    200.0\n",
       "580313     64.0\n",
       "552086     39.0\n",
       "370876    103.0\n",
       "239330     52.0\n",
       "Name: Calories, dtype: float64"
      ]
     },
     "execution_count": 13,
     "metadata": {},
     "output_type": "execute_result"
    }
   ],
   "source": [
    "print(y_val.shape)\n",
    "y_train.head()\n",
    "print(y_train.shape)\n",
    "y_val.head()"
   ]
  },
  {
   "cell_type": "code",
   "execution_count": 14,
   "id": "b11bf96e",
   "metadata": {
    "execution": {
     "iopub.execute_input": "2025-05-15T06:36:07.925802Z",
     "iopub.status.busy": "2025-05-15T06:36:07.925478Z",
     "iopub.status.idle": "2025-05-15T06:36:10.395951Z",
     "shell.execute_reply": "2025-05-15T06:36:10.395245Z"
    },
    "papermill": {
     "duration": 2.479552,
     "end_time": "2025-05-15T06:36:10.397842",
     "exception": false,
     "start_time": "2025-05-15T06:36:07.918290",
     "status": "completed"
    },
    "tags": []
   },
   "outputs": [
    {
     "data": {
      "text/html": [
       "<style>#sk-container-id-1 {color: black;background-color: white;}#sk-container-id-1 pre{padding: 0;}#sk-container-id-1 div.sk-toggleable {background-color: white;}#sk-container-id-1 label.sk-toggleable__label {cursor: pointer;display: block;width: 100%;margin-bottom: 0;padding: 0.3em;box-sizing: border-box;text-align: center;}#sk-container-id-1 label.sk-toggleable__label-arrow:before {content: \"▸\";float: left;margin-right: 0.25em;color: #696969;}#sk-container-id-1 label.sk-toggleable__label-arrow:hover:before {color: black;}#sk-container-id-1 div.sk-estimator:hover label.sk-toggleable__label-arrow:before {color: black;}#sk-container-id-1 div.sk-toggleable__content {max-height: 0;max-width: 0;overflow: hidden;text-align: left;background-color: #f0f8ff;}#sk-container-id-1 div.sk-toggleable__content pre {margin: 0.2em;color: black;border-radius: 0.25em;background-color: #f0f8ff;}#sk-container-id-1 input.sk-toggleable__control:checked~div.sk-toggleable__content {max-height: 200px;max-width: 100%;overflow: auto;}#sk-container-id-1 input.sk-toggleable__control:checked~label.sk-toggleable__label-arrow:before {content: \"▾\";}#sk-container-id-1 div.sk-estimator input.sk-toggleable__control:checked~label.sk-toggleable__label {background-color: #d4ebff;}#sk-container-id-1 div.sk-label input.sk-toggleable__control:checked~label.sk-toggleable__label {background-color: #d4ebff;}#sk-container-id-1 input.sk-hidden--visually {border: 0;clip: rect(1px 1px 1px 1px);clip: rect(1px, 1px, 1px, 1px);height: 1px;margin: -1px;overflow: hidden;padding: 0;position: absolute;width: 1px;}#sk-container-id-1 div.sk-estimator {font-family: monospace;background-color: #f0f8ff;border: 1px dotted black;border-radius: 0.25em;box-sizing: border-box;margin-bottom: 0.5em;}#sk-container-id-1 div.sk-estimator:hover {background-color: #d4ebff;}#sk-container-id-1 div.sk-parallel-item::after {content: \"\";width: 100%;border-bottom: 1px solid gray;flex-grow: 1;}#sk-container-id-1 div.sk-label:hover label.sk-toggleable__label {background-color: #d4ebff;}#sk-container-id-1 div.sk-serial::before {content: \"\";position: absolute;border-left: 1px solid gray;box-sizing: border-box;top: 0;bottom: 0;left: 50%;z-index: 0;}#sk-container-id-1 div.sk-serial {display: flex;flex-direction: column;align-items: center;background-color: white;padding-right: 0.2em;padding-left: 0.2em;position: relative;}#sk-container-id-1 div.sk-item {position: relative;z-index: 1;}#sk-container-id-1 div.sk-parallel {display: flex;align-items: stretch;justify-content: center;background-color: white;position: relative;}#sk-container-id-1 div.sk-item::before, #sk-container-id-1 div.sk-parallel-item::before {content: \"\";position: absolute;border-left: 1px solid gray;box-sizing: border-box;top: 0;bottom: 0;left: 50%;z-index: -1;}#sk-container-id-1 div.sk-parallel-item {display: flex;flex-direction: column;z-index: 1;position: relative;background-color: white;}#sk-container-id-1 div.sk-parallel-item:first-child::after {align-self: flex-end;width: 50%;}#sk-container-id-1 div.sk-parallel-item:last-child::after {align-self: flex-start;width: 50%;}#sk-container-id-1 div.sk-parallel-item:only-child::after {width: 0;}#sk-container-id-1 div.sk-dashed-wrapped {border: 1px dashed gray;margin: 0 0.4em 0.5em 0.4em;box-sizing: border-box;padding-bottom: 0.4em;background-color: white;}#sk-container-id-1 div.sk-label label {font-family: monospace;font-weight: bold;display: inline-block;line-height: 1.2em;}#sk-container-id-1 div.sk-label-container {text-align: center;}#sk-container-id-1 div.sk-container {/* jupyter's `normalize.less` sets `[hidden] { display: none; }` but bootstrap.min.css set `[hidden] { display: none !important; }` so we also need the `!important` here to be able to override the default hidden behavior on the sphinx rendered scikit-learn.org. See: https://github.com/scikit-learn/scikit-learn/issues/21755 */display: inline-block !important;position: relative;}#sk-container-id-1 div.sk-text-repr-fallback {display: none;}</style><div id=\"sk-container-id-1\" class=\"sk-top-container\"><div class=\"sk-text-repr-fallback\"><pre>XGBRegressor(base_score=None, booster=None, callbacks=None,\n",
       "             colsample_bylevel=None, colsample_bynode=None,\n",
       "             colsample_bytree=None, device=None, early_stopping_rounds=None,\n",
       "             enable_categorical=False, eval_metric=None, feature_types=None,\n",
       "             gamma=None, grow_policy=None, importance_type=None,\n",
       "             interaction_constraints=None, learning_rate=0.1, max_bin=None,\n",
       "             max_cat_threshold=None, max_cat_to_onehot=None,\n",
       "             max_delta_step=None, max_depth=None, max_leaves=None,\n",
       "             min_child_weight=None, missing=nan, monotone_constraints=None,\n",
       "             multi_strategy=None, n_estimators=100, n_jobs=None,\n",
       "             num_parallel_tree=None, random_state=42, ...)</pre><b>In a Jupyter environment, please rerun this cell to show the HTML representation or trust the notebook. <br />On GitHub, the HTML representation is unable to render, please try loading this page with nbviewer.org.</b></div><div class=\"sk-container\" hidden><div class=\"sk-item\"><div class=\"sk-estimator sk-toggleable\"><input class=\"sk-toggleable__control sk-hidden--visually\" id=\"sk-estimator-id-1\" type=\"checkbox\" checked><label for=\"sk-estimator-id-1\" class=\"sk-toggleable__label sk-toggleable__label-arrow\">XGBRegressor</label><div class=\"sk-toggleable__content\"><pre>XGBRegressor(base_score=None, booster=None, callbacks=None,\n",
       "             colsample_bylevel=None, colsample_bynode=None,\n",
       "             colsample_bytree=None, device=None, early_stopping_rounds=None,\n",
       "             enable_categorical=False, eval_metric=None, feature_types=None,\n",
       "             gamma=None, grow_policy=None, importance_type=None,\n",
       "             interaction_constraints=None, learning_rate=0.1, max_bin=None,\n",
       "             max_cat_threshold=None, max_cat_to_onehot=None,\n",
       "             max_delta_step=None, max_depth=None, max_leaves=None,\n",
       "             min_child_weight=None, missing=nan, monotone_constraints=None,\n",
       "             multi_strategy=None, n_estimators=100, n_jobs=None,\n",
       "             num_parallel_tree=None, random_state=42, ...)</pre></div></div></div></div></div>"
      ],
      "text/plain": [
       "XGBRegressor(base_score=None, booster=None, callbacks=None,\n",
       "             colsample_bylevel=None, colsample_bynode=None,\n",
       "             colsample_bytree=None, device=None, early_stopping_rounds=None,\n",
       "             enable_categorical=False, eval_metric=None, feature_types=None,\n",
       "             gamma=None, grow_policy=None, importance_type=None,\n",
       "             interaction_constraints=None, learning_rate=0.1, max_bin=None,\n",
       "             max_cat_threshold=None, max_cat_to_onehot=None,\n",
       "             max_delta_step=None, max_depth=None, max_leaves=None,\n",
       "             min_child_weight=None, missing=nan, monotone_constraints=None,\n",
       "             multi_strategy=None, n_estimators=100, n_jobs=None,\n",
       "             num_parallel_tree=None, random_state=42, ...)"
      ]
     },
     "execution_count": 14,
     "metadata": {},
     "output_type": "execute_result"
    }
   ],
   "source": [
    "model = XGBRegressor(n_estimators=100, learning_rate=0.1, random_state=42)\n",
    "model.fit(X_train, y_train)"
   ]
  },
  {
   "cell_type": "code",
   "execution_count": 15,
   "id": "58c2dfb9",
   "metadata": {
    "execution": {
     "iopub.execute_input": "2025-05-15T06:36:10.412718Z",
     "iopub.status.busy": "2025-05-15T06:36:10.412012Z",
     "iopub.status.idle": "2025-05-15T06:36:10.573295Z",
     "shell.execute_reply": "2025-05-15T06:36:10.571214Z"
    },
    "papermill": {
     "duration": 0.169872,
     "end_time": "2025-05-15T06:36:10.574792",
     "exception": false,
     "start_time": "2025-05-15T06:36:10.404920",
     "status": "completed"
    },
    "tags": []
   },
   "outputs": [
    {
     "name": "stdout",
     "output_type": "stream",
     "text": [
      "Validation RMSE: 3.7355\n"
     ]
    }
   ],
   "source": [
    "y_pred = model.predict(X_val)\n",
    "rmse = np.sqrt(mean_squared_error(y_val, y_pred))\n",
    "print(f\"Validation RMSE: {rmse:.4f}\")"
   ]
  },
  {
   "cell_type": "code",
   "execution_count": 16,
   "id": "58e98638",
   "metadata": {
    "execution": {
     "iopub.execute_input": "2025-05-15T06:36:10.591876Z",
     "iopub.status.busy": "2025-05-15T06:36:10.591479Z",
     "iopub.status.idle": "2025-05-15T06:36:10.642229Z",
     "shell.execute_reply": "2025-05-15T06:36:10.641098Z"
    },
    "papermill": {
     "duration": 0.060826,
     "end_time": "2025-05-15T06:36:10.644132",
     "exception": false,
     "start_time": "2025-05-15T06:36:10.583306",
     "status": "completed"
    },
    "tags": []
   },
   "outputs": [],
   "source": [
    "test['Sex'] = le.transform(test['Sex'])  \n",
    "X_test = test.drop(columns=['id'])      "
   ]
  },
  {
   "cell_type": "code",
   "execution_count": 17,
   "id": "663f2144",
   "metadata": {
    "execution": {
     "iopub.execute_input": "2025-05-15T06:36:10.659802Z",
     "iopub.status.busy": "2025-05-15T06:36:10.659473Z",
     "iopub.status.idle": "2025-05-15T06:36:10.913217Z",
     "shell.execute_reply": "2025-05-15T06:36:10.912458Z"
    },
    "papermill": {
     "duration": 0.26412,
     "end_time": "2025-05-15T06:36:10.915370",
     "exception": false,
     "start_time": "2025-05-15T06:36:10.651250",
     "status": "completed"
    },
    "tags": []
   },
   "outputs": [],
   "source": [
    "test_preds = model.predict(X_test)"
   ]
  },
  {
   "cell_type": "code",
   "execution_count": 18,
   "id": "7ef0a7d7",
   "metadata": {
    "execution": {
     "iopub.execute_input": "2025-05-15T06:36:10.933409Z",
     "iopub.status.busy": "2025-05-15T06:36:10.933064Z",
     "iopub.status.idle": "2025-05-15T06:36:11.459093Z",
     "shell.execute_reply": "2025-05-15T06:36:11.458226Z"
    },
    "papermill": {
     "duration": 0.537172,
     "end_time": "2025-05-15T06:36:11.460878",
     "exception": false,
     "start_time": "2025-05-15T06:36:10.923706",
     "status": "completed"
    },
    "tags": []
   },
   "outputs": [],
   "source": [
    "submission = pd.read_csv(\"/kaggle/input/playground-series-s5e5/sample_submission.csv\")\n",
    "submission['Calories'] = test_preds\n",
    "submission.to_csv(\"submission.csv\", index=False)"
   ]
  }
 ],
 "metadata": {
  "kaggle": {
   "accelerator": "none",
   "dataSources": [
    {
     "databundleVersionId": 11893428,
     "sourceId": 91716,
     "sourceType": "competition"
    }
   ],
   "dockerImageVersionId": 31040,
   "isGpuEnabled": false,
   "isInternetEnabled": true,
   "language": "python",
   "sourceType": "notebook"
  },
  "kernelspec": {
   "display_name": "Python 3",
   "language": "python",
   "name": "python3"
  },
  "language_info": {
   "codemirror_mode": {
    "name": "ipython",
    "version": 3
   },
   "file_extension": ".py",
   "mimetype": "text/x-python",
   "name": "python",
   "nbconvert_exporter": "python",
   "pygments_lexer": "ipython3",
   "version": "3.11.11"
  },
  "papermill": {
   "default_parameters": {},
   "duration": 21.802326,
   "end_time": "2025-05-15T06:36:12.289758",
   "environment_variables": {},
   "exception": null,
   "input_path": "__notebook__.ipynb",
   "output_path": "__notebook__.ipynb",
   "parameters": {},
   "start_time": "2025-05-15T06:35:50.487432",
   "version": "2.6.0"
  }
 },
 "nbformat": 4,
 "nbformat_minor": 5
}
