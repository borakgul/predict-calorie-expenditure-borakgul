{
 "cells": [
  {
   "cell_type": "markdown",
   "id": "b2c06ad3",
   "metadata": {
    "papermill": {
     "duration": 0.008152,
     "end_time": "2025-05-15T11:07:38.165043",
     "exception": false,
     "start_time": "2025-05-15T11:07:38.156891",
     "status": "completed"
    },
    "tags": []
   },
   "source": [
    "## 🔧 Version 2: Feature Engineering + Label Encoding\n",
    "\n",
    "This version prepares the dataset for machine learning models.  \n",
    "Steps included:\n",
    "- Importing necessary libraries\n",
    "- Adding engineered features like BMI, Intensity, Age × BMI, etc.\n",
    "- Encoding categorical variables (`Sex`)"
   ]
  },
  {
   "cell_type": "code",
   "execution_count": 1,
   "id": "6f0ec1df",
   "metadata": {
    "execution": {
     "iopub.execute_input": "2025-05-15T11:07:38.180481Z",
     "iopub.status.busy": "2025-05-15T11:07:38.180144Z",
     "iopub.status.idle": "2025-05-15T11:07:42.543461Z",
     "shell.execute_reply": "2025-05-15T11:07:42.542385Z"
    },
    "papermill": {
     "duration": 4.373131,
     "end_time": "2025-05-15T11:07:42.545209",
     "exception": false,
     "start_time": "2025-05-15T11:07:38.172078",
     "status": "completed"
    },
    "tags": []
   },
   "outputs": [],
   "source": [
    "import pandas as pd\n",
    "import numpy as np\n",
    "import seaborn as sns\n",
    "import matplotlib.pyplot as plt\n",
    "from sklearn.preprocessing import LabelEncoder"
   ]
  },
  {
   "cell_type": "code",
   "execution_count": 2,
   "id": "da67a467",
   "metadata": {
    "execution": {
     "iopub.execute_input": "2025-05-15T11:07:42.559771Z",
     "iopub.status.busy": "2025-05-15T11:07:42.559225Z",
     "iopub.status.idle": "2025-05-15T11:07:43.852814Z",
     "shell.execute_reply": "2025-05-15T11:07:43.851804Z"
    },
    "papermill": {
     "duration": 1.302753,
     "end_time": "2025-05-15T11:07:43.854691",
     "exception": false,
     "start_time": "2025-05-15T11:07:42.551938",
     "status": "completed"
    },
    "tags": []
   },
   "outputs": [],
   "source": [
    "# Load training and test datasets\n",
    "train = pd.read_csv(\"/kaggle/input/playground-series-s5e5/train.csv\")\n",
    "test = pd.read_csv(\"/kaggle/input/playground-series-s5e5/test.csv\")\n",
    "sample_submission = pd.read_csv(\"/kaggle/input/playground-series-s5e5/sample_submission.csv\")"
   ]
  },
  {
   "cell_type": "markdown",
   "id": "434d7faa",
   "metadata": {
    "papermill": {
     "duration": 0.006133,
     "end_time": "2025-05-15T11:07:43.867274",
     "exception": false,
     "start_time": "2025-05-15T11:07:43.861141",
     "status": "completed"
    },
    "tags": []
   },
   "source": [
    "### 📐 Feature Engineering\n",
    "\n",
    "New features created:\n",
    "- **BMI** = Weight / (Height in meters)^2\n",
    "- **Intensity** = Duration × Heart Rate\n",
    "- **Age_BMI** = Age × BMI\n",
    "- **Cardio_Effort** = Heart Rate / Duration (plus 1 to avoid division by zero)"
   ]
  },
  {
   "cell_type": "code",
   "execution_count": 3,
   "id": "968187c6",
   "metadata": {
    "execution": {
     "iopub.execute_input": "2025-05-15T11:07:43.882677Z",
     "iopub.status.busy": "2025-05-15T11:07:43.881562Z",
     "iopub.status.idle": "2025-05-15T11:07:43.945251Z",
     "shell.execute_reply": "2025-05-15T11:07:43.944416Z"
    },
    "papermill": {
     "duration": 0.073042,
     "end_time": "2025-05-15T11:07:43.947158",
     "exception": false,
     "start_time": "2025-05-15T11:07:43.874116",
     "status": "completed"
    },
    "tags": []
   },
   "outputs": [],
   "source": [
    "def add_features(df):\n",
    "    df['BMI'] = df['Weight'] / ((df['Height'] / 100) ** 2)\n",
    "    df['Intensity'] = df['Duration'] * df['Heart_Rate']\n",
    "    df['Age_BMI'] = df['Age'] * df['BMI']\n",
    "    df['Cardio_Effort'] = df['Heart_Rate'] / (df['Duration'] + 1)\n",
    "    return df\n",
    "\n",
    "# Apply to both datasets\n",
    "train = add_features(train)\n",
    "test = add_features(test)"
   ]
  },
  {
   "cell_type": "markdown",
   "id": "3671f970",
   "metadata": {
    "papermill": {
     "duration": 0.005915,
     "end_time": "2025-05-15T11:07:43.959795",
     "exception": false,
     "start_time": "2025-05-15T11:07:43.953880",
     "status": "completed"
    },
    "tags": []
   },
   "source": [
    "### 🔢 Label Encoding for 'Sex'\n",
    "\n",
    "The 'Sex' column contains categorical values: \"male\" and \"female\".  \n",
    "We convert them into numerical format using LabelEncoder:\n",
    "- female → 0\n",
    "- male → 1\n"
   ]
  },
  {
   "cell_type": "code",
   "execution_count": 4,
   "id": "814662a6",
   "metadata": {
    "execution": {
     "iopub.execute_input": "2025-05-15T11:07:43.973598Z",
     "iopub.status.busy": "2025-05-15T11:07:43.973247Z",
     "iopub.status.idle": "2025-05-15T11:07:44.161991Z",
     "shell.execute_reply": "2025-05-15T11:07:44.160927Z"
    },
    "papermill": {
     "duration": 0.198152,
     "end_time": "2025-05-15T11:07:44.163991",
     "exception": false,
     "start_time": "2025-05-15T11:07:43.965839",
     "status": "completed"
    },
    "tags": []
   },
   "outputs": [],
   "source": [
    "le = LabelEncoder()\n",
    "train['Sex'] = le.fit_transform(train['Sex'])\n",
    "test['Sex'] = le.transform(test['Sex'])  # Important: use the same encoder\n"
   ]
  },
  {
   "cell_type": "markdown",
   "id": "41b7bc3d",
   "metadata": {
    "papermill": {
     "duration": 0.006065,
     "end_time": "2025-05-15T11:07:44.176802",
     "exception": false,
     "start_time": "2025-05-15T11:07:44.170737",
     "status": "completed"
    },
    "tags": []
   },
   "source": [
    "### 📊 Preview the Updated Dataset\n"
   ]
  },
  {
   "cell_type": "code",
   "execution_count": 5,
   "id": "9a9f847f",
   "metadata": {
    "execution": {
     "iopub.execute_input": "2025-05-15T11:07:44.191835Z",
     "iopub.status.busy": "2025-05-15T11:07:44.190788Z",
     "iopub.status.idle": "2025-05-15T11:07:44.222052Z",
     "shell.execute_reply": "2025-05-15T11:07:44.221072Z"
    },
    "papermill": {
     "duration": 0.040135,
     "end_time": "2025-05-15T11:07:44.223519",
     "exception": false,
     "start_time": "2025-05-15T11:07:44.183384",
     "status": "completed"
    },
    "tags": []
   },
   "outputs": [
    {
     "data": {
      "text/html": [
       "<div>\n",
       "<style scoped>\n",
       "    .dataframe tbody tr th:only-of-type {\n",
       "        vertical-align: middle;\n",
       "    }\n",
       "\n",
       "    .dataframe tbody tr th {\n",
       "        vertical-align: top;\n",
       "    }\n",
       "\n",
       "    .dataframe thead th {\n",
       "        text-align: right;\n",
       "    }\n",
       "</style>\n",
       "<table border=\"1\" class=\"dataframe\">\n",
       "  <thead>\n",
       "    <tr style=\"text-align: right;\">\n",
       "      <th></th>\n",
       "      <th>id</th>\n",
       "      <th>Sex</th>\n",
       "      <th>Age</th>\n",
       "      <th>Height</th>\n",
       "      <th>Weight</th>\n",
       "      <th>Duration</th>\n",
       "      <th>Heart_Rate</th>\n",
       "      <th>Body_Temp</th>\n",
       "      <th>Calories</th>\n",
       "      <th>BMI</th>\n",
       "      <th>Intensity</th>\n",
       "      <th>Age_BMI</th>\n",
       "      <th>Cardio_Effort</th>\n",
       "    </tr>\n",
       "  </thead>\n",
       "  <tbody>\n",
       "    <tr>\n",
       "      <th>0</th>\n",
       "      <td>0</td>\n",
       "      <td>1</td>\n",
       "      <td>36</td>\n",
       "      <td>189.0</td>\n",
       "      <td>82.0</td>\n",
       "      <td>26.0</td>\n",
       "      <td>101.0</td>\n",
       "      <td>41.0</td>\n",
       "      <td>150.0</td>\n",
       "      <td>22.955684</td>\n",
       "      <td>2626.0</td>\n",
       "      <td>826.404636</td>\n",
       "      <td>3.740741</td>\n",
       "    </tr>\n",
       "    <tr>\n",
       "      <th>1</th>\n",
       "      <td>1</td>\n",
       "      <td>0</td>\n",
       "      <td>64</td>\n",
       "      <td>163.0</td>\n",
       "      <td>60.0</td>\n",
       "      <td>8.0</td>\n",
       "      <td>85.0</td>\n",
       "      <td>39.7</td>\n",
       "      <td>34.0</td>\n",
       "      <td>22.582709</td>\n",
       "      <td>680.0</td>\n",
       "      <td>1445.293387</td>\n",
       "      <td>9.444444</td>\n",
       "    </tr>\n",
       "    <tr>\n",
       "      <th>2</th>\n",
       "      <td>2</td>\n",
       "      <td>0</td>\n",
       "      <td>51</td>\n",
       "      <td>161.0</td>\n",
       "      <td>64.0</td>\n",
       "      <td>7.0</td>\n",
       "      <td>84.0</td>\n",
       "      <td>39.8</td>\n",
       "      <td>29.0</td>\n",
       "      <td>24.690405</td>\n",
       "      <td>588.0</td>\n",
       "      <td>1259.210679</td>\n",
       "      <td>10.500000</td>\n",
       "    </tr>\n",
       "    <tr>\n",
       "      <th>3</th>\n",
       "      <td>3</td>\n",
       "      <td>1</td>\n",
       "      <td>20</td>\n",
       "      <td>192.0</td>\n",
       "      <td>90.0</td>\n",
       "      <td>25.0</td>\n",
       "      <td>105.0</td>\n",
       "      <td>40.7</td>\n",
       "      <td>140.0</td>\n",
       "      <td>24.414062</td>\n",
       "      <td>2625.0</td>\n",
       "      <td>488.281250</td>\n",
       "      <td>4.038462</td>\n",
       "    </tr>\n",
       "    <tr>\n",
       "      <th>4</th>\n",
       "      <td>4</td>\n",
       "      <td>0</td>\n",
       "      <td>38</td>\n",
       "      <td>166.0</td>\n",
       "      <td>61.0</td>\n",
       "      <td>25.0</td>\n",
       "      <td>102.0</td>\n",
       "      <td>40.6</td>\n",
       "      <td>146.0</td>\n",
       "      <td>22.136740</td>\n",
       "      <td>2550.0</td>\n",
       "      <td>841.196110</td>\n",
       "      <td>3.923077</td>\n",
       "    </tr>\n",
       "  </tbody>\n",
       "</table>\n",
       "</div>"
      ],
      "text/plain": [
       "   id  Sex  Age  Height  Weight  Duration  Heart_Rate  Body_Temp  Calories  \\\n",
       "0   0    1   36   189.0    82.0      26.0       101.0       41.0     150.0   \n",
       "1   1    0   64   163.0    60.0       8.0        85.0       39.7      34.0   \n",
       "2   2    0   51   161.0    64.0       7.0        84.0       39.8      29.0   \n",
       "3   3    1   20   192.0    90.0      25.0       105.0       40.7     140.0   \n",
       "4   4    0   38   166.0    61.0      25.0       102.0       40.6     146.0   \n",
       "\n",
       "         BMI  Intensity      Age_BMI  Cardio_Effort  \n",
       "0  22.955684     2626.0   826.404636       3.740741  \n",
       "1  22.582709      680.0  1445.293387       9.444444  \n",
       "2  24.690405      588.0  1259.210679      10.500000  \n",
       "3  24.414062     2625.0   488.281250       4.038462  \n",
       "4  22.136740     2550.0   841.196110       3.923077  "
      ]
     },
     "execution_count": 5,
     "metadata": {},
     "output_type": "execute_result"
    }
   ],
   "source": [
    "train.head()"
   ]
  },
  {
   "cell_type": "markdown",
   "id": "c45f3240",
   "metadata": {
    "papermill": {
     "duration": 0.006485,
     "end_time": "2025-05-15T11:07:44.236759",
     "exception": false,
     "start_time": "2025-05-15T11:07:44.230274",
     "status": "completed"
    },
    "tags": []
   },
   "source": [
    "## 🚀 Version 3: XGBoost Model with Feature Engineering\n",
    "\n",
    "This version includes:\n",
    "- Train/Validation split\n",
    "- Log transformation on target (`Calories`)\n",
    "- XGBoost training and validation\n",
    "- Prediction on test set\n",
    "- Saving the submission file"
   ]
  },
  {
   "cell_type": "code",
   "execution_count": 6,
   "id": "89fd5d17",
   "metadata": {
    "_cell_guid": "b1076dfc-b9ad-4769-8c92-a6c4dae69d19",
    "_uuid": "8f2839f25d086af736a60e9eeb907d3b93b6e0e5",
    "execution": {
     "iopub.execute_input": "2025-05-15T11:07:44.251399Z",
     "iopub.status.busy": "2025-05-15T11:07:44.251088Z",
     "iopub.status.idle": "2025-05-15T11:07:44.692641Z",
     "shell.execute_reply": "2025-05-15T11:07:44.691830Z"
    },
    "papermill": {
     "duration": 0.450875,
     "end_time": "2025-05-15T11:07:44.694276",
     "exception": false,
     "start_time": "2025-05-15T11:07:44.243401",
     "status": "completed"
    },
    "tags": []
   },
   "outputs": [],
   "source": [
    "from sklearn.model_selection import train_test_split\n",
    "from sklearn.metrics import mean_squared_error\n",
    "from xgboost import XGBRegressor"
   ]
  },
  {
   "cell_type": "code",
   "execution_count": 7,
   "id": "c521eb7d",
   "metadata": {
    "execution": {
     "iopub.execute_input": "2025-05-15T11:07:44.709190Z",
     "iopub.status.busy": "2025-05-15T11:07:44.708230Z",
     "iopub.status.idle": "2025-05-15T11:07:44.764322Z",
     "shell.execute_reply": "2025-05-15T11:07:44.763313Z"
    },
    "papermill": {
     "duration": 0.065106,
     "end_time": "2025-05-15T11:07:44.765968",
     "exception": false,
     "start_time": "2025-05-15T11:07:44.700862",
     "status": "completed"
    },
    "tags": []
   },
   "outputs": [],
   "source": [
    "# Drop ID and target from input features\n",
    "X = train.drop(columns=['id', 'Calories'])\n",
    "y = train['Calories']"
   ]
  },
  {
   "cell_type": "markdown",
   "id": "05628b3b",
   "metadata": {
    "papermill": {
     "duration": 0.006535,
     "end_time": "2025-05-15T11:07:44.779065",
     "exception": false,
     "start_time": "2025-05-15T11:07:44.772530",
     "status": "completed"
    },
    "tags": []
   },
   "source": [
    "### 📐 Feature Engineering\n",
    "\n",
    "New features created:\n",
    "- **BMI** = Weight / (Height in meters)^2\n",
    "- **Intensity** = Duration × Heart Rate\n",
    "- **Age_BMI** = Age × BMI\n",
    "- **Cardio_Effort** = Heart Rate / Duration (plus 1 to avoid division by zero)\n"
   ]
  },
  {
   "cell_type": "code",
   "execution_count": 8,
   "id": "b72540df",
   "metadata": {
    "execution": {
     "iopub.execute_input": "2025-05-15T11:07:44.792814Z",
     "iopub.status.busy": "2025-05-15T11:07:44.792442Z",
     "iopub.status.idle": "2025-05-15T11:07:45.004546Z",
     "shell.execute_reply": "2025-05-15T11:07:45.003694Z"
    },
    "papermill": {
     "duration": 0.220932,
     "end_time": "2025-05-15T11:07:45.006216",
     "exception": false,
     "start_time": "2025-05-15T11:07:44.785284",
     "status": "completed"
    },
    "tags": []
   },
   "outputs": [],
   "source": [
    "# Split data for validation\n",
    "X_train, X_val, y_train, y_val = train_test_split(X, y, test_size=0.2, random_state=42)\n",
    "\n",
    "# Apply log transformation to target (log1p to avoid log(0))\n",
    "y_train_log = np.log1p(y_train)\n",
    "y_val_log = np.log1p(y_val)"
   ]
  },
  {
   "cell_type": "markdown",
   "id": "6c9d3e5f",
   "metadata": {
    "papermill": {
     "duration": 0.006233,
     "end_time": "2025-05-15T11:07:45.019006",
     "exception": false,
     "start_time": "2025-05-15T11:07:45.012773",
     "status": "completed"
    },
    "tags": []
   },
   "source": [
    "### 🔢 Label Encoding for 'Sex'\n",
    "\n",
    "The 'Sex' column contains categorical values: \"male\" and \"female\".  \n",
    "We convert them into numerical format using LabelEncoder:\n",
    "- female → 0\n",
    "- male → 1\n"
   ]
  },
  {
   "cell_type": "code",
   "execution_count": 9,
   "id": "06894d0b",
   "metadata": {
    "execution": {
     "iopub.execute_input": "2025-05-15T11:07:45.033086Z",
     "iopub.status.busy": "2025-05-15T11:07:45.032782Z",
     "iopub.status.idle": "2025-05-15T11:07:45.097060Z",
     "shell.execute_reply": "2025-05-15T11:07:45.096297Z"
    },
    "papermill": {
     "duration": 0.073314,
     "end_time": "2025-05-15T11:07:45.098683",
     "exception": false,
     "start_time": "2025-05-15T11:07:45.025369",
     "status": "completed"
    },
    "tags": []
   },
   "outputs": [],
   "source": [
    "le = LabelEncoder()\n",
    "train['Sex'] = le.fit_transform(train['Sex'])\n",
    "test['Sex'] = le.transform(test['Sex'])  # Important: use the same encoder"
   ]
  },
  {
   "cell_type": "code",
   "execution_count": 10,
   "id": "564ebbee",
   "metadata": {
    "execution": {
     "iopub.execute_input": "2025-05-15T11:07:45.113047Z",
     "iopub.status.busy": "2025-05-15T11:07:45.112709Z",
     "iopub.status.idle": "2025-05-15T11:07:45.116894Z",
     "shell.execute_reply": "2025-05-15T11:07:45.116152Z"
    },
    "papermill": {
     "duration": 0.012925,
     "end_time": "2025-05-15T11:07:45.118137",
     "exception": false,
     "start_time": "2025-05-15T11:07:45.105212",
     "status": "completed"
    },
    "tags": []
   },
   "outputs": [],
   "source": [
    "### 📊 Preview the Updated Dataset"
   ]
  },
  {
   "cell_type": "code",
   "execution_count": 11,
   "id": "2a635f65",
   "metadata": {
    "execution": {
     "iopub.execute_input": "2025-05-15T11:07:45.132901Z",
     "iopub.status.busy": "2025-05-15T11:07:45.132538Z",
     "iopub.status.idle": "2025-05-15T11:07:45.148404Z",
     "shell.execute_reply": "2025-05-15T11:07:45.147443Z"
    },
    "papermill": {
     "duration": 0.024825,
     "end_time": "2025-05-15T11:07:45.149913",
     "exception": false,
     "start_time": "2025-05-15T11:07:45.125088",
     "status": "completed"
    },
    "tags": []
   },
   "outputs": [
    {
     "data": {
      "text/html": [
       "<div>\n",
       "<style scoped>\n",
       "    .dataframe tbody tr th:only-of-type {\n",
       "        vertical-align: middle;\n",
       "    }\n",
       "\n",
       "    .dataframe tbody tr th {\n",
       "        vertical-align: top;\n",
       "    }\n",
       "\n",
       "    .dataframe thead th {\n",
       "        text-align: right;\n",
       "    }\n",
       "</style>\n",
       "<table border=\"1\" class=\"dataframe\">\n",
       "  <thead>\n",
       "    <tr style=\"text-align: right;\">\n",
       "      <th></th>\n",
       "      <th>id</th>\n",
       "      <th>Sex</th>\n",
       "      <th>Age</th>\n",
       "      <th>Height</th>\n",
       "      <th>Weight</th>\n",
       "      <th>Duration</th>\n",
       "      <th>Heart_Rate</th>\n",
       "      <th>Body_Temp</th>\n",
       "      <th>Calories</th>\n",
       "      <th>BMI</th>\n",
       "      <th>Intensity</th>\n",
       "      <th>Age_BMI</th>\n",
       "      <th>Cardio_Effort</th>\n",
       "    </tr>\n",
       "  </thead>\n",
       "  <tbody>\n",
       "    <tr>\n",
       "      <th>0</th>\n",
       "      <td>0</td>\n",
       "      <td>1</td>\n",
       "      <td>36</td>\n",
       "      <td>189.0</td>\n",
       "      <td>82.0</td>\n",
       "      <td>26.0</td>\n",
       "      <td>101.0</td>\n",
       "      <td>41.0</td>\n",
       "      <td>150.0</td>\n",
       "      <td>22.955684</td>\n",
       "      <td>2626.0</td>\n",
       "      <td>826.404636</td>\n",
       "      <td>3.740741</td>\n",
       "    </tr>\n",
       "    <tr>\n",
       "      <th>1</th>\n",
       "      <td>1</td>\n",
       "      <td>0</td>\n",
       "      <td>64</td>\n",
       "      <td>163.0</td>\n",
       "      <td>60.0</td>\n",
       "      <td>8.0</td>\n",
       "      <td>85.0</td>\n",
       "      <td>39.7</td>\n",
       "      <td>34.0</td>\n",
       "      <td>22.582709</td>\n",
       "      <td>680.0</td>\n",
       "      <td>1445.293387</td>\n",
       "      <td>9.444444</td>\n",
       "    </tr>\n",
       "    <tr>\n",
       "      <th>2</th>\n",
       "      <td>2</td>\n",
       "      <td>0</td>\n",
       "      <td>51</td>\n",
       "      <td>161.0</td>\n",
       "      <td>64.0</td>\n",
       "      <td>7.0</td>\n",
       "      <td>84.0</td>\n",
       "      <td>39.8</td>\n",
       "      <td>29.0</td>\n",
       "      <td>24.690405</td>\n",
       "      <td>588.0</td>\n",
       "      <td>1259.210679</td>\n",
       "      <td>10.500000</td>\n",
       "    </tr>\n",
       "    <tr>\n",
       "      <th>3</th>\n",
       "      <td>3</td>\n",
       "      <td>1</td>\n",
       "      <td>20</td>\n",
       "      <td>192.0</td>\n",
       "      <td>90.0</td>\n",
       "      <td>25.0</td>\n",
       "      <td>105.0</td>\n",
       "      <td>40.7</td>\n",
       "      <td>140.0</td>\n",
       "      <td>24.414062</td>\n",
       "      <td>2625.0</td>\n",
       "      <td>488.281250</td>\n",
       "      <td>4.038462</td>\n",
       "    </tr>\n",
       "    <tr>\n",
       "      <th>4</th>\n",
       "      <td>4</td>\n",
       "      <td>0</td>\n",
       "      <td>38</td>\n",
       "      <td>166.0</td>\n",
       "      <td>61.0</td>\n",
       "      <td>25.0</td>\n",
       "      <td>102.0</td>\n",
       "      <td>40.6</td>\n",
       "      <td>146.0</td>\n",
       "      <td>22.136740</td>\n",
       "      <td>2550.0</td>\n",
       "      <td>841.196110</td>\n",
       "      <td>3.923077</td>\n",
       "    </tr>\n",
       "  </tbody>\n",
       "</table>\n",
       "</div>"
      ],
      "text/plain": [
       "   id  Sex  Age  Height  Weight  Duration  Heart_Rate  Body_Temp  Calories  \\\n",
       "0   0    1   36   189.0    82.0      26.0       101.0       41.0     150.0   \n",
       "1   1    0   64   163.0    60.0       8.0        85.0       39.7      34.0   \n",
       "2   2    0   51   161.0    64.0       7.0        84.0       39.8      29.0   \n",
       "3   3    1   20   192.0    90.0      25.0       105.0       40.7     140.0   \n",
       "4   4    0   38   166.0    61.0      25.0       102.0       40.6     146.0   \n",
       "\n",
       "         BMI  Intensity      Age_BMI  Cardio_Effort  \n",
       "0  22.955684     2626.0   826.404636       3.740741  \n",
       "1  22.582709      680.0  1445.293387       9.444444  \n",
       "2  24.690405      588.0  1259.210679      10.500000  \n",
       "3  24.414062     2625.0   488.281250       4.038462  \n",
       "4  22.136740     2550.0   841.196110       3.923077  "
      ]
     },
     "execution_count": 11,
     "metadata": {},
     "output_type": "execute_result"
    }
   ],
   "source": [
    "train.head()"
   ]
  },
  {
   "cell_type": "markdown",
   "id": "43e12069",
   "metadata": {
    "papermill": {
     "duration": 0.0067,
     "end_time": "2025-05-15T11:07:45.163796",
     "exception": false,
     "start_time": "2025-05-15T11:07:45.157096",
     "status": "completed"
    },
    "tags": []
   },
   "source": [
    "## 🚀 Version 4: XGBoost Model Training (with log1p target)\n",
    "\n",
    "This version continues from Version 3 where feature engineering was completed.\n",
    "\n",
    "Steps:\n",
    "- Define input features `X` and target `y`\n",
    "- Split the training data for validation\n",
    "- Apply log transformation to the target\n",
    "- Train XGBoost regressor\n",
    "- Evaluate performance using RMSE (log)\n",
    "- Predict on the test set\n",
    "- Save the predictions in `submission_xgb_fe.csv`\n"
   ]
  },
  {
   "cell_type": "code",
   "execution_count": 12,
   "id": "67cb2982",
   "metadata": {
    "execution": {
     "iopub.execute_input": "2025-05-15T11:07:45.178496Z",
     "iopub.status.busy": "2025-05-15T11:07:45.178162Z",
     "iopub.status.idle": "2025-05-15T11:07:45.182535Z",
     "shell.execute_reply": "2025-05-15T11:07:45.181583Z"
    },
    "papermill": {
     "duration": 0.013473,
     "end_time": "2025-05-15T11:07:45.184134",
     "exception": false,
     "start_time": "2025-05-15T11:07:45.170661",
     "status": "completed"
    },
    "tags": []
   },
   "outputs": [],
   "source": [
    "from sklearn.model_selection import train_test_split\n",
    "from sklearn.metrics import mean_squared_error\n",
    "from xgboost import XGBRegressor"
   ]
  },
  {
   "cell_type": "code",
   "execution_count": 13,
   "id": "d4a8a162",
   "metadata": {
    "execution": {
     "iopub.execute_input": "2025-05-15T11:07:45.199233Z",
     "iopub.status.busy": "2025-05-15T11:07:45.198949Z",
     "iopub.status.idle": "2025-05-15T11:07:45.251694Z",
     "shell.execute_reply": "2025-05-15T11:07:45.250533Z"
    },
    "papermill": {
     "duration": 0.06244,
     "end_time": "2025-05-15T11:07:45.253482",
     "exception": false,
     "start_time": "2025-05-15T11:07:45.191042",
     "status": "completed"
    },
    "tags": []
   },
   "outputs": [],
   "source": [
    "# Drop ID and Calories from training features\n",
    "X = train.drop(columns=['id', 'Calories'])\n",
    "y = train['Calories']"
   ]
  },
  {
   "cell_type": "code",
   "execution_count": 14,
   "id": "de17e787",
   "metadata": {
    "execution": {
     "iopub.execute_input": "2025-05-15T11:07:45.268517Z",
     "iopub.status.busy": "2025-05-15T11:07:45.268229Z",
     "iopub.status.idle": "2025-05-15T11:07:45.445369Z",
     "shell.execute_reply": "2025-05-15T11:07:45.444529Z"
    },
    "papermill": {
     "duration": 0.186854,
     "end_time": "2025-05-15T11:07:45.447225",
     "exception": false,
     "start_time": "2025-05-15T11:07:45.260371",
     "status": "completed"
    },
    "tags": []
   },
   "outputs": [],
   "source": [
    "X_train, X_val, y_train, y_val = train_test_split(X, y, test_size=0.2, random_state=42)"
   ]
  },
  {
   "cell_type": "code",
   "execution_count": 15,
   "id": "8a83a1f7",
   "metadata": {
    "execution": {
     "iopub.execute_input": "2025-05-15T11:07:45.463330Z",
     "iopub.status.busy": "2025-05-15T11:07:45.462469Z",
     "iopub.status.idle": "2025-05-15T11:07:45.468971Z",
     "shell.execute_reply": "2025-05-15T11:07:45.468094Z"
    },
    "papermill": {
     "duration": 0.016193,
     "end_time": "2025-05-15T11:07:45.470734",
     "exception": false,
     "start_time": "2025-05-15T11:07:45.454541",
     "status": "completed"
    },
    "tags": []
   },
   "outputs": [],
   "source": [
    "y_train_log = np.log1p(y_train)\n",
    "y_val_log = np.log1p(y_val)"
   ]
  },
  {
   "cell_type": "markdown",
   "id": "2dddbed6",
   "metadata": {
    "papermill": {
     "duration": 0.006589,
     "end_time": "2025-05-15T11:07:45.484636",
     "exception": false,
     "start_time": "2025-05-15T11:07:45.478047",
     "status": "completed"
    },
    "tags": []
   },
   "source": [
    "### 🧠 Train XGBoost Regressor\n",
    "\n",
    "We use:\n",
    "- 500 estimators\n",
    "- Learning rate = 0.05\n",
    "- max_depth = 6\n",
    "- 80% subsample"
   ]
  },
  {
   "cell_type": "code",
   "execution_count": 16,
   "id": "9e740783",
   "metadata": {
    "execution": {
     "iopub.execute_input": "2025-05-15T11:07:45.499587Z",
     "iopub.status.busy": "2025-05-15T11:07:45.499238Z",
     "iopub.status.idle": "2025-05-15T11:07:56.196188Z",
     "shell.execute_reply": "2025-05-15T11:07:56.195198Z"
    },
    "papermill": {
     "duration": 10.706399,
     "end_time": "2025-05-15T11:07:56.197848",
     "exception": false,
     "start_time": "2025-05-15T11:07:45.491449",
     "status": "completed"
    },
    "tags": []
   },
   "outputs": [
    {
     "data": {
      "text/html": [
       "<style>#sk-container-id-1 {color: black;background-color: white;}#sk-container-id-1 pre{padding: 0;}#sk-container-id-1 div.sk-toggleable {background-color: white;}#sk-container-id-1 label.sk-toggleable__label {cursor: pointer;display: block;width: 100%;margin-bottom: 0;padding: 0.3em;box-sizing: border-box;text-align: center;}#sk-container-id-1 label.sk-toggleable__label-arrow:before {content: \"▸\";float: left;margin-right: 0.25em;color: #696969;}#sk-container-id-1 label.sk-toggleable__label-arrow:hover:before {color: black;}#sk-container-id-1 div.sk-estimator:hover label.sk-toggleable__label-arrow:before {color: black;}#sk-container-id-1 div.sk-toggleable__content {max-height: 0;max-width: 0;overflow: hidden;text-align: left;background-color: #f0f8ff;}#sk-container-id-1 div.sk-toggleable__content pre {margin: 0.2em;color: black;border-radius: 0.25em;background-color: #f0f8ff;}#sk-container-id-1 input.sk-toggleable__control:checked~div.sk-toggleable__content {max-height: 200px;max-width: 100%;overflow: auto;}#sk-container-id-1 input.sk-toggleable__control:checked~label.sk-toggleable__label-arrow:before {content: \"▾\";}#sk-container-id-1 div.sk-estimator input.sk-toggleable__control:checked~label.sk-toggleable__label {background-color: #d4ebff;}#sk-container-id-1 div.sk-label input.sk-toggleable__control:checked~label.sk-toggleable__label {background-color: #d4ebff;}#sk-container-id-1 input.sk-hidden--visually {border: 0;clip: rect(1px 1px 1px 1px);clip: rect(1px, 1px, 1px, 1px);height: 1px;margin: -1px;overflow: hidden;padding: 0;position: absolute;width: 1px;}#sk-container-id-1 div.sk-estimator {font-family: monospace;background-color: #f0f8ff;border: 1px dotted black;border-radius: 0.25em;box-sizing: border-box;margin-bottom: 0.5em;}#sk-container-id-1 div.sk-estimator:hover {background-color: #d4ebff;}#sk-container-id-1 div.sk-parallel-item::after {content: \"\";width: 100%;border-bottom: 1px solid gray;flex-grow: 1;}#sk-container-id-1 div.sk-label:hover label.sk-toggleable__label {background-color: #d4ebff;}#sk-container-id-1 div.sk-serial::before {content: \"\";position: absolute;border-left: 1px solid gray;box-sizing: border-box;top: 0;bottom: 0;left: 50%;z-index: 0;}#sk-container-id-1 div.sk-serial {display: flex;flex-direction: column;align-items: center;background-color: white;padding-right: 0.2em;padding-left: 0.2em;position: relative;}#sk-container-id-1 div.sk-item {position: relative;z-index: 1;}#sk-container-id-1 div.sk-parallel {display: flex;align-items: stretch;justify-content: center;background-color: white;position: relative;}#sk-container-id-1 div.sk-item::before, #sk-container-id-1 div.sk-parallel-item::before {content: \"\";position: absolute;border-left: 1px solid gray;box-sizing: border-box;top: 0;bottom: 0;left: 50%;z-index: -1;}#sk-container-id-1 div.sk-parallel-item {display: flex;flex-direction: column;z-index: 1;position: relative;background-color: white;}#sk-container-id-1 div.sk-parallel-item:first-child::after {align-self: flex-end;width: 50%;}#sk-container-id-1 div.sk-parallel-item:last-child::after {align-self: flex-start;width: 50%;}#sk-container-id-1 div.sk-parallel-item:only-child::after {width: 0;}#sk-container-id-1 div.sk-dashed-wrapped {border: 1px dashed gray;margin: 0 0.4em 0.5em 0.4em;box-sizing: border-box;padding-bottom: 0.4em;background-color: white;}#sk-container-id-1 div.sk-label label {font-family: monospace;font-weight: bold;display: inline-block;line-height: 1.2em;}#sk-container-id-1 div.sk-label-container {text-align: center;}#sk-container-id-1 div.sk-container {/* jupyter's `normalize.less` sets `[hidden] { display: none; }` but bootstrap.min.css set `[hidden] { display: none !important; }` so we also need the `!important` here to be able to override the default hidden behavior on the sphinx rendered scikit-learn.org. See: https://github.com/scikit-learn/scikit-learn/issues/21755 */display: inline-block !important;position: relative;}#sk-container-id-1 div.sk-text-repr-fallback {display: none;}</style><div id=\"sk-container-id-1\" class=\"sk-top-container\"><div class=\"sk-text-repr-fallback\"><pre>XGBRegressor(base_score=None, booster=None, callbacks=None,\n",
       "             colsample_bylevel=None, colsample_bynode=None,\n",
       "             colsample_bytree=0.8, device=None, early_stopping_rounds=None,\n",
       "             enable_categorical=False, eval_metric=None, feature_types=None,\n",
       "             gamma=None, grow_policy=None, importance_type=None,\n",
       "             interaction_constraints=None, learning_rate=0.05, max_bin=None,\n",
       "             max_cat_threshold=None, max_cat_to_onehot=None,\n",
       "             max_delta_step=None, max_depth=6, max_leaves=None,\n",
       "             min_child_weight=None, missing=nan, monotone_constraints=None,\n",
       "             multi_strategy=None, n_estimators=500, n_jobs=None,\n",
       "             num_parallel_tree=None, random_state=42, ...)</pre><b>In a Jupyter environment, please rerun this cell to show the HTML representation or trust the notebook. <br />On GitHub, the HTML representation is unable to render, please try loading this page with nbviewer.org.</b></div><div class=\"sk-container\" hidden><div class=\"sk-item\"><div class=\"sk-estimator sk-toggleable\"><input class=\"sk-toggleable__control sk-hidden--visually\" id=\"sk-estimator-id-1\" type=\"checkbox\" checked><label for=\"sk-estimator-id-1\" class=\"sk-toggleable__label sk-toggleable__label-arrow\">XGBRegressor</label><div class=\"sk-toggleable__content\"><pre>XGBRegressor(base_score=None, booster=None, callbacks=None,\n",
       "             colsample_bylevel=None, colsample_bynode=None,\n",
       "             colsample_bytree=0.8, device=None, early_stopping_rounds=None,\n",
       "             enable_categorical=False, eval_metric=None, feature_types=None,\n",
       "             gamma=None, grow_policy=None, importance_type=None,\n",
       "             interaction_constraints=None, learning_rate=0.05, max_bin=None,\n",
       "             max_cat_threshold=None, max_cat_to_onehot=None,\n",
       "             max_delta_step=None, max_depth=6, max_leaves=None,\n",
       "             min_child_weight=None, missing=nan, monotone_constraints=None,\n",
       "             multi_strategy=None, n_estimators=500, n_jobs=None,\n",
       "             num_parallel_tree=None, random_state=42, ...)</pre></div></div></div></div></div>"
      ],
      "text/plain": [
       "XGBRegressor(base_score=None, booster=None, callbacks=None,\n",
       "             colsample_bylevel=None, colsample_bynode=None,\n",
       "             colsample_bytree=0.8, device=None, early_stopping_rounds=None,\n",
       "             enable_categorical=False, eval_metric=None, feature_types=None,\n",
       "             gamma=None, grow_policy=None, importance_type=None,\n",
       "             interaction_constraints=None, learning_rate=0.05, max_bin=None,\n",
       "             max_cat_threshold=None, max_cat_to_onehot=None,\n",
       "             max_delta_step=None, max_depth=6, max_leaves=None,\n",
       "             min_child_weight=None, missing=nan, monotone_constraints=None,\n",
       "             multi_strategy=None, n_estimators=500, n_jobs=None,\n",
       "             num_parallel_tree=None, random_state=42, ...)"
      ]
     },
     "execution_count": 16,
     "metadata": {},
     "output_type": "execute_result"
    }
   ],
   "source": [
    "model = XGBRegressor(\n",
    "    n_estimators=500,\n",
    "    learning_rate=0.05,\n",
    "    max_depth=6,\n",
    "    subsample=0.8,\n",
    "    colsample_bytree=0.8,\n",
    "    random_state=42\n",
    ")\n",
    "\n",
    "model.fit(X_train, y_train_log)\n"
   ]
  },
  {
   "cell_type": "code",
   "execution_count": 17,
   "id": "b67087ce",
   "metadata": {
    "execution": {
     "iopub.execute_input": "2025-05-15T11:07:56.214054Z",
     "iopub.status.busy": "2025-05-15T11:07:56.213722Z",
     "iopub.status.idle": "2025-05-15T11:07:56.957409Z",
     "shell.execute_reply": "2025-05-15T11:07:56.955328Z"
    },
    "papermill": {
     "duration": 0.754162,
     "end_time": "2025-05-15T11:07:56.959813",
     "exception": false,
     "start_time": "2025-05-15T11:07:56.205651",
     "status": "completed"
    },
    "tags": []
   },
   "outputs": [
    {
     "name": "stdout",
     "output_type": "stream",
     "text": [
      "Validation RMSE (log): 0.0602\n"
     ]
    }
   ],
   "source": [
    "y_val_pred_log = model.predict(X_val)\n",
    "rmse_log = np.sqrt(mean_squared_error(y_val_log, y_val_pred_log))\n",
    "print(f\"Validation RMSE (log): {rmse_log:.4f}\")"
   ]
  },
  {
   "cell_type": "markdown",
   "id": "a301e57e",
   "metadata": {
    "papermill": {
     "duration": 0.006858,
     "end_time": "2025-05-15T11:07:56.976323",
     "exception": false,
     "start_time": "2025-05-15T11:07:56.969465",
     "status": "completed"
    },
    "tags": []
   },
   "source": [
    "### 📤 Make Predictions on Test Set and Save Submission"
   ]
  },
  {
   "cell_type": "code",
   "execution_count": 18,
   "id": "e4b77f3b",
   "metadata": {
    "execution": {
     "iopub.execute_input": "2025-05-15T11:07:56.991753Z",
     "iopub.status.busy": "2025-05-15T11:07:56.991350Z",
     "iopub.status.idle": "2025-05-15T11:07:58.604235Z",
     "shell.execute_reply": "2025-05-15T11:07:58.603175Z"
    },
    "papermill": {
     "duration": 1.622923,
     "end_time": "2025-05-15T11:07:58.606277",
     "exception": false,
     "start_time": "2025-05-15T11:07:56.983354",
     "status": "completed"
    },
    "tags": []
   },
   "outputs": [],
   "source": [
    "X_test = test.drop(columns=['id'])\n",
    "test_preds_log = model.predict(X_test)\n",
    "test_preds = np.expm1(test_preds_log)\n",
    "test_preds = np.maximum(0, test_preds)  # MSLE compatibility\n",
    "\n",
    "# Save predictions\n",
    "sample_submission['Calories'] = test_preds\n",
    "sample_submission.to_csv(\"submission_xgb_fe.csv\", index=False)"
   ]
  },
  {
   "cell_type": "markdown",
   "id": "9fb9ab8d",
   "metadata": {
    "papermill": {
     "duration": 0.008921,
     "end_time": "2025-05-15T11:07:58.622809",
     "exception": false,
     "start_time": "2025-05-15T11:07:58.613888",
     "status": "completed"
    },
    "tags": []
   },
   "source": [
    "## 🐱 Version 5: CatBoost Model Training\n",
    "In this version:\n",
    "- We train a CatBoostRegressor on the same features\n",
    "- Log1p transformation is applied to the target\n",
    "- Predictions are saved in `submission_cb_fe.csv`"
   ]
  },
  {
   "cell_type": "code",
   "execution_count": 19,
   "id": "2a9afb15",
   "metadata": {
    "execution": {
     "iopub.execute_input": "2025-05-15T11:07:58.707087Z",
     "iopub.status.busy": "2025-05-15T11:07:58.706774Z",
     "iopub.status.idle": "2025-05-15T11:07:59.217323Z",
     "shell.execute_reply": "2025-05-15T11:07:59.216302Z"
    },
    "papermill": {
     "duration": 0.520643,
     "end_time": "2025-05-15T11:07:59.218993",
     "exception": false,
     "start_time": "2025-05-15T11:07:58.698350",
     "status": "completed"
    },
    "tags": []
   },
   "outputs": [],
   "source": [
    "from catboost import CatBoostRegressor\n",
    "\n",
    "# Prepare training and validation sets\n",
    "X = train.drop(columns=['id', 'Calories'])\n",
    "y = train['Calories']\n",
    "\n",
    "X_train, X_val, y_train, y_val = train_test_split(\n",
    "    X, y, test_size=0.2, random_state=42\n",
    ")\n",
    "\n",
    "# Log transform the target\n",
    "y_train_log = np.log1p(y_train)\n",
    "y_val_log = np.log1p(y_val)\n"
   ]
  },
  {
   "cell_type": "code",
   "execution_count": 20,
   "id": "742d71ab",
   "metadata": {
    "execution": {
     "iopub.execute_input": "2025-05-15T11:07:59.236001Z",
     "iopub.status.busy": "2025-05-15T11:07:59.235512Z",
     "iopub.status.idle": "2025-05-15T11:08:22.484870Z",
     "shell.execute_reply": "2025-05-15T11:08:22.483685Z"
    },
    "papermill": {
     "duration": 23.25999,
     "end_time": "2025-05-15T11:08:22.486727",
     "exception": false,
     "start_time": "2025-05-15T11:07:59.226737",
     "status": "completed"
    },
    "tags": []
   },
   "outputs": [
    {
     "data": {
      "text/plain": [
       "<catboost.core.CatBoostRegressor at 0x7f42b1a12290>"
      ]
     },
     "execution_count": 20,
     "metadata": {},
     "output_type": "execute_result"
    }
   ],
   "source": [
    "cat_model = CatBoostRegressor(\n",
    "    iterations=500,\n",
    "    learning_rate=0.05,\n",
    "    depth=6,\n",
    "    verbose=0,\n",
    "    random_state=42\n",
    ")\n",
    "cat_model.fit(X_train, y_train_log)"
   ]
  },
  {
   "cell_type": "code",
   "execution_count": 21,
   "id": "b0ee03ec",
   "metadata": {
    "execution": {
     "iopub.execute_input": "2025-05-15T11:08:22.503839Z",
     "iopub.status.busy": "2025-05-15T11:08:22.503473Z",
     "iopub.status.idle": "2025-05-15T11:08:22.566276Z",
     "shell.execute_reply": "2025-05-15T11:08:22.564995Z"
    },
    "papermill": {
     "duration": 0.07318,
     "end_time": "2025-05-15T11:08:22.568032",
     "exception": false,
     "start_time": "2025-05-15T11:08:22.494852",
     "status": "completed"
    },
    "tags": []
   },
   "outputs": [
    {
     "name": "stdout",
     "output_type": "stream",
     "text": [
      "CatBoost Validation RMSE (log): 0.0603\n"
     ]
    }
   ],
   "source": [
    "val_preds_log = cat_model.predict(X_val)\n",
    "rmse_log = np.sqrt(mean_squared_error(y_val_log, val_preds_log))\n",
    "print(f\"CatBoost Validation RMSE (log): {rmse_log:.4f}\")"
   ]
  },
  {
   "cell_type": "code",
   "execution_count": 22,
   "id": "8b5b305a",
   "metadata": {
    "execution": {
     "iopub.execute_input": "2025-05-15T11:08:22.585055Z",
     "iopub.status.busy": "2025-05-15T11:08:22.584738Z",
     "iopub.status.idle": "2025-05-15T11:08:23.275201Z",
     "shell.execute_reply": "2025-05-15T11:08:23.273815Z"
    },
    "papermill": {
     "duration": 0.701505,
     "end_time": "2025-05-15T11:08:23.277633",
     "exception": false,
     "start_time": "2025-05-15T11:08:22.576128",
     "status": "completed"
    },
    "tags": []
   },
   "outputs": [],
   "source": [
    "X_test = test.drop(columns=['id'])\n",
    "test_preds_log = cat_model.predict(X_test)\n",
    "test_preds = np.expm1(test_preds_log)\n",
    "test_preds = np.maximum(0, test_preds)\n",
    "\n",
    "sample_submission['Calories'] = test_preds\n",
    "sample_submission.to_csv(\"submission_cb_fe.csv\", index=False)"
   ]
  },
  {
   "cell_type": "markdown",
   "id": "34d9384f",
   "metadata": {
    "papermill": {
     "duration": 0.007883,
     "end_time": "2025-05-15T11:08:23.293241",
     "exception": false,
     "start_time": "2025-05-15T11:08:23.285358",
     "status": "completed"
    },
    "tags": []
   },
   "source": [
    "## 🤖 Version 5: MLP Model (Neural Network with Keras)\n",
    "\n",
    "In this version:\n",
    "- Standardize features with StandardScaler\n",
    "- Use TensorFlow/Keras to train a simple MLP\n",
    "- Apply log1p transformation to the target\n",
    "- Save predictions as `submission_nn_fe.csv`\n"
   ]
  },
  {
   "cell_type": "code",
   "execution_count": 23,
   "id": "32cda8ae",
   "metadata": {
    "execution": {
     "iopub.execute_input": "2025-05-15T11:08:23.313369Z",
     "iopub.status.busy": "2025-05-15T11:08:23.311382Z",
     "iopub.status.idle": "2025-05-15T11:08:42.627962Z",
     "shell.execute_reply": "2025-05-15T11:08:42.627073Z"
    },
    "papermill": {
     "duration": 19.328039,
     "end_time": "2025-05-15T11:08:42.629741",
     "exception": false,
     "start_time": "2025-05-15T11:08:23.301702",
     "status": "completed"
    },
    "tags": []
   },
   "outputs": [
    {
     "name": "stderr",
     "output_type": "stream",
     "text": [
      "2025-05-15 11:08:25.778935: E external/local_xla/xla/stream_executor/cuda/cuda_fft.cc:477] Unable to register cuFFT factory: Attempting to register factory for plugin cuFFT when one has already been registered\n",
      "WARNING: All log messages before absl::InitializeLog() is called are written to STDERR\n",
      "E0000 00:00:1747307306.058182      13 cuda_dnn.cc:8310] Unable to register cuDNN factory: Attempting to register factory for plugin cuDNN when one has already been registered\n",
      "E0000 00:00:1747307306.140092      13 cuda_blas.cc:1418] Unable to register cuBLAS factory: Attempting to register factory for plugin cuBLAS when one has already been registered\n"
     ]
    }
   ],
   "source": [
    "from sklearn.preprocessing import StandardScaler\n",
    "import tensorflow as tf\n",
    "from tensorflow import keras\n",
    "from sklearn.model_selection import train_test_split\n",
    "\n",
    "# Define features and target\n",
    "X = train.drop(columns=['id', 'Calories'])\n",
    "y = train['Calories']\n",
    "\n",
    "# Standardize the features\n",
    "scaler = StandardScaler()\n",
    "X_scaled = scaler.fit_transform(X)\n",
    "\n",
    "# Prepare test set as well\n",
    "X_test = test.drop(columns=['id'])\n",
    "X_test_scaled = scaler.transform(X_test)\n",
    "\n",
    "# Train-validation split\n",
    "X_train, X_val, y_train, y_val = train_test_split(X_scaled, y, test_size=0.2, random_state=42)\n",
    "\n",
    "# Log transform the target\n",
    "y_train_log = np.log1p(y_train)\n",
    "y_val_log = np.log1p(y_val)"
   ]
  },
  {
   "cell_type": "code",
   "execution_count": 24,
   "id": "c060bc80",
   "metadata": {
    "execution": {
     "iopub.execute_input": "2025-05-15T11:08:42.654420Z",
     "iopub.status.busy": "2025-05-15T11:08:42.653714Z",
     "iopub.status.idle": "2025-05-15T11:10:43.379377Z",
     "shell.execute_reply": "2025-05-15T11:10:43.378645Z"
    },
    "papermill": {
     "duration": 120.844983,
     "end_time": "2025-05-15T11:10:43.490160",
     "exception": false,
     "start_time": "2025-05-15T11:08:42.645177",
     "status": "completed"
    },
    "tags": []
   },
   "outputs": [
    {
     "name": "stderr",
     "output_type": "stream",
     "text": [
      "/usr/local/lib/python3.11/dist-packages/keras/src/layers/core/dense.py:87: UserWarning: Do not pass an `input_shape`/`input_dim` argument to a layer. When using Sequential models, prefer using an `Input(shape)` object as the first layer in the model instead.\n",
      "  super().__init__(activity_regularizer=activity_regularizer, **kwargs)\n",
      "2025-05-15 11:08:42.745104: E external/local_xla/xla/stream_executor/cuda/cuda_driver.cc:152] failed call to cuInit: INTERNAL: CUDA error: Failed call to cuInit: UNKNOWN ERROR (303)\n"
     ]
    },
    {
     "name": "stdout",
     "output_type": "stream",
     "text": [
      "Epoch 1/20\n",
      "\u001b[1m1172/1172\u001b[0m \u001b[32m━━━━━━━━━━━━━━━━━━━━\u001b[0m\u001b[37m\u001b[0m \u001b[1m8s\u001b[0m 5ms/step - loss: 1.5163 - val_loss: 0.0108\n",
      "Epoch 2/20\n",
      "\u001b[1m1172/1172\u001b[0m \u001b[32m━━━━━━━━━━━━━━━━━━━━\u001b[0m\u001b[37m\u001b[0m \u001b[1m7s\u001b[0m 6ms/step - loss: 0.2368 - val_loss: 0.0101\n",
      "Epoch 3/20\n",
      "\u001b[1m1172/1172\u001b[0m \u001b[32m━━━━━━━━━━━━━━━━━━━━\u001b[0m\u001b[37m\u001b[0m \u001b[1m7s\u001b[0m 6ms/step - loss: 0.1727 - val_loss: 0.0048\n",
      "Epoch 4/20\n",
      "\u001b[1m1172/1172\u001b[0m \u001b[32m━━━━━━━━━━━━━━━━━━━━\u001b[0m\u001b[37m\u001b[0m \u001b[1m6s\u001b[0m 5ms/step - loss: 0.1319 - val_loss: 0.0074\n",
      "Epoch 5/20\n",
      "\u001b[1m1172/1172\u001b[0m \u001b[32m━━━━━━━━━━━━━━━━━━━━\u001b[0m\u001b[37m\u001b[0m \u001b[1m6s\u001b[0m 5ms/step - loss: 0.0928 - val_loss: 0.0093\n",
      "Epoch 6/20\n",
      "\u001b[1m1172/1172\u001b[0m \u001b[32m━━━━━━━━━━━━━━━━━━━━\u001b[0m\u001b[37m\u001b[0m \u001b[1m6s\u001b[0m 5ms/step - loss: 0.0608 - val_loss: 0.0168\n",
      "Epoch 7/20\n",
      "\u001b[1m1172/1172\u001b[0m \u001b[32m━━━━━━━━━━━━━━━━━━━━\u001b[0m\u001b[37m\u001b[0m \u001b[1m6s\u001b[0m 5ms/step - loss: 0.0391 - val_loss: 0.0168\n",
      "Epoch 8/20\n",
      "\u001b[1m1172/1172\u001b[0m \u001b[32m━━━━━━━━━━━━━━━━━━━━\u001b[0m\u001b[37m\u001b[0m \u001b[1m6s\u001b[0m 5ms/step - loss: 0.0276 - val_loss: 0.0214\n",
      "Epoch 9/20\n",
      "\u001b[1m1172/1172\u001b[0m \u001b[32m━━━━━━━━━━━━━━━━━━━━\u001b[0m\u001b[37m\u001b[0m \u001b[1m6s\u001b[0m 5ms/step - loss: 0.0230 - val_loss: 0.0214\n",
      "Epoch 10/20\n",
      "\u001b[1m1172/1172\u001b[0m \u001b[32m━━━━━━━━━━━━━━━━━━━━\u001b[0m\u001b[37m\u001b[0m \u001b[1m6s\u001b[0m 5ms/step - loss: 0.0219 - val_loss: 0.0292\n",
      "Epoch 11/20\n",
      "\u001b[1m1172/1172\u001b[0m \u001b[32m━━━━━━━━━━━━━━━━━━━━\u001b[0m\u001b[37m\u001b[0m \u001b[1m6s\u001b[0m 5ms/step - loss: 0.0214 - val_loss: 0.0293\n",
      "Epoch 12/20\n",
      "\u001b[1m1172/1172\u001b[0m \u001b[32m━━━━━━━━━━━━━━━━━━━━\u001b[0m\u001b[37m\u001b[0m \u001b[1m6s\u001b[0m 5ms/step - loss: 0.0212 - val_loss: 0.0296\n",
      "Epoch 13/20\n",
      "\u001b[1m1172/1172\u001b[0m \u001b[32m━━━━━━━━━━━━━━━━━━━━\u001b[0m\u001b[37m\u001b[0m \u001b[1m6s\u001b[0m 5ms/step - loss: 0.0210 - val_loss: 0.0317\n",
      "Epoch 14/20\n",
      "\u001b[1m1172/1172\u001b[0m \u001b[32m━━━━━━━━━━━━━━━━━━━━\u001b[0m\u001b[37m\u001b[0m \u001b[1m6s\u001b[0m 5ms/step - loss: 0.0209 - val_loss: 0.0334\n",
      "Epoch 15/20\n",
      "\u001b[1m1172/1172\u001b[0m \u001b[32m━━━━━━━━━━━━━━━━━━━━\u001b[0m\u001b[37m\u001b[0m \u001b[1m6s\u001b[0m 5ms/step - loss: 0.0207 - val_loss: 0.0335\n",
      "Epoch 16/20\n",
      "\u001b[1m1172/1172\u001b[0m \u001b[32m━━━━━━━━━━━━━━━━━━━━\u001b[0m\u001b[37m\u001b[0m \u001b[1m6s\u001b[0m 5ms/step - loss: 0.0209 - val_loss: 0.0352\n",
      "Epoch 17/20\n",
      "\u001b[1m1172/1172\u001b[0m \u001b[32m━━━━━━━━━━━━━━━━━━━━\u001b[0m\u001b[37m\u001b[0m \u001b[1m6s\u001b[0m 5ms/step - loss: 0.0207 - val_loss: 0.0320\n",
      "Epoch 18/20\n",
      "\u001b[1m1172/1172\u001b[0m \u001b[32m━━━━━━━━━━━━━━━━━━━━\u001b[0m\u001b[37m\u001b[0m \u001b[1m6s\u001b[0m 5ms/step - loss: 0.0203 - val_loss: 0.0282\n",
      "Epoch 19/20\n",
      "\u001b[1m1172/1172\u001b[0m \u001b[32m━━━━━━━━━━━━━━━━━━━━\u001b[0m\u001b[37m\u001b[0m \u001b[1m6s\u001b[0m 5ms/step - loss: 0.0204 - val_loss: 0.0295\n",
      "Epoch 20/20\n",
      "\u001b[1m1172/1172\u001b[0m \u001b[32m━━━━━━━━━━━━━━━━━━━━\u001b[0m\u001b[37m\u001b[0m \u001b[1m6s\u001b[0m 5ms/step - loss: 0.0204 - val_loss: 0.0349\n"
     ]
    },
    {
     "data": {
      "text/plain": [
       "<keras.src.callbacks.history.History at 0x7f41fbe20510>"
      ]
     },
     "execution_count": 24,
     "metadata": {},
     "output_type": "execute_result"
    }
   ],
   "source": [
    "model = keras.Sequential([\n",
    "    keras.layers.Dense(128, activation='relu', input_shape=(X_train.shape[1],)),\n",
    "    keras.layers.Dropout(0.3),\n",
    "    keras.layers.Dense(64, activation='relu'),\n",
    "    keras.layers.Dropout(0.3),\n",
    "    keras.layers.Dense(1)\n",
    "])\n",
    "\n",
    "model.compile(optimizer='adam', loss='mse')\n",
    "\n",
    "# Train the model\n",
    "model.fit(X_train, y_train_log, epochs=20, batch_size=512, validation_data=(X_val, y_val_log), verbose=1)"
   ]
  },
  {
   "cell_type": "code",
   "execution_count": 25,
   "id": "94351fd0",
   "metadata": {
    "execution": {
     "iopub.execute_input": "2025-05-15T11:10:43.714169Z",
     "iopub.status.busy": "2025-05-15T11:10:43.713856Z",
     "iopub.status.idle": "2025-05-15T11:10:50.906646Z",
     "shell.execute_reply": "2025-05-15T11:10:50.905567Z"
    },
    "papermill": {
     "duration": 7.303807,
     "end_time": "2025-05-15T11:10:50.908056",
     "exception": false,
     "start_time": "2025-05-15T11:10:43.604249",
     "status": "completed"
    },
    "tags": []
   },
   "outputs": [
    {
     "name": "stdout",
     "output_type": "stream",
     "text": [
      "\u001b[1m4688/4688\u001b[0m \u001b[32m━━━━━━━━━━━━━━━━━━━━\u001b[0m\u001b[37m\u001b[0m \u001b[1m5s\u001b[0m 1ms/step\n",
      "MLP Validation RMSE (log): 0.1869\n"
     ]
    }
   ],
   "source": [
    "val_preds_log = model.predict(X_val).flatten()\n",
    "rmse_log = np.sqrt(mean_squared_error(y_val_log, val_preds_log))\n",
    "print(f\"MLP Validation RMSE (log): {rmse_log:.4f}\")"
   ]
  },
  {
   "cell_type": "code",
   "execution_count": 26,
   "id": "cf03c0c7",
   "metadata": {
    "execution": {
     "iopub.execute_input": "2025-05-15T11:10:51.164841Z",
     "iopub.status.busy": "2025-05-15T11:10:51.164450Z",
     "iopub.status.idle": "2025-05-15T11:11:03.590947Z",
     "shell.execute_reply": "2025-05-15T11:11:03.589539Z"
    },
    "papermill": {
     "duration": 12.550784,
     "end_time": "2025-05-15T11:11:03.593075",
     "exception": false,
     "start_time": "2025-05-15T11:10:51.042291",
     "status": "completed"
    },
    "tags": []
   },
   "outputs": [
    {
     "name": "stdout",
     "output_type": "stream",
     "text": [
      "\u001b[1m7813/7813\u001b[0m \u001b[32m━━━━━━━━━━━━━━━━━━━━\u001b[0m\u001b[37m\u001b[0m \u001b[1m8s\u001b[0m 1ms/step\n"
     ]
    }
   ],
   "source": [
    "test_preds_log = model.predict(X_test_scaled).flatten()\n",
    "test_preds = np.expm1(test_preds_log)\n",
    "test_preds = np.maximum(0, test_preds)\n",
    "\n",
    "sample_submission['Calories'] = test_preds\n",
    "sample_submission.to_csv(\"submission_nn_fe.csv\", index=False)"
   ]
  },
  {
   "cell_type": "markdown",
   "id": "99dc7e29",
   "metadata": {
    "papermill": {
     "duration": 0.123198,
     "end_time": "2025-05-15T11:11:03.860260",
     "exception": false,
     "start_time": "2025-05-15T11:11:03.737062",
     "status": "completed"
    },
    "tags": []
   },
   "source": [
    "## 🧮 Version 6: Model Ensemble (XGBoost + CatBoost + MLP)\n",
    "\n",
    "This version combines predictions from:\n",
    "- XGBoost (`submission_xgb_fe.csv`)\n",
    "- CatBoost (`submission_cb_fe.csv`)\n",
    "- MLP (`submission_nn_fe.csv`)\n",
    "\n",
    "Weights:\n",
    "- 0.45 XGB\n",
    "- 0.45 CatBoost\n",
    "- 0.10 MLP"
   ]
  },
  {
   "cell_type": "code",
   "execution_count": 27,
   "id": "c194ff7d",
   "metadata": {
    "execution": {
     "iopub.execute_input": "2025-05-15T11:11:04.109505Z",
     "iopub.status.busy": "2025-05-15T11:11:04.109086Z",
     "iopub.status.idle": "2025-05-15T11:11:04.324643Z",
     "shell.execute_reply": "2025-05-15T11:11:04.323705Z"
    },
    "papermill": {
     "duration": 0.341227,
     "end_time": "2025-05-15T11:11:04.326238",
     "exception": false,
     "start_time": "2025-05-15T11:11:03.985011",
     "status": "completed"
    },
    "tags": []
   },
   "outputs": [],
   "source": [
    "xgb = pd.read_csv(\"/kaggle/working/submission_xgb_fe.csv\")\n",
    "cat = pd.read_csv(\"/kaggle/working/submission_cb_fe.csv\")\n",
    "mlp = pd.read_csv(\"/kaggle/working/submission_nn_fe.csv\")"
   ]
  },
  {
   "cell_type": "code",
   "execution_count": 28,
   "id": "9ebb5be5",
   "metadata": {
    "execution": {
     "iopub.execute_input": "2025-05-15T11:11:04.572743Z",
     "iopub.status.busy": "2025-05-15T11:11:04.572353Z",
     "iopub.status.idle": "2025-05-15T11:11:04.593609Z",
     "shell.execute_reply": "2025-05-15T11:11:04.592704Z"
    },
    "papermill": {
     "duration": 0.146866,
     "end_time": "2025-05-15T11:11:04.595390",
     "exception": false,
     "start_time": "2025-05-15T11:11:04.448524",
     "status": "completed"
    },
    "tags": []
   },
   "outputs": [],
   "source": [
    "ensemble = pd.DataFrame()\n",
    "ensemble['id'] = xgb['id']\n",
    "ensemble['Calories'] = (\n",
    "    0.45 * xgb['Calories'] +\n",
    "    0.45 * cat['Calories'] +\n",
    "    0.10 * mlp['Calories']\n",
    ")\n",
    "\n",
    "# Clip predictions to valid range [1, 314] for MSLE\n",
    "ensemble['Calories'] = np.clip(ensemble['Calories'], 1, 314)"
   ]
  },
  {
   "cell_type": "code",
   "execution_count": 29,
   "id": "15e4c32f",
   "metadata": {
    "execution": {
     "iopub.execute_input": "2025-05-15T11:11:04.916369Z",
     "iopub.status.busy": "2025-05-15T11:11:04.916043Z",
     "iopub.status.idle": "2025-05-15T11:11:05.488313Z",
     "shell.execute_reply": "2025-05-15T11:11:05.487470Z"
    },
    "papermill": {
     "duration": 0.765145,
     "end_time": "2025-05-15T11:11:05.490006",
     "exception": false,
     "start_time": "2025-05-15T11:11:04.724861",
     "status": "completed"
    },
    "tags": []
   },
   "outputs": [],
   "source": [
    "ensemble.to_csv(\"submission_ensemble.csv\", index=False)"
   ]
  }
 ],
 "metadata": {
  "kaggle": {
   "accelerator": "none",
   "dataSources": [
    {
     "databundleVersionId": 11893428,
     "sourceId": 91716,
     "sourceType": "competition"
    }
   ],
   "dockerImageVersionId": 31040,
   "isGpuEnabled": false,
   "isInternetEnabled": true,
   "language": "python",
   "sourceType": "notebook"
  },
  "kernelspec": {
   "display_name": "Python 3",
   "language": "python",
   "name": "python3"
  },
  "language_info": {
   "codemirror_mode": {
    "name": "ipython",
    "version": 3
   },
   "file_extension": ".py",
   "mimetype": "text/x-python",
   "name": "python",
   "nbconvert_exporter": "python",
   "pygments_lexer": "ipython3",
   "version": "3.11.11"
  },
  "papermill": {
   "default_parameters": {},
   "duration": 215.41904,
   "end_time": "2025-05-15T11:11:08.259197",
   "environment_variables": {},
   "exception": null,
   "input_path": "__notebook__.ipynb",
   "output_path": "__notebook__.ipynb",
   "parameters": {},
   "start_time": "2025-05-15T11:07:32.840157",
   "version": "2.6.0"
  }
 },
 "nbformat": 4,
 "nbformat_minor": 5
}
